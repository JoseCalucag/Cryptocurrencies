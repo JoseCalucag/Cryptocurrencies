{
 "cells": [
  {
   "cell_type": "markdown",
   "metadata": {},
   "source": [
    "# Clustering Crypto"
   ]
  },
  {
   "cell_type": "code",
   "execution_count": 16,
   "metadata": {},
   "outputs": [],
   "source": [
    "# Initial imports\n",
    "import pandas as pd\n",
    "import hvplot.pandas\n",
    "from path import Path\n",
    "import plotly.express as px\n",
    "from sklearn.preprocessing import StandardScaler, MinMaxScaler\n",
    "from sklearn.decomposition import PCA\n",
    "from sklearn.cluster import KMeans"
   ]
  },
  {
   "cell_type": "markdown",
   "metadata": {},
   "source": [
    "### Deliverable 1: Preprocessing the Data for PCA"
   ]
  },
  {
   "cell_type": "code",
   "execution_count": 21,
   "metadata": {},
   "outputs": [
    {
     "data": {
      "text/html": [
       "<div>\n",
       "<style scoped>\n",
       "    .dataframe tbody tr th:only-of-type {\n",
       "        vertical-align: middle;\n",
       "    }\n",
       "\n",
       "    .dataframe tbody tr th {\n",
       "        vertical-align: top;\n",
       "    }\n",
       "\n",
       "    .dataframe thead th {\n",
       "        text-align: right;\n",
       "    }\n",
       "</style>\n",
       "<table border=\"1\" class=\"dataframe\">\n",
       "  <thead>\n",
       "    <tr style=\"text-align: right;\">\n",
       "      <th></th>\n",
       "      <th>CoinName</th>\n",
       "      <th>Algorithm</th>\n",
       "      <th>IsTrading</th>\n",
       "      <th>ProofType</th>\n",
       "      <th>TotalCoinsMined</th>\n",
       "      <th>TotalCoinSupply</th>\n",
       "    </tr>\n",
       "  </thead>\n",
       "  <tbody>\n",
       "    <tr>\n",
       "      <th>42</th>\n",
       "      <td>42 Coin</td>\n",
       "      <td>Scrypt</td>\n",
       "      <td>True</td>\n",
       "      <td>PoW/PoS</td>\n",
       "      <td>4.199995e+01</td>\n",
       "      <td>42</td>\n",
       "    </tr>\n",
       "    <tr>\n",
       "      <th>365</th>\n",
       "      <td>365Coin</td>\n",
       "      <td>X11</td>\n",
       "      <td>True</td>\n",
       "      <td>PoW/PoS</td>\n",
       "      <td>NaN</td>\n",
       "      <td>2300000000</td>\n",
       "    </tr>\n",
       "    <tr>\n",
       "      <th>404</th>\n",
       "      <td>404Coin</td>\n",
       "      <td>Scrypt</td>\n",
       "      <td>True</td>\n",
       "      <td>PoW/PoS</td>\n",
       "      <td>1.055185e+09</td>\n",
       "      <td>532000000</td>\n",
       "    </tr>\n",
       "    <tr>\n",
       "      <th>611</th>\n",
       "      <td>SixEleven</td>\n",
       "      <td>SHA-256</td>\n",
       "      <td>True</td>\n",
       "      <td>PoW</td>\n",
       "      <td>NaN</td>\n",
       "      <td>611000</td>\n",
       "    </tr>\n",
       "    <tr>\n",
       "      <th>808</th>\n",
       "      <td>808</td>\n",
       "      <td>SHA-256</td>\n",
       "      <td>True</td>\n",
       "      <td>PoW/PoS</td>\n",
       "      <td>0.000000e+00</td>\n",
       "      <td>0</td>\n",
       "    </tr>\n",
       "    <tr>\n",
       "      <th>...</th>\n",
       "      <td>...</td>\n",
       "      <td>...</td>\n",
       "      <td>...</td>\n",
       "      <td>...</td>\n",
       "      <td>...</td>\n",
       "      <td>...</td>\n",
       "    </tr>\n",
       "    <tr>\n",
       "      <th>XBC</th>\n",
       "      <td>BitcoinPlus</td>\n",
       "      <td>Scrypt</td>\n",
       "      <td>True</td>\n",
       "      <td>PoS</td>\n",
       "      <td>1.283270e+05</td>\n",
       "      <td>1000000</td>\n",
       "    </tr>\n",
       "    <tr>\n",
       "      <th>DVTC</th>\n",
       "      <td>DivotyCoin</td>\n",
       "      <td>Scrypt</td>\n",
       "      <td>False</td>\n",
       "      <td>PoW/PoS</td>\n",
       "      <td>2.149121e+07</td>\n",
       "      <td>100000000</td>\n",
       "    </tr>\n",
       "    <tr>\n",
       "      <th>GIOT</th>\n",
       "      <td>Giotto Coin</td>\n",
       "      <td>Scrypt</td>\n",
       "      <td>False</td>\n",
       "      <td>PoW/PoS</td>\n",
       "      <td>NaN</td>\n",
       "      <td>233100000</td>\n",
       "    </tr>\n",
       "    <tr>\n",
       "      <th>OPSC</th>\n",
       "      <td>OpenSourceCoin</td>\n",
       "      <td>SHA-256</td>\n",
       "      <td>False</td>\n",
       "      <td>PoW/PoS</td>\n",
       "      <td>NaN</td>\n",
       "      <td>21000000</td>\n",
       "    </tr>\n",
       "    <tr>\n",
       "      <th>PUNK</th>\n",
       "      <td>SteamPunk</td>\n",
       "      <td>PoS</td>\n",
       "      <td>False</td>\n",
       "      <td>PoS</td>\n",
       "      <td>NaN</td>\n",
       "      <td>40000000</td>\n",
       "    </tr>\n",
       "  </tbody>\n",
       "</table>\n",
       "<p>1252 rows × 6 columns</p>\n",
       "</div>"
      ],
      "text/plain": [
       "            CoinName Algorithm  IsTrading ProofType  TotalCoinsMined  \\\n",
       "42           42 Coin    Scrypt       True   PoW/PoS     4.199995e+01   \n",
       "365          365Coin       X11       True   PoW/PoS              NaN   \n",
       "404          404Coin    Scrypt       True   PoW/PoS     1.055185e+09   \n",
       "611        SixEleven   SHA-256       True       PoW              NaN   \n",
       "808              808   SHA-256       True   PoW/PoS     0.000000e+00   \n",
       "...              ...       ...        ...       ...              ...   \n",
       "XBC      BitcoinPlus    Scrypt       True       PoS     1.283270e+05   \n",
       "DVTC      DivotyCoin    Scrypt      False   PoW/PoS     2.149121e+07   \n",
       "GIOT     Giotto Coin    Scrypt      False   PoW/PoS              NaN   \n",
       "OPSC  OpenSourceCoin   SHA-256      False   PoW/PoS              NaN   \n",
       "PUNK       SteamPunk       PoS      False       PoS              NaN   \n",
       "\n",
       "     TotalCoinSupply  \n",
       "42                42  \n",
       "365       2300000000  \n",
       "404        532000000  \n",
       "611           611000  \n",
       "808                0  \n",
       "...              ...  \n",
       "XBC          1000000  \n",
       "DVTC       100000000  \n",
       "GIOT       233100000  \n",
       "OPSC        21000000  \n",
       "PUNK        40000000  \n",
       "\n",
       "[1252 rows x 6 columns]"
      ]
     },
     "execution_count": 21,
     "metadata": {},
     "output_type": "execute_result"
    }
   ],
   "source": [
    "# Load the crypto_data.csv dataset\n",
    "filepath = \"Resources/crypto_data.csv\"\n",
    "crypto_df = pd.read_csv(filepath, index_col=0)\n",
    "crypto_df"
   ]
  },
  {
   "cell_type": "code",
   "execution_count": 32,
   "metadata": {},
   "outputs": [
    {
     "data": {
      "text/html": [
       "<div>\n",
       "<style scoped>\n",
       "    .dataframe tbody tr th:only-of-type {\n",
       "        vertical-align: middle;\n",
       "    }\n",
       "\n",
       "    .dataframe tbody tr th {\n",
       "        vertical-align: top;\n",
       "    }\n",
       "\n",
       "    .dataframe thead th {\n",
       "        text-align: right;\n",
       "    }\n",
       "</style>\n",
       "<table border=\"1\" class=\"dataframe\">\n",
       "  <thead>\n",
       "    <tr style=\"text-align: right;\">\n",
       "      <th></th>\n",
       "      <th>CoinName</th>\n",
       "      <th>Algorithm</th>\n",
       "      <th>IsTrading</th>\n",
       "      <th>ProofType</th>\n",
       "      <th>TotalCoinsMined</th>\n",
       "      <th>TotalCoinSupply</th>\n",
       "    </tr>\n",
       "  </thead>\n",
       "  <tbody>\n",
       "    <tr>\n",
       "      <th>42</th>\n",
       "      <td>42 Coin</td>\n",
       "      <td>Scrypt</td>\n",
       "      <td>True</td>\n",
       "      <td>PoW/PoS</td>\n",
       "      <td>4.199995e+01</td>\n",
       "      <td>42</td>\n",
       "    </tr>\n",
       "    <tr>\n",
       "      <th>365</th>\n",
       "      <td>365Coin</td>\n",
       "      <td>X11</td>\n",
       "      <td>True</td>\n",
       "      <td>PoW/PoS</td>\n",
       "      <td>NaN</td>\n",
       "      <td>2300000000</td>\n",
       "    </tr>\n",
       "    <tr>\n",
       "      <th>404</th>\n",
       "      <td>404Coin</td>\n",
       "      <td>Scrypt</td>\n",
       "      <td>True</td>\n",
       "      <td>PoW/PoS</td>\n",
       "      <td>1.055185e+09</td>\n",
       "      <td>532000000</td>\n",
       "    </tr>\n",
       "    <tr>\n",
       "      <th>611</th>\n",
       "      <td>SixEleven</td>\n",
       "      <td>SHA-256</td>\n",
       "      <td>True</td>\n",
       "      <td>PoW</td>\n",
       "      <td>NaN</td>\n",
       "      <td>611000</td>\n",
       "    </tr>\n",
       "    <tr>\n",
       "      <th>808</th>\n",
       "      <td>808</td>\n",
       "      <td>SHA-256</td>\n",
       "      <td>True</td>\n",
       "      <td>PoW/PoS</td>\n",
       "      <td>0.000000e+00</td>\n",
       "      <td>0</td>\n",
       "    </tr>\n",
       "    <tr>\n",
       "      <th>...</th>\n",
       "      <td>...</td>\n",
       "      <td>...</td>\n",
       "      <td>...</td>\n",
       "      <td>...</td>\n",
       "      <td>...</td>\n",
       "      <td>...</td>\n",
       "    </tr>\n",
       "    <tr>\n",
       "      <th>SERO</th>\n",
       "      <td>Super Zero</td>\n",
       "      <td>Ethash</td>\n",
       "      <td>True</td>\n",
       "      <td>PoW</td>\n",
       "      <td>NaN</td>\n",
       "      <td>1000000000</td>\n",
       "    </tr>\n",
       "    <tr>\n",
       "      <th>UOS</th>\n",
       "      <td>UOS</td>\n",
       "      <td>SHA-256</td>\n",
       "      <td>True</td>\n",
       "      <td>DPoI</td>\n",
       "      <td>NaN</td>\n",
       "      <td>1000000000</td>\n",
       "    </tr>\n",
       "    <tr>\n",
       "      <th>BDX</th>\n",
       "      <td>Beldex</td>\n",
       "      <td>CryptoNight</td>\n",
       "      <td>True</td>\n",
       "      <td>PoW</td>\n",
       "      <td>9.802226e+08</td>\n",
       "      <td>1400222610</td>\n",
       "    </tr>\n",
       "    <tr>\n",
       "      <th>ZEN</th>\n",
       "      <td>Horizen</td>\n",
       "      <td>Equihash</td>\n",
       "      <td>True</td>\n",
       "      <td>PoW</td>\n",
       "      <td>7.296538e+06</td>\n",
       "      <td>21000000</td>\n",
       "    </tr>\n",
       "    <tr>\n",
       "      <th>XBC</th>\n",
       "      <td>BitcoinPlus</td>\n",
       "      <td>Scrypt</td>\n",
       "      <td>True</td>\n",
       "      <td>PoS</td>\n",
       "      <td>1.283270e+05</td>\n",
       "      <td>1000000</td>\n",
       "    </tr>\n",
       "  </tbody>\n",
       "</table>\n",
       "<p>1144 rows × 6 columns</p>\n",
       "</div>"
      ],
      "text/plain": [
       "         CoinName    Algorithm  IsTrading ProofType  TotalCoinsMined  \\\n",
       "42        42 Coin       Scrypt       True   PoW/PoS     4.199995e+01   \n",
       "365       365Coin          X11       True   PoW/PoS              NaN   \n",
       "404       404Coin       Scrypt       True   PoW/PoS     1.055185e+09   \n",
       "611     SixEleven      SHA-256       True       PoW              NaN   \n",
       "808           808      SHA-256       True   PoW/PoS     0.000000e+00   \n",
       "...           ...          ...        ...       ...              ...   \n",
       "SERO   Super Zero       Ethash       True       PoW              NaN   \n",
       "UOS           UOS      SHA-256       True      DPoI              NaN   \n",
       "BDX        Beldex  CryptoNight       True       PoW     9.802226e+08   \n",
       "ZEN       Horizen     Equihash       True       PoW     7.296538e+06   \n",
       "XBC   BitcoinPlus       Scrypt       True       PoS     1.283270e+05   \n",
       "\n",
       "     TotalCoinSupply  \n",
       "42                42  \n",
       "365       2300000000  \n",
       "404        532000000  \n",
       "611           611000  \n",
       "808                0  \n",
       "...              ...  \n",
       "SERO      1000000000  \n",
       "UOS       1000000000  \n",
       "BDX       1400222610  \n",
       "ZEN         21000000  \n",
       "XBC          1000000  \n",
       "\n",
       "[1144 rows x 6 columns]"
      ]
     },
     "execution_count": 32,
     "metadata": {},
     "output_type": "execute_result"
    }
   ],
   "source": [
    "# Keep all the cryptocurrencies that are being traded.\n",
    "traded_crypto = crypto_df[crypto_df['IsTrading'] == True]\n",
    "traded_crypto"
   ]
  },
  {
   "cell_type": "code",
   "execution_count": 51,
   "metadata": {},
   "outputs": [
    {
     "data": {
      "text/plain": [
       "Index(['CoinName', 'Algorithm', 'IsTrading', 'ProofType', 'TotalCoinsMined',\n",
       "       'TotalCoinSupply'],\n",
       "      dtype='object')"
      ]
     },
     "execution_count": 51,
     "metadata": {},
     "output_type": "execute_result"
    }
   ],
   "source": [
    "traded_crypto.columns"
   ]
  },
  {
   "cell_type": "code",
   "execution_count": 43,
   "metadata": {},
   "outputs": [
    {
     "name": "stdout",
     "output_type": "stream",
     "text": [
      " There are 0 cryptocurrancies that do not have an algorithm.\n"
     ]
    }
   ],
   "source": [
    "# Search if there are any cryptocurrencies that have no algorithm\n",
    "import numpy as np\n",
    "\n",
    "print(f\" There are {traded_crypto['Algorithm'].isna().isnull().sum()} cryptocurrancies that do not have an algorithm.\")"
   ]
  },
  {
   "cell_type": "code",
   "execution_count": 106,
   "metadata": {},
   "outputs": [
    {
     "data": {
      "text/html": [
       "<div>\n",
       "<style scoped>\n",
       "    .dataframe tbody tr th:only-of-type {\n",
       "        vertical-align: middle;\n",
       "    }\n",
       "\n",
       "    .dataframe tbody tr th {\n",
       "        vertical-align: top;\n",
       "    }\n",
       "\n",
       "    .dataframe thead th {\n",
       "        text-align: right;\n",
       "    }\n",
       "</style>\n",
       "<table border=\"1\" class=\"dataframe\">\n",
       "  <thead>\n",
       "    <tr style=\"text-align: right;\">\n",
       "      <th></th>\n",
       "      <th>CoinName</th>\n",
       "      <th>Algorithm</th>\n",
       "      <th>ProofType</th>\n",
       "      <th>TotalCoinsMined</th>\n",
       "      <th>TotalCoinSupply</th>\n",
       "    </tr>\n",
       "  </thead>\n",
       "  <tbody>\n",
       "    <tr>\n",
       "      <th>42</th>\n",
       "      <td>42 Coin</td>\n",
       "      <td>Scrypt</td>\n",
       "      <td>PoW/PoS</td>\n",
       "      <td>4.199995e+01</td>\n",
       "      <td>42</td>\n",
       "    </tr>\n",
       "    <tr>\n",
       "      <th>365</th>\n",
       "      <td>365Coin</td>\n",
       "      <td>X11</td>\n",
       "      <td>PoW/PoS</td>\n",
       "      <td>NaN</td>\n",
       "      <td>2300000000</td>\n",
       "    </tr>\n",
       "    <tr>\n",
       "      <th>404</th>\n",
       "      <td>404Coin</td>\n",
       "      <td>Scrypt</td>\n",
       "      <td>PoW/PoS</td>\n",
       "      <td>1.055185e+09</td>\n",
       "      <td>532000000</td>\n",
       "    </tr>\n",
       "    <tr>\n",
       "      <th>611</th>\n",
       "      <td>SixEleven</td>\n",
       "      <td>SHA-256</td>\n",
       "      <td>PoW</td>\n",
       "      <td>NaN</td>\n",
       "      <td>611000</td>\n",
       "    </tr>\n",
       "    <tr>\n",
       "      <th>808</th>\n",
       "      <td>808</td>\n",
       "      <td>SHA-256</td>\n",
       "      <td>PoW/PoS</td>\n",
       "      <td>0.000000e+00</td>\n",
       "      <td>0</td>\n",
       "    </tr>\n",
       "  </tbody>\n",
       "</table>\n",
       "</div>"
      ],
      "text/plain": [
       "      CoinName Algorithm ProofType  TotalCoinsMined TotalCoinSupply\n",
       "42     42 Coin    Scrypt   PoW/PoS     4.199995e+01              42\n",
       "365    365Coin       X11   PoW/PoS              NaN      2300000000\n",
       "404    404Coin    Scrypt   PoW/PoS     1.055185e+09       532000000\n",
       "611  SixEleven   SHA-256       PoW              NaN          611000\n",
       "808        808   SHA-256   PoW/PoS     0.000000e+00               0"
      ]
     },
     "execution_count": 106,
     "metadata": {},
     "output_type": "execute_result"
    }
   ],
   "source": [
    "# Remove the \"IsTrading\" column. \n",
    "tradingCrypto = traded_crpyto.drop(columns=[\"IsTrading\"])\n",
    "tradingCrypto.head()"
   ]
  },
  {
   "cell_type": "code",
   "execution_count": 105,
   "metadata": {},
   "outputs": [
    {
     "data": {
      "text/html": [
       "<div>\n",
       "<style scoped>\n",
       "    .dataframe tbody tr th:only-of-type {\n",
       "        vertical-align: middle;\n",
       "    }\n",
       "\n",
       "    .dataframe tbody tr th {\n",
       "        vertical-align: top;\n",
       "    }\n",
       "\n",
       "    .dataframe thead th {\n",
       "        text-align: right;\n",
       "    }\n",
       "</style>\n",
       "<table border=\"1\" class=\"dataframe\">\n",
       "  <thead>\n",
       "    <tr style=\"text-align: right;\">\n",
       "      <th></th>\n",
       "      <th>CoinName</th>\n",
       "      <th>Algorithm</th>\n",
       "      <th>ProofType</th>\n",
       "      <th>TotalCoinsMined</th>\n",
       "      <th>TotalCoinSupply</th>\n",
       "    </tr>\n",
       "  </thead>\n",
       "  <tbody>\n",
       "    <tr>\n",
       "      <th>42</th>\n",
       "      <td>42 Coin</td>\n",
       "      <td>Scrypt</td>\n",
       "      <td>PoW/PoS</td>\n",
       "      <td>4.199995e+01</td>\n",
       "      <td>42</td>\n",
       "    </tr>\n",
       "    <tr>\n",
       "      <th>404</th>\n",
       "      <td>404Coin</td>\n",
       "      <td>Scrypt</td>\n",
       "      <td>PoW/PoS</td>\n",
       "      <td>1.055185e+09</td>\n",
       "      <td>532000000</td>\n",
       "    </tr>\n",
       "    <tr>\n",
       "      <th>1337</th>\n",
       "      <td>EliteCoin</td>\n",
       "      <td>X13</td>\n",
       "      <td>PoW/PoS</td>\n",
       "      <td>2.927942e+10</td>\n",
       "      <td>314159265359</td>\n",
       "    </tr>\n",
       "    <tr>\n",
       "      <th>BTC</th>\n",
       "      <td>Bitcoin</td>\n",
       "      <td>SHA-256</td>\n",
       "      <td>PoW</td>\n",
       "      <td>1.792718e+07</td>\n",
       "      <td>21000000</td>\n",
       "    </tr>\n",
       "    <tr>\n",
       "      <th>ETH</th>\n",
       "      <td>Ethereum</td>\n",
       "      <td>Ethash</td>\n",
       "      <td>PoW</td>\n",
       "      <td>1.076842e+08</td>\n",
       "      <td>0</td>\n",
       "    </tr>\n",
       "  </tbody>\n",
       "</table>\n",
       "</div>"
      ],
      "text/plain": [
       "       CoinName Algorithm ProofType  TotalCoinsMined TotalCoinSupply\n",
       "42      42 Coin    Scrypt   PoW/PoS     4.199995e+01              42\n",
       "404     404Coin    Scrypt   PoW/PoS     1.055185e+09       532000000\n",
       "1337  EliteCoin       X13   PoW/PoS     2.927942e+10    314159265359\n",
       "BTC     Bitcoin   SHA-256       PoW     1.792718e+07        21000000\n",
       "ETH    Ethereum    Ethash       PoW     1.076842e+08               0"
      ]
     },
     "execution_count": 105,
     "metadata": {},
     "output_type": "execute_result"
    }
   ],
   "source": [
    "# Remove rows that have at least 1 null value.\n",
    "\n",
    "cleanCrypto = tradingCrypto.dropna()\n",
    "cleanCrypto = cleanCrypto[cleanCrypto.TotalCoinsMined > 0]\n",
    "cleanCrypto.head()"
   ]
  },
  {
   "cell_type": "code",
   "execution_count": 110,
   "metadata": {},
   "outputs": [
    {
     "data": {
      "text/html": [
       "<div>\n",
       "<style scoped>\n",
       "    .dataframe tbody tr th:only-of-type {\n",
       "        vertical-align: middle;\n",
       "    }\n",
       "\n",
       "    .dataframe tbody tr th {\n",
       "        vertical-align: top;\n",
       "    }\n",
       "\n",
       "    .dataframe thead th {\n",
       "        text-align: right;\n",
       "    }\n",
       "</style>\n",
       "<table border=\"1\" class=\"dataframe\">\n",
       "  <thead>\n",
       "    <tr style=\"text-align: right;\">\n",
       "      <th></th>\n",
       "      <th>CoinName</th>\n",
       "    </tr>\n",
       "  </thead>\n",
       "  <tbody>\n",
       "    <tr>\n",
       "      <th>42</th>\n",
       "      <td>42 Coin</td>\n",
       "    </tr>\n",
       "    <tr>\n",
       "      <th>404</th>\n",
       "      <td>404Coin</td>\n",
       "    </tr>\n",
       "    <tr>\n",
       "      <th>1337</th>\n",
       "      <td>EliteCoin</td>\n",
       "    </tr>\n",
       "    <tr>\n",
       "      <th>BTC</th>\n",
       "      <td>Bitcoin</td>\n",
       "    </tr>\n",
       "    <tr>\n",
       "      <th>ETH</th>\n",
       "      <td>Ethereum</td>\n",
       "    </tr>\n",
       "    <tr>\n",
       "      <th>...</th>\n",
       "      <td>...</td>\n",
       "    </tr>\n",
       "    <tr>\n",
       "      <th>ZEPH</th>\n",
       "      <td>ZEPHYR</td>\n",
       "    </tr>\n",
       "    <tr>\n",
       "      <th>GAP</th>\n",
       "      <td>Gapcoin</td>\n",
       "    </tr>\n",
       "    <tr>\n",
       "      <th>BDX</th>\n",
       "      <td>Beldex</td>\n",
       "    </tr>\n",
       "    <tr>\n",
       "      <th>ZEN</th>\n",
       "      <td>Horizen</td>\n",
       "    </tr>\n",
       "    <tr>\n",
       "      <th>XBC</th>\n",
       "      <td>BitcoinPlus</td>\n",
       "    </tr>\n",
       "  </tbody>\n",
       "</table>\n",
       "<p>532 rows × 1 columns</p>\n",
       "</div>"
      ],
      "text/plain": [
       "         CoinName\n",
       "42        42 Coin\n",
       "404       404Coin\n",
       "1337    EliteCoin\n",
       "BTC       Bitcoin\n",
       "ETH      Ethereum\n",
       "...           ...\n",
       "ZEPH       ZEPHYR\n",
       "GAP       Gapcoin\n",
       "BDX        Beldex\n",
       "ZEN       Horizen\n",
       "XBC   BitcoinPlus\n",
       "\n",
       "[532 rows x 1 columns]"
      ]
     },
     "execution_count": 110,
     "metadata": {},
     "output_type": "execute_result"
    }
   ],
   "source": [
    "# Create a new DataFrame that holds only the cryptocurrencies names.\n",
    "Crypto_names = pd.DataFrame(cleanCrypto, columns = [\"CoinName\"])\n",
    "Crypto_names"
   ]
  },
  {
   "cell_type": "code",
   "execution_count": 111,
   "metadata": {},
   "outputs": [
    {
     "data": {
      "text/html": [
       "<div>\n",
       "<style scoped>\n",
       "    .dataframe tbody tr th:only-of-type {\n",
       "        vertical-align: middle;\n",
       "    }\n",
       "\n",
       "    .dataframe tbody tr th {\n",
       "        vertical-align: top;\n",
       "    }\n",
       "\n",
       "    .dataframe thead th {\n",
       "        text-align: right;\n",
       "    }\n",
       "</style>\n",
       "<table border=\"1\" class=\"dataframe\">\n",
       "  <thead>\n",
       "    <tr style=\"text-align: right;\">\n",
       "      <th></th>\n",
       "      <th>Algorithm</th>\n",
       "      <th>ProofType</th>\n",
       "      <th>TotalCoinsMined</th>\n",
       "      <th>TotalCoinSupply</th>\n",
       "    </tr>\n",
       "  </thead>\n",
       "  <tbody>\n",
       "    <tr>\n",
       "      <th>42</th>\n",
       "      <td>Scrypt</td>\n",
       "      <td>PoW/PoS</td>\n",
       "      <td>4.199995e+01</td>\n",
       "      <td>42</td>\n",
       "    </tr>\n",
       "    <tr>\n",
       "      <th>404</th>\n",
       "      <td>Scrypt</td>\n",
       "      <td>PoW/PoS</td>\n",
       "      <td>1.055185e+09</td>\n",
       "      <td>532000000</td>\n",
       "    </tr>\n",
       "    <tr>\n",
       "      <th>1337</th>\n",
       "      <td>X13</td>\n",
       "      <td>PoW/PoS</td>\n",
       "      <td>2.927942e+10</td>\n",
       "      <td>314159265359</td>\n",
       "    </tr>\n",
       "    <tr>\n",
       "      <th>BTC</th>\n",
       "      <td>SHA-256</td>\n",
       "      <td>PoW</td>\n",
       "      <td>1.792718e+07</td>\n",
       "      <td>21000000</td>\n",
       "    </tr>\n",
       "    <tr>\n",
       "      <th>ETH</th>\n",
       "      <td>Ethash</td>\n",
       "      <td>PoW</td>\n",
       "      <td>1.076842e+08</td>\n",
       "      <td>0</td>\n",
       "    </tr>\n",
       "    <tr>\n",
       "      <th>LTC</th>\n",
       "      <td>Scrypt</td>\n",
       "      <td>PoW</td>\n",
       "      <td>6.303924e+07</td>\n",
       "      <td>84000000</td>\n",
       "    </tr>\n",
       "    <tr>\n",
       "      <th>DASH</th>\n",
       "      <td>X11</td>\n",
       "      <td>PoW/PoS</td>\n",
       "      <td>9.031294e+06</td>\n",
       "      <td>22000000</td>\n",
       "    </tr>\n",
       "    <tr>\n",
       "      <th>XMR</th>\n",
       "      <td>CryptoNight-V7</td>\n",
       "      <td>PoW</td>\n",
       "      <td>1.720114e+07</td>\n",
       "      <td>0</td>\n",
       "    </tr>\n",
       "    <tr>\n",
       "      <th>ETC</th>\n",
       "      <td>Ethash</td>\n",
       "      <td>PoW</td>\n",
       "      <td>1.133597e+08</td>\n",
       "      <td>210000000</td>\n",
       "    </tr>\n",
       "    <tr>\n",
       "      <th>ZEC</th>\n",
       "      <td>Equihash</td>\n",
       "      <td>PoW</td>\n",
       "      <td>7.383056e+06</td>\n",
       "      <td>21000000</td>\n",
       "    </tr>\n",
       "  </tbody>\n",
       "</table>\n",
       "</div>"
      ],
      "text/plain": [
       "           Algorithm ProofType  TotalCoinsMined TotalCoinSupply\n",
       "42            Scrypt   PoW/PoS     4.199995e+01              42\n",
       "404           Scrypt   PoW/PoS     1.055185e+09       532000000\n",
       "1337             X13   PoW/PoS     2.927942e+10    314159265359\n",
       "BTC          SHA-256       PoW     1.792718e+07        21000000\n",
       "ETH           Ethash       PoW     1.076842e+08               0\n",
       "LTC           Scrypt       PoW     6.303924e+07        84000000\n",
       "DASH             X11   PoW/PoS     9.031294e+06        22000000\n",
       "XMR   CryptoNight-V7       PoW     1.720114e+07               0\n",
       "ETC           Ethash       PoW     1.133597e+08       210000000\n",
       "ZEC         Equihash       PoW     7.383056e+06        21000000"
      ]
     },
     "execution_count": 111,
     "metadata": {},
     "output_type": "execute_result"
    }
   ],
   "source": [
    "# Drop the 'CoinName' column since it's not going to be used on the clustering algorithm.\n",
    "cleanCrypto = cleanCrypto.drop(['CoinName'], axis=1)\n",
    "cleanCrypto.head(10)"
   ]
  },
  {
   "cell_type": "code",
   "execution_count": 112,
   "metadata": {},
   "outputs": [
    {
     "data": {
      "text/html": [
       "<div>\n",
       "<style scoped>\n",
       "    .dataframe tbody tr th:only-of-type {\n",
       "        vertical-align: middle;\n",
       "    }\n",
       "\n",
       "    .dataframe tbody tr th {\n",
       "        vertical-align: top;\n",
       "    }\n",
       "\n",
       "    .dataframe thead th {\n",
       "        text-align: right;\n",
       "    }\n",
       "</style>\n",
       "<table border=\"1\" class=\"dataframe\">\n",
       "  <thead>\n",
       "    <tr style=\"text-align: right;\">\n",
       "      <th></th>\n",
       "      <th>TotalCoinsMined</th>\n",
       "      <th>TotalCoinSupply</th>\n",
       "      <th>Algorithm_1GB AES Pattern Search</th>\n",
       "      <th>Algorithm_536</th>\n",
       "      <th>Algorithm_Argon2d</th>\n",
       "      <th>Algorithm_BLAKE256</th>\n",
       "      <th>Algorithm_Blake</th>\n",
       "      <th>Algorithm_Blake2S</th>\n",
       "      <th>Algorithm_Blake2b</th>\n",
       "      <th>Algorithm_C11</th>\n",
       "      <th>...</th>\n",
       "      <th>ProofType_PoW/PoS</th>\n",
       "      <th>ProofType_PoW/PoS</th>\n",
       "      <th>ProofType_PoW/PoW</th>\n",
       "      <th>ProofType_PoW/nPoS</th>\n",
       "      <th>ProofType_Pos</th>\n",
       "      <th>ProofType_Proof of Authority</th>\n",
       "      <th>ProofType_Proof of Trust</th>\n",
       "      <th>ProofType_TPoS</th>\n",
       "      <th>ProofType_Zero-Knowledge Proof</th>\n",
       "      <th>ProofType_dPoW/PoW</th>\n",
       "    </tr>\n",
       "  </thead>\n",
       "  <tbody>\n",
       "    <tr>\n",
       "      <th>42</th>\n",
       "      <td>4.199995e+01</td>\n",
       "      <td>42</td>\n",
       "      <td>0</td>\n",
       "      <td>0</td>\n",
       "      <td>0</td>\n",
       "      <td>0</td>\n",
       "      <td>0</td>\n",
       "      <td>0</td>\n",
       "      <td>0</td>\n",
       "      <td>0</td>\n",
       "      <td>...</td>\n",
       "      <td>1</td>\n",
       "      <td>0</td>\n",
       "      <td>0</td>\n",
       "      <td>0</td>\n",
       "      <td>0</td>\n",
       "      <td>0</td>\n",
       "      <td>0</td>\n",
       "      <td>0</td>\n",
       "      <td>0</td>\n",
       "      <td>0</td>\n",
       "    </tr>\n",
       "    <tr>\n",
       "      <th>404</th>\n",
       "      <td>1.055185e+09</td>\n",
       "      <td>532000000</td>\n",
       "      <td>0</td>\n",
       "      <td>0</td>\n",
       "      <td>0</td>\n",
       "      <td>0</td>\n",
       "      <td>0</td>\n",
       "      <td>0</td>\n",
       "      <td>0</td>\n",
       "      <td>0</td>\n",
       "      <td>...</td>\n",
       "      <td>1</td>\n",
       "      <td>0</td>\n",
       "      <td>0</td>\n",
       "      <td>0</td>\n",
       "      <td>0</td>\n",
       "      <td>0</td>\n",
       "      <td>0</td>\n",
       "      <td>0</td>\n",
       "      <td>0</td>\n",
       "      <td>0</td>\n",
       "    </tr>\n",
       "    <tr>\n",
       "      <th>1337</th>\n",
       "      <td>2.927942e+10</td>\n",
       "      <td>314159265359</td>\n",
       "      <td>0</td>\n",
       "      <td>0</td>\n",
       "      <td>0</td>\n",
       "      <td>0</td>\n",
       "      <td>0</td>\n",
       "      <td>0</td>\n",
       "      <td>0</td>\n",
       "      <td>0</td>\n",
       "      <td>...</td>\n",
       "      <td>1</td>\n",
       "      <td>0</td>\n",
       "      <td>0</td>\n",
       "      <td>0</td>\n",
       "      <td>0</td>\n",
       "      <td>0</td>\n",
       "      <td>0</td>\n",
       "      <td>0</td>\n",
       "      <td>0</td>\n",
       "      <td>0</td>\n",
       "    </tr>\n",
       "    <tr>\n",
       "      <th>BTC</th>\n",
       "      <td>1.792718e+07</td>\n",
       "      <td>21000000</td>\n",
       "      <td>0</td>\n",
       "      <td>0</td>\n",
       "      <td>0</td>\n",
       "      <td>0</td>\n",
       "      <td>0</td>\n",
       "      <td>0</td>\n",
       "      <td>0</td>\n",
       "      <td>0</td>\n",
       "      <td>...</td>\n",
       "      <td>0</td>\n",
       "      <td>0</td>\n",
       "      <td>0</td>\n",
       "      <td>0</td>\n",
       "      <td>0</td>\n",
       "      <td>0</td>\n",
       "      <td>0</td>\n",
       "      <td>0</td>\n",
       "      <td>0</td>\n",
       "      <td>0</td>\n",
       "    </tr>\n",
       "    <tr>\n",
       "      <th>ETH</th>\n",
       "      <td>1.076842e+08</td>\n",
       "      <td>0</td>\n",
       "      <td>0</td>\n",
       "      <td>0</td>\n",
       "      <td>0</td>\n",
       "      <td>0</td>\n",
       "      <td>0</td>\n",
       "      <td>0</td>\n",
       "      <td>0</td>\n",
       "      <td>0</td>\n",
       "      <td>...</td>\n",
       "      <td>0</td>\n",
       "      <td>0</td>\n",
       "      <td>0</td>\n",
       "      <td>0</td>\n",
       "      <td>0</td>\n",
       "      <td>0</td>\n",
       "      <td>0</td>\n",
       "      <td>0</td>\n",
       "      <td>0</td>\n",
       "      <td>0</td>\n",
       "    </tr>\n",
       "  </tbody>\n",
       "</table>\n",
       "<p>5 rows × 98 columns</p>\n",
       "</div>"
      ],
      "text/plain": [
       "      TotalCoinsMined TotalCoinSupply  Algorithm_1GB AES Pattern Search  \\\n",
       "42       4.199995e+01              42                                 0   \n",
       "404      1.055185e+09       532000000                                 0   \n",
       "1337     2.927942e+10    314159265359                                 0   \n",
       "BTC      1.792718e+07        21000000                                 0   \n",
       "ETH      1.076842e+08               0                                 0   \n",
       "\n",
       "      Algorithm_536  Algorithm_Argon2d  Algorithm_BLAKE256  Algorithm_Blake  \\\n",
       "42                0                  0                   0                0   \n",
       "404               0                  0                   0                0   \n",
       "1337              0                  0                   0                0   \n",
       "BTC               0                  0                   0                0   \n",
       "ETH               0                  0                   0                0   \n",
       "\n",
       "      Algorithm_Blake2S  Algorithm_Blake2b  Algorithm_C11  ...  \\\n",
       "42                    0                  0              0  ...   \n",
       "404                   0                  0              0  ...   \n",
       "1337                  0                  0              0  ...   \n",
       "BTC                   0                  0              0  ...   \n",
       "ETH                   0                  0              0  ...   \n",
       "\n",
       "      ProofType_PoW/PoS  ProofType_PoW/PoS   ProofType_PoW/PoW  \\\n",
       "42                    1                   0                  0   \n",
       "404                   1                   0                  0   \n",
       "1337                  1                   0                  0   \n",
       "BTC                   0                   0                  0   \n",
       "ETH                   0                   0                  0   \n",
       "\n",
       "      ProofType_PoW/nPoS  ProofType_Pos  ProofType_Proof of Authority  \\\n",
       "42                     0              0                             0   \n",
       "404                    0              0                             0   \n",
       "1337                   0              0                             0   \n",
       "BTC                    0              0                             0   \n",
       "ETH                    0              0                             0   \n",
       "\n",
       "      ProofType_Proof of Trust  ProofType_TPoS  \\\n",
       "42                           0               0   \n",
       "404                          0               0   \n",
       "1337                         0               0   \n",
       "BTC                          0               0   \n",
       "ETH                          0               0   \n",
       "\n",
       "      ProofType_Zero-Knowledge Proof  ProofType_dPoW/PoW  \n",
       "42                                 0                   0  \n",
       "404                                0                   0  \n",
       "1337                               0                   0  \n",
       "BTC                                0                   0  \n",
       "ETH                                0                   0  \n",
       "\n",
       "[5 rows x 98 columns]"
      ]
     },
     "execution_count": 112,
     "metadata": {},
     "output_type": "execute_result"
    }
   ],
   "source": [
    "# Use get_dummies() to create variables for text features.\n",
    "X = pd.get_dummies(cleanCrypto, columns = ['Algorithm', 'ProofType'])\n",
    "X.head()"
   ]
  },
  {
   "cell_type": "code",
   "execution_count": 126,
   "metadata": {},
   "outputs": [
    {
     "name": "stdout",
     "output_type": "stream",
     "text": [
      "[[-0.11710817 -0.1528703  -0.0433963  -0.0433963  -0.0433963  -0.06142951\n",
      "  -0.07530656 -0.0433963  -0.06142951 -0.06142951 -0.0433963  -0.0433963\n",
      "  -0.19245009 -0.06142951 -0.09740465 -0.0433963  -0.11547005 -0.07530656\n",
      "  -0.0433963  -0.0433963  -0.15191091 -0.0433963  -0.13118084 -0.0433963\n",
      "  -0.0433963  -0.08703883 -0.0433963  -0.0433963  -0.0433963  -0.0433963\n",
      "  -0.06142951 -0.0433963  -0.08703883 -0.08703883 -0.08703883 -0.0433963\n",
      "  -0.13118084 -0.13840913 -0.13840913 -0.0433963  -0.06142951 -0.0433963\n",
      "  -0.07530656 -0.18168574 -0.0433963  -0.0433963  -0.0433963  -0.07530656\n",
      "  -0.15826614 -0.31491833 -0.0433963  -0.08703883 -0.07530656 -0.06142951\n",
      "   1.38675049 -0.0433963  -0.0433963  -0.06142951 -0.0433963  -0.0433963\n",
      "  -0.0433963  -0.0433963  -0.0433963  -0.0433963  -0.0433963  -0.0433963\n",
      "  -0.39879994 -0.0433963  -0.18168574 -0.0433963  -0.08703883 -0.08703883\n",
      "  -0.10680283 -0.0433963  -0.13118084 -0.0433963  -0.0433963  -0.0433963\n",
      "  -0.0433963  -0.07530656 -0.43911856 -0.0433963  -0.06142951 -0.0433963\n",
      "  -0.0433963  -0.89632016 -0.0433963  -0.0433963   1.42222617 -0.0433963\n",
      "  -0.0433963  -0.0433963  -0.0433963  -0.0433963  -0.0433963  -0.0433963\n",
      "  -0.0433963  -0.0433963 ]\n",
      " [-0.09396955 -0.145009   -0.0433963  -0.0433963  -0.0433963  -0.06142951\n",
      "  -0.07530656 -0.0433963  -0.06142951 -0.06142951 -0.0433963  -0.0433963\n",
      "  -0.19245009 -0.06142951 -0.09740465 -0.0433963  -0.11547005 -0.07530656\n",
      "  -0.0433963  -0.0433963  -0.15191091 -0.0433963  -0.13118084 -0.0433963\n",
      "  -0.0433963  -0.08703883 -0.0433963  -0.0433963  -0.0433963  -0.0433963\n",
      "  -0.06142951 -0.0433963  -0.08703883 -0.08703883 -0.08703883 -0.0433963\n",
      "  -0.13118084 -0.13840913 -0.13840913 -0.0433963  -0.06142951 -0.0433963\n",
      "  -0.07530656 -0.18168574 -0.0433963  -0.0433963  -0.0433963  -0.07530656\n",
      "  -0.15826614 -0.31491833 -0.0433963  -0.08703883 -0.07530656 -0.06142951\n",
      "   1.38675049 -0.0433963  -0.0433963  -0.06142951 -0.0433963  -0.0433963\n",
      "  -0.0433963  -0.0433963  -0.0433963  -0.0433963  -0.0433963  -0.0433963\n",
      "  -0.39879994 -0.0433963  -0.18168574 -0.0433963  -0.08703883 -0.08703883\n",
      "  -0.10680283 -0.0433963  -0.13118084 -0.0433963  -0.0433963  -0.0433963\n",
      "  -0.0433963  -0.07530656 -0.43911856 -0.0433963  -0.06142951 -0.0433963\n",
      "  -0.0433963  -0.89632016 -0.0433963  -0.0433963   1.42222617 -0.0433963\n",
      "  -0.0433963  -0.0433963  -0.0433963  -0.0433963  -0.0433963  -0.0433963\n",
      "  -0.0433963  -0.0433963 ]\n",
      " [ 0.52494561  4.48942416 -0.0433963  -0.0433963  -0.0433963  -0.06142951\n",
      "  -0.07530656 -0.0433963  -0.06142951 -0.06142951 -0.0433963  -0.0433963\n",
      "  -0.19245009 -0.06142951 -0.09740465 -0.0433963  -0.11547005 -0.07530656\n",
      "  -0.0433963  -0.0433963  -0.15191091 -0.0433963  -0.13118084 -0.0433963\n",
      "  -0.0433963  -0.08703883 -0.0433963  -0.0433963  -0.0433963  -0.0433963\n",
      "  -0.06142951 -0.0433963  -0.08703883 -0.08703883 -0.08703883 -0.0433963\n",
      "  -0.13118084 -0.13840913 -0.13840913 -0.0433963  -0.06142951 -0.0433963\n",
      "  -0.07530656 -0.18168574 -0.0433963  -0.0433963  -0.0433963  -0.07530656\n",
      "  -0.15826614 -0.31491833 -0.0433963  -0.08703883 -0.07530656 -0.06142951\n",
      "  -0.72111026 -0.0433963  -0.0433963  -0.06142951 -0.0433963  -0.0433963\n",
      "  -0.0433963  -0.0433963  -0.0433963  -0.0433963  -0.0433963  -0.0433963\n",
      "  -0.39879994 -0.0433963   5.50400923 -0.0433963  -0.08703883 -0.08703883\n",
      "  -0.10680283 -0.0433963  -0.13118084 -0.0433963  -0.0433963  -0.0433963\n",
      "  -0.0433963  -0.07530656 -0.43911856 -0.0433963  -0.06142951 -0.0433963\n",
      "  -0.0433963  -0.89632016 -0.0433963  -0.0433963   1.42222617 -0.0433963\n",
      "  -0.0433963  -0.0433963  -0.0433963  -0.0433963  -0.0433963  -0.0433963\n",
      "  -0.0433963  -0.0433963 ]\n",
      " [-0.11671506 -0.15255998 -0.0433963  -0.0433963  -0.0433963  -0.06142951\n",
      "  -0.07530656 -0.0433963  -0.06142951 -0.06142951 -0.0433963  -0.0433963\n",
      "  -0.19245009 -0.06142951 -0.09740465 -0.0433963  -0.11547005 -0.07530656\n",
      "  -0.0433963  -0.0433963  -0.15191091 -0.0433963  -0.13118084 -0.0433963\n",
      "  -0.0433963  -0.08703883 -0.0433963  -0.0433963  -0.0433963  -0.0433963\n",
      "  -0.06142951 -0.0433963  -0.08703883 -0.08703883 -0.08703883 -0.0433963\n",
      "  -0.13118084 -0.13840913 -0.13840913 -0.0433963  -0.06142951 -0.0433963\n",
      "  -0.07530656 -0.18168574 -0.0433963  -0.0433963  -0.0433963  -0.07530656\n",
      "  -0.15826614  3.17542648 -0.0433963  -0.08703883 -0.07530656 -0.06142951\n",
      "  -0.72111026 -0.0433963  -0.0433963  -0.06142951 -0.0433963  -0.0433963\n",
      "  -0.0433963  -0.0433963  -0.0433963  -0.0433963  -0.0433963  -0.0433963\n",
      "  -0.39879994 -0.0433963  -0.18168574 -0.0433963  -0.08703883 -0.08703883\n",
      "  -0.10680283 -0.0433963  -0.13118084 -0.0433963  -0.0433963  -0.0433963\n",
      "  -0.0433963  -0.07530656 -0.43911856 -0.0433963  -0.06142951 -0.0433963\n",
      "  -0.0433963   1.11567277 -0.0433963  -0.0433963  -0.70312305 -0.0433963\n",
      "  -0.0433963  -0.0433963  -0.0433963  -0.0433963  -0.0433963  -0.0433963\n",
      "  -0.0433963  -0.0433963 ]\n",
      " [-0.11474682 -0.1528703  -0.0433963  -0.0433963  -0.0433963  -0.06142951\n",
      "  -0.07530656 -0.0433963  -0.06142951 -0.06142951 -0.0433963  -0.0433963\n",
      "  -0.19245009 -0.06142951 -0.09740465 -0.0433963  -0.11547005 -0.07530656\n",
      "  -0.0433963  -0.0433963  -0.15191091 -0.0433963   7.62306442 -0.0433963\n",
      "  -0.0433963  -0.08703883 -0.0433963  -0.0433963  -0.0433963  -0.0433963\n",
      "  -0.06142951 -0.0433963  -0.08703883 -0.08703883 -0.08703883 -0.0433963\n",
      "  -0.13118084 -0.13840913 -0.13840913 -0.0433963  -0.06142951 -0.0433963\n",
      "  -0.07530656 -0.18168574 -0.0433963  -0.0433963  -0.0433963  -0.07530656\n",
      "  -0.15826614 -0.31491833 -0.0433963  -0.08703883 -0.07530656 -0.06142951\n",
      "  -0.72111026 -0.0433963  -0.0433963  -0.06142951 -0.0433963  -0.0433963\n",
      "  -0.0433963  -0.0433963  -0.0433963  -0.0433963  -0.0433963  -0.0433963\n",
      "  -0.39879994 -0.0433963  -0.18168574 -0.0433963  -0.08703883 -0.08703883\n",
      "  -0.10680283 -0.0433963  -0.13118084 -0.0433963  -0.0433963  -0.0433963\n",
      "  -0.0433963  -0.07530656 -0.43911856 -0.0433963  -0.06142951 -0.0433963\n",
      "  -0.0433963   1.11567277 -0.0433963  -0.0433963  -0.70312305 -0.0433963\n",
      "  -0.0433963  -0.0433963  -0.0433963  -0.0433963  -0.0433963  -0.0433963\n",
      "  -0.0433963  -0.0433963 ]]\n"
     ]
    }
   ],
   "source": [
    "# Standardize the data with StandardScaler().\n",
    "data_scaler = StandardScaler().fit_transform(X)\n",
    "print(data_scaler[0:5])"
   ]
  },
  {
   "cell_type": "markdown",
   "metadata": {},
   "source": [
    "### Deliverable 2: Reducing Data Dimensions Using PCA"
   ]
  },
  {
   "cell_type": "code",
   "execution_count": 129,
   "metadata": {},
   "outputs": [
    {
     "data": {
      "text/plain": [
       "array([[-1.16293397e+10, -5.50257435e+08,  8.14727798e-01],\n",
       "       [-1.06408764e+10, -1.19785243e+09,  8.14483672e-01],\n",
       "       [ 2.75050695e+11,  1.31237019e+11,  9.89919327e-01],\n",
       "       ...,\n",
       "       [-9.92656677e+09, -6.98661475e+08, -7.41975180e-01],\n",
       "       [-1.16075059e+10, -5.46071504e+08, -7.13006715e-01],\n",
       "       [-1.16284097e+10, -5.49868345e+08,  2.25068679e-01]])"
      ]
     },
     "execution_count": 129,
     "metadata": {},
     "output_type": "execute_result"
    }
   ],
   "source": [
    "# Using PCA to reduce dimension to three principal components.\n",
    "pca = PCA(n_components=3)\n",
    "df_pca = pca.fit_transform(X)\n",
    "df_pca"
   ]
  },
  {
   "cell_type": "code",
   "execution_count": 131,
   "metadata": {},
   "outputs": [
    {
     "data": {
      "text/html": [
       "<div>\n",
       "<style scoped>\n",
       "    .dataframe tbody tr th:only-of-type {\n",
       "        vertical-align: middle;\n",
       "    }\n",
       "\n",
       "    .dataframe tbody tr th {\n",
       "        vertical-align: top;\n",
       "    }\n",
       "\n",
       "    .dataframe thead th {\n",
       "        text-align: right;\n",
       "    }\n",
       "</style>\n",
       "<table border=\"1\" class=\"dataframe\">\n",
       "  <thead>\n",
       "    <tr style=\"text-align: right;\">\n",
       "      <th></th>\n",
       "      <th>PC 1</th>\n",
       "      <th>PC 2</th>\n",
       "      <th>PC 3</th>\n",
       "    </tr>\n",
       "  </thead>\n",
       "  <tbody>\n",
       "    <tr>\n",
       "      <th>42</th>\n",
       "      <td>-1.162934e+10</td>\n",
       "      <td>-5.502574e+08</td>\n",
       "      <td>0.814728</td>\n",
       "    </tr>\n",
       "    <tr>\n",
       "      <th>404</th>\n",
       "      <td>-1.064088e+10</td>\n",
       "      <td>-1.197852e+09</td>\n",
       "      <td>0.814484</td>\n",
       "    </tr>\n",
       "    <tr>\n",
       "      <th>1337</th>\n",
       "      <td>2.750507e+11</td>\n",
       "      <td>1.312370e+11</td>\n",
       "      <td>0.989919</td>\n",
       "    </tr>\n",
       "    <tr>\n",
       "      <th>BTC</th>\n",
       "      <td>-1.160219e+10</td>\n",
       "      <td>-5.552767e+08</td>\n",
       "      <td>-0.712858</td>\n",
       "    </tr>\n",
       "    <tr>\n",
       "      <th>ETH</th>\n",
       "      <td>-1.157548e+10</td>\n",
       "      <td>-6.435026e+08</td>\n",
       "      <td>-0.706031</td>\n",
       "    </tr>\n",
       "    <tr>\n",
       "      <th>LTC</th>\n",
       "      <td>-1.152507e+10</td>\n",
       "      <td>-5.628276e+08</td>\n",
       "      <td>-0.574821</td>\n",
       "    </tr>\n",
       "    <tr>\n",
       "      <th>DASH</th>\n",
       "      <td>-1.160577e+10</td>\n",
       "      <td>-5.470735e+08</td>\n",
       "      <td>0.773963</td>\n",
       "    </tr>\n",
       "    <tr>\n",
       "      <th>XMR</th>\n",
       "      <td>-1.162074e+10</td>\n",
       "      <td>-5.651521e+08</td>\n",
       "      <td>-0.696025</td>\n",
       "    </tr>\n",
       "    <tr>\n",
       "      <th>ETC</th>\n",
       "      <td>-1.139080e+10</td>\n",
       "      <td>-5.433762e+08</td>\n",
       "      <td>-0.705865</td>\n",
       "    </tr>\n",
       "    <tr>\n",
       "      <th>ZEC</th>\n",
       "      <td>-1.160746e+10</td>\n",
       "      <td>-5.461464e+08</td>\n",
       "      <td>-0.713007</td>\n",
       "    </tr>\n",
       "  </tbody>\n",
       "</table>\n",
       "</div>"
      ],
      "text/plain": [
       "              PC 1          PC 2      PC 3\n",
       "42   -1.162934e+10 -5.502574e+08  0.814728\n",
       "404  -1.064088e+10 -1.197852e+09  0.814484\n",
       "1337  2.750507e+11  1.312370e+11  0.989919\n",
       "BTC  -1.160219e+10 -5.552767e+08 -0.712858\n",
       "ETH  -1.157548e+10 -6.435026e+08 -0.706031\n",
       "LTC  -1.152507e+10 -5.628276e+08 -0.574821\n",
       "DASH -1.160577e+10 -5.470735e+08  0.773963\n",
       "XMR  -1.162074e+10 -5.651521e+08 -0.696025\n",
       "ETC  -1.139080e+10 -5.433762e+08 -0.705865\n",
       "ZEC  -1.160746e+10 -5.461464e+08 -0.713007"
      ]
     },
     "execution_count": 131,
     "metadata": {},
     "output_type": "execute_result"
    }
   ],
   "source": [
    "# Create a DataFrame with the three principal components.\n",
    "pcs_df = pd.DataFrame(df_pca, columns=[\"PC 1\", \"PC 2\", \"PC 3\"], index=X.index)\n",
    "pcs_df.head(10)"
   ]
  },
  {
   "cell_type": "markdown",
   "metadata": {},
   "source": [
    "### Deliverable 3: Clustering Crytocurrencies Using K-Means\n",
    "\n",
    "#### Finding the Best Value for `k` Using the Elbow Curve"
   ]
  },
  {
   "cell_type": "code",
   "execution_count": 133,
   "metadata": {},
   "outputs": [
    {
     "data": {},
     "metadata": {},
     "output_type": "display_data"
    },
    {
     "data": {
      "application/vnd.holoviews_exec.v0+json": "",
      "text/html": [
       "<div id='1001'>\n",
       "\n",
       "\n",
       "\n",
       "\n",
       "\n",
       "  <div class=\"bk-root\" id=\"00c1d6fc-bbf2-48ef-b070-da0e3922e85b\" data-root-id=\"1001\"></div>\n",
       "</div>\n",
       "<script type=\"application/javascript\">(function(root) {\n",
       "  function embed_document(root) {\n",
       "  var docs_json = {\"deaee817-e406-49a1-abb7-be47f31b583b\":{\"roots\":{\"references\":[{\"attributes\":{\"axis\":{\"id\":\"1015\"},\"grid_line_color\":null,\"ticker\":null},\"id\":\"1018\",\"type\":\"Grid\"},{\"attributes\":{},\"id\":\"1020\",\"type\":\"BasicTicker\"},{\"attributes\":{\"axis_label\":\"inertia\",\"bounds\":\"auto\",\"formatter\":{\"id\":\"1050\"},\"major_label_orientation\":\"horizontal\",\"ticker\":{\"id\":\"1020\"}},\"id\":\"1019\",\"type\":\"LinearAxis\"},{\"attributes\":{\"source\":{\"id\":\"1036\"}},\"id\":\"1043\",\"type\":\"CDSView\"},{\"attributes\":{\"axis_label\":\"k\",\"bounds\":\"auto\",\"formatter\":{\"id\":\"1046\"},\"major_label_orientation\":\"horizontal\",\"ticker\":{\"id\":\"1044\"}},\"id\":\"1015\",\"type\":\"LinearAxis\"},{\"attributes\":{\"bottom_units\":\"screen\",\"fill_alpha\":0.5,\"fill_color\":\"lightgrey\",\"left_units\":\"screen\",\"level\":\"overlay\",\"line_alpha\":1.0,\"line_color\":\"black\",\"line_dash\":[4,4],\"line_width\":2,\"right_units\":\"screen\",\"top_units\":\"screen\"},\"id\":\"1028\",\"type\":\"BoxAnnotation\"},{\"attributes\":{\"data_source\":{\"id\":\"1036\"},\"glyph\":{\"id\":\"1039\"},\"hover_glyph\":null,\"muted_glyph\":{\"id\":\"1041\"},\"nonselection_glyph\":{\"id\":\"1040\"},\"selection_glyph\":null,\"view\":{\"id\":\"1043\"}},\"id\":\"1042\",\"type\":\"GlyphRenderer\"},{\"attributes\":{\"line_alpha\":0.1,\"line_color\":\"#1f77b3\",\"line_width\":2,\"x\":{\"field\":\"k\"},\"y\":{\"field\":\"inertia\"}},\"id\":\"1040\",\"type\":\"Line\"},{\"attributes\":{\"data\":{\"inertia\":{\"__ndarray__\":\"ijDkHKJxB0VqyjNq9hfsREZ3c5ToeeBEAyF3S13yyUS8EbcJyDO7RBfwRsHOpLBECvObFzqPp0S/Yc67DiShROmCvDZPLplEcGemv0BrkkQ=\",\"dtype\":\"float64\",\"order\":\"little\",\"shape\":[10]},\"k\":[1,2,3,4,5,6,7,8,9,10]},\"selected\":{\"id\":\"1037\"},\"selection_policy\":{\"id\":\"1056\"}},\"id\":\"1036\",\"type\":\"ColumnDataSource\"},{\"attributes\":{},\"id\":\"1023\",\"type\":\"SaveTool\"},{\"attributes\":{\"children\":[{\"id\":\"1002\"},{\"id\":\"1006\"},{\"id\":\"1065\"}],\"margin\":[0,0,0,0],\"name\":\"Row01533\",\"tags\":[\"embedded\"]},\"id\":\"1001\",\"type\":\"Row\"},{\"attributes\":{\"line_color\":\"#1f77b3\",\"line_width\":2,\"x\":{\"field\":\"k\"},\"y\":{\"field\":\"inertia\"}},\"id\":\"1039\",\"type\":\"Line\"},{\"attributes\":{},\"id\":\"1024\",\"type\":\"PanTool\"},{\"attributes\":{\"below\":[{\"id\":\"1015\"}],\"center\":[{\"id\":\"1018\"},{\"id\":\"1022\"}],\"left\":[{\"id\":\"1019\"}],\"margin\":null,\"min_border_bottom\":10,\"min_border_left\":10,\"min_border_right\":10,\"min_border_top\":10,\"plot_height\":300,\"plot_width\":700,\"renderers\":[{\"id\":\"1042\"}],\"sizing_mode\":\"fixed\",\"title\":{\"id\":\"1007\"},\"toolbar\":{\"id\":\"1029\"},\"x_range\":{\"id\":\"1003\"},\"x_scale\":{\"id\":\"1011\"},\"y_range\":{\"id\":\"1004\"},\"y_scale\":{\"id\":\"1013\"}},\"id\":\"1006\",\"subtype\":\"Figure\",\"type\":\"Plot\"},{\"attributes\":{\"callback\":null,\"renderers\":[{\"id\":\"1042\"}],\"tags\":[\"hv_created\"],\"tooltips\":[[\"k\",\"@{k}\"],[\"inertia\",\"@{inertia}\"]]},\"id\":\"1005\",\"type\":\"HoverTool\"},{\"attributes\":{},\"id\":\"1025\",\"type\":\"WheelZoomTool\"},{\"attributes\":{\"active_drag\":\"auto\",\"active_inspect\":\"auto\",\"active_multi\":null,\"active_scroll\":\"auto\",\"active_tap\":\"auto\",\"tools\":[{\"id\":\"1005\"},{\"id\":\"1023\"},{\"id\":\"1024\"},{\"id\":\"1025\"},{\"id\":\"1026\"},{\"id\":\"1027\"}]},\"id\":\"1029\",\"type\":\"Toolbar\"},{\"attributes\":{\"margin\":[5,5,5,5],\"name\":\"HSpacer01537\",\"sizing_mode\":\"stretch_width\"},\"id\":\"1002\",\"type\":\"Spacer\"},{\"attributes\":{\"axis\":{\"id\":\"1019\"},\"dimension\":1,\"grid_line_color\":null,\"ticker\":null},\"id\":\"1022\",\"type\":\"Grid\"},{\"attributes\":{\"overlay\":{\"id\":\"1028\"}},\"id\":\"1026\",\"type\":\"BoxZoomTool\"},{\"attributes\":{},\"id\":\"1046\",\"type\":\"BasicTickFormatter\"},{\"attributes\":{},\"id\":\"1050\",\"type\":\"BasicTickFormatter\"},{\"attributes\":{\"line_alpha\":0.2,\"line_color\":\"#1f77b3\",\"line_width\":2,\"x\":{\"field\":\"k\"},\"y\":{\"field\":\"inertia\"}},\"id\":\"1041\",\"type\":\"Line\"},{\"attributes\":{},\"id\":\"1037\",\"type\":\"Selection\"},{\"attributes\":{},\"id\":\"1056\",\"type\":\"UnionRenderers\"},{\"attributes\":{},\"id\":\"1013\",\"type\":\"LinearScale\"},{\"attributes\":{},\"id\":\"1027\",\"type\":\"ResetTool\"},{\"attributes\":{\"ticks\":[1,2,3,4,5,6,7,8,9,10]},\"id\":\"1044\",\"type\":\"FixedTicker\"},{\"attributes\":{},\"id\":\"1011\",\"type\":\"LinearScale\"},{\"attributes\":{\"margin\":[5,5,5,5],\"name\":\"HSpacer01538\",\"sizing_mode\":\"stretch_width\"},\"id\":\"1065\",\"type\":\"Spacer\"},{\"attributes\":{\"text\":\"Elbow Curve\",\"text_color\":{\"value\":\"black\"},\"text_font_size\":{\"value\":\"12pt\"}},\"id\":\"1007\",\"type\":\"Title\"},{\"attributes\":{\"end\":3.8948383346379535e+24,\"reset_end\":3.8948383346379535e+24,\"reset_start\":-3.303541038930205e+23,\"start\":-3.303541038930205e+23,\"tags\":[[[\"inertia\",\"inertia\",null]]]},\"id\":\"1004\",\"type\":\"Range1d\"},{\"attributes\":{\"end\":10.0,\"reset_end\":10.0,\"reset_start\":1.0,\"start\":1.0,\"tags\":[[[\"k\",\"k\",null]]]},\"id\":\"1003\",\"type\":\"Range1d\"}],\"root_ids\":[\"1001\"]},\"title\":\"Bokeh Application\",\"version\":\"2.1.1\"}};\n",
       "  var render_items = [{\"docid\":\"deaee817-e406-49a1-abb7-be47f31b583b\",\"root_ids\":[\"1001\"],\"roots\":{\"1001\":\"00c1d6fc-bbf2-48ef-b070-da0e3922e85b\"}}];\n",
       "  root.Bokeh.embed.embed_items_notebook(docs_json, render_items);\n",
       "  }\n",
       "if (root.Bokeh !== undefined) {\n",
       "    embed_document(root);\n",
       "  } else {\n",
       "    var attempts = 0;\n",
       "    var timer = setInterval(function(root) {\n",
       "      if (root.Bokeh !== undefined) {\n",
       "        clearInterval(timer);\n",
       "        embed_document(root);\n",
       "      } else if (document.readyState == \"complete\") {\n",
       "        attempts++;\n",
       "        if (attempts > 100) {\n",
       "          clearInterval(timer);\n",
       "          console.log(\"Bokeh: ERROR: Unable to run BokehJS code because BokehJS library is missing\");\n",
       "        }\n",
       "      }\n",
       "    }, 10, root)\n",
       "  }\n",
       "})(window);</script>"
      ],
      "text/plain": [
       ":Curve   [k]   (inertia)"
      ]
     },
     "execution_count": 133,
     "metadata": {
      "application/vnd.holoviews_exec.v0+json": {
       "id": "1001"
      }
     },
     "output_type": "execute_result"
    }
   ],
   "source": [
    "# Create an elbow curve to find the best value for K.\n",
    "inertia = []\n",
    "k = list(range(1, 11))\n",
    "\n",
    "# Calculate the inertia for the range of K values\n",
    "for i in k:\n",
    "    km = KMeans(n_clusters=i, random_state=0)\n",
    "    km.fit(pcs_df)\n",
    "    inertia.append(km.inertia_)\n",
    "\n",
    "# Create the elbow curve\n",
    "elbow_data = {\"k\": k, \"inertia\": inertia}\n",
    "df_elbow = pd.DataFrame(elbow_data)\n",
    "df_elbow.hvplot.line(x=\"k\", y=\"inertia\", xticks=k, title=\"Elbow Curve\")"
   ]
  },
  {
   "cell_type": "markdown",
   "metadata": {},
   "source": [
    "Running K-Means with `k=4`"
   ]
  },
  {
   "cell_type": "code",
   "execution_count": 141,
   "metadata": {},
   "outputs": [],
   "source": [
    "# Initialize the K-Means model.\n",
    "model = KMeans(n_clusters=4, random_state=0)\n",
    "\n",
    "# Fit the model\n",
    "model.fit(pcs_df)\n",
    "\n",
    "# Predict clusters\n",
    "predictions = model.predict(pcs_df)"
   ]
  },
  {
   "cell_type": "code",
   "execution_count": 142,
   "metadata": {},
   "outputs": [
    {
     "name": "stdout",
     "output_type": "stream",
     "text": [
      "(532, 9)\n"
     ]
    },
    {
     "data": {
      "text/html": [
       "<div>\n",
       "<style scoped>\n",
       "    .dataframe tbody tr th:only-of-type {\n",
       "        vertical-align: middle;\n",
       "    }\n",
       "\n",
       "    .dataframe tbody tr th {\n",
       "        vertical-align: top;\n",
       "    }\n",
       "\n",
       "    .dataframe thead th {\n",
       "        text-align: right;\n",
       "    }\n",
       "</style>\n",
       "<table border=\"1\" class=\"dataframe\">\n",
       "  <thead>\n",
       "    <tr style=\"text-align: right;\">\n",
       "      <th></th>\n",
       "      <th>Algorithm</th>\n",
       "      <th>ProofType</th>\n",
       "      <th>TotalCoinsMined</th>\n",
       "      <th>TotalCoinSupply</th>\n",
       "      <th>PC 1</th>\n",
       "      <th>PC 2</th>\n",
       "      <th>PC 3</th>\n",
       "      <th>CoinName</th>\n",
       "      <th>Class</th>\n",
       "    </tr>\n",
       "  </thead>\n",
       "  <tbody>\n",
       "    <tr>\n",
       "      <th>42</th>\n",
       "      <td>Scrypt</td>\n",
       "      <td>PoW/PoS</td>\n",
       "      <td>4.199995e+01</td>\n",
       "      <td>42</td>\n",
       "      <td>-1.162934e+10</td>\n",
       "      <td>-5.502574e+08</td>\n",
       "      <td>0.814728</td>\n",
       "      <td>42 Coin</td>\n",
       "      <td>0</td>\n",
       "    </tr>\n",
       "    <tr>\n",
       "      <th>404</th>\n",
       "      <td>Scrypt</td>\n",
       "      <td>PoW/PoS</td>\n",
       "      <td>1.055185e+09</td>\n",
       "      <td>532000000</td>\n",
       "      <td>-1.064088e+10</td>\n",
       "      <td>-1.197852e+09</td>\n",
       "      <td>0.814484</td>\n",
       "      <td>404Coin</td>\n",
       "      <td>0</td>\n",
       "    </tr>\n",
       "    <tr>\n",
       "      <th>1337</th>\n",
       "      <td>X13</td>\n",
       "      <td>PoW/PoS</td>\n",
       "      <td>2.927942e+10</td>\n",
       "      <td>314159265359</td>\n",
       "      <td>2.750507e+11</td>\n",
       "      <td>1.312370e+11</td>\n",
       "      <td>0.989919</td>\n",
       "      <td>EliteCoin</td>\n",
       "      <td>2</td>\n",
       "    </tr>\n",
       "    <tr>\n",
       "      <th>BTC</th>\n",
       "      <td>SHA-256</td>\n",
       "      <td>PoW</td>\n",
       "      <td>1.792718e+07</td>\n",
       "      <td>21000000</td>\n",
       "      <td>-1.160219e+10</td>\n",
       "      <td>-5.552767e+08</td>\n",
       "      <td>-0.712858</td>\n",
       "      <td>Bitcoin</td>\n",
       "      <td>0</td>\n",
       "    </tr>\n",
       "    <tr>\n",
       "      <th>ETH</th>\n",
       "      <td>Ethash</td>\n",
       "      <td>PoW</td>\n",
       "      <td>1.076842e+08</td>\n",
       "      <td>0</td>\n",
       "      <td>-1.157548e+10</td>\n",
       "      <td>-6.435026e+08</td>\n",
       "      <td>-0.706031</td>\n",
       "      <td>Ethereum</td>\n",
       "      <td>0</td>\n",
       "    </tr>\n",
       "    <tr>\n",
       "      <th>...</th>\n",
       "      <td>...</td>\n",
       "      <td>...</td>\n",
       "      <td>...</td>\n",
       "      <td>...</td>\n",
       "      <td>...</td>\n",
       "      <td>...</td>\n",
       "      <td>...</td>\n",
       "      <td>...</td>\n",
       "      <td>...</td>\n",
       "    </tr>\n",
       "    <tr>\n",
       "      <th>ZEPH</th>\n",
       "      <td>SHA-256</td>\n",
       "      <td>DPoS</td>\n",
       "      <td>2.000000e+09</td>\n",
       "      <td>2000000000</td>\n",
       "      <td>-8.897125e+09</td>\n",
       "      <td>-1.281695e+09</td>\n",
       "      <td>0.025700</td>\n",
       "      <td>ZEPHYR</td>\n",
       "      <td>0</td>\n",
       "    </tr>\n",
       "    <tr>\n",
       "      <th>GAP</th>\n",
       "      <td>Scrypt</td>\n",
       "      <td>PoW/PoS</td>\n",
       "      <td>1.493105e+07</td>\n",
       "      <td>250000000</td>\n",
       "      <td>-1.140539e+10</td>\n",
       "      <td>-4.381378e+08</td>\n",
       "      <td>0.814920</td>\n",
       "      <td>Gapcoin</td>\n",
       "      <td>0</td>\n",
       "    </tr>\n",
       "    <tr>\n",
       "      <th>BDX</th>\n",
       "      <td>CryptoNight</td>\n",
       "      <td>PoW</td>\n",
       "      <td>9.802226e+08</td>\n",
       "      <td>1400222610</td>\n",
       "      <td>-9.926567e+09</td>\n",
       "      <td>-6.986615e+08</td>\n",
       "      <td>-0.741975</td>\n",
       "      <td>Beldex</td>\n",
       "      <td>0</td>\n",
       "    </tr>\n",
       "    <tr>\n",
       "      <th>ZEN</th>\n",
       "      <td>Equihash</td>\n",
       "      <td>PoW</td>\n",
       "      <td>7.296538e+06</td>\n",
       "      <td>21000000</td>\n",
       "      <td>-1.160751e+10</td>\n",
       "      <td>-5.460715e+08</td>\n",
       "      <td>-0.713007</td>\n",
       "      <td>Horizen</td>\n",
       "      <td>0</td>\n",
       "    </tr>\n",
       "    <tr>\n",
       "      <th>XBC</th>\n",
       "      <td>Scrypt</td>\n",
       "      <td>PoS</td>\n",
       "      <td>1.283270e+05</td>\n",
       "      <td>1000000</td>\n",
       "      <td>-1.162841e+10</td>\n",
       "      <td>-5.498683e+08</td>\n",
       "      <td>0.225069</td>\n",
       "      <td>BitcoinPlus</td>\n",
       "      <td>0</td>\n",
       "    </tr>\n",
       "  </tbody>\n",
       "</table>\n",
       "<p>532 rows × 9 columns</p>\n",
       "</div>"
      ],
      "text/plain": [
       "        Algorithm ProofType  TotalCoinsMined TotalCoinSupply          PC 1  \\\n",
       "42         Scrypt   PoW/PoS     4.199995e+01              42 -1.162934e+10   \n",
       "404        Scrypt   PoW/PoS     1.055185e+09       532000000 -1.064088e+10   \n",
       "1337          X13   PoW/PoS     2.927942e+10    314159265359  2.750507e+11   \n",
       "BTC       SHA-256       PoW     1.792718e+07        21000000 -1.160219e+10   \n",
       "ETH        Ethash       PoW     1.076842e+08               0 -1.157548e+10   \n",
       "...           ...       ...              ...             ...           ...   \n",
       "ZEPH      SHA-256      DPoS     2.000000e+09      2000000000 -8.897125e+09   \n",
       "GAP        Scrypt   PoW/PoS     1.493105e+07       250000000 -1.140539e+10   \n",
       "BDX   CryptoNight       PoW     9.802226e+08      1400222610 -9.926567e+09   \n",
       "ZEN      Equihash       PoW     7.296538e+06        21000000 -1.160751e+10   \n",
       "XBC        Scrypt       PoS     1.283270e+05         1000000 -1.162841e+10   \n",
       "\n",
       "              PC 2      PC 3     CoinName  Class  \n",
       "42   -5.502574e+08  0.814728      42 Coin      0  \n",
       "404  -1.197852e+09  0.814484      404Coin      0  \n",
       "1337  1.312370e+11  0.989919    EliteCoin      2  \n",
       "BTC  -5.552767e+08 -0.712858      Bitcoin      0  \n",
       "ETH  -6.435026e+08 -0.706031     Ethereum      0  \n",
       "...            ...       ...          ...    ...  \n",
       "ZEPH -1.281695e+09  0.025700       ZEPHYR      0  \n",
       "GAP  -4.381378e+08  0.814920      Gapcoin      0  \n",
       "BDX  -6.986615e+08 -0.741975       Beldex      0  \n",
       "ZEN  -5.460715e+08 -0.713007      Horizen      0  \n",
       "XBC  -5.498683e+08  0.225069  BitcoinPlus      0  \n",
       "\n",
       "[532 rows x 9 columns]"
      ]
     },
     "execution_count": 142,
     "metadata": {},
     "output_type": "execute_result"
    }
   ],
   "source": [
    "# Create a new DataFrame including predicted clusters and cryptocurrencies features.\n",
    "# Concatentate the cleanCrypto and pcs_df DataFrames on the same columns.\n",
    "clustered_df = pd.concat([cleanCrypto, pcs_df], axis=1)\n",
    "\n",
    "# Add a new column, \"CoinName\" to the clustered_df DataFrame that holds the names of the cryptocurrencies. \n",
    "clustered_df['CoinName'] = Crypto_names['CoinName']\n",
    "\n",
    "# Add a new column, \"Class\" to the clustered_df DataFrame that holds the predictions.\n",
    "clustered_df['Class'] = model.labels_\n",
    "\n",
    "# Print the shape of the clustered_df\n",
    "print(clustered_df.shape)\n",
    "clustered_df"
   ]
  },
  {
   "cell_type": "markdown",
   "metadata": {},
   "source": [
    "### Deliverable 4: Visualizing Cryptocurrencies Results\n",
    "\n",
    "#### 3D-Scatter with Clusters"
   ]
  },
  {
   "cell_type": "code",
   "execution_count": 157,
   "metadata": {},
   "outputs": [
    {
     "data": {
      "application/vnd.plotly.v1+json": {
       "config": {
        "plotlyServerURL": "https://plot.ly"
       },
       "data": [
        {
         "customdata": [
          [
           "Scrypt"
          ],
          [
           "Scrypt"
          ],
          [
           "SHA-256"
          ],
          [
           "Ethash"
          ],
          [
           "Scrypt"
          ],
          [
           "X11"
          ],
          [
           "CryptoNight-V7"
          ],
          [
           "Ethash"
          ],
          [
           "Equihash"
          ],
          [
           "SHA-512"
          ],
          [
           "Multiple"
          ],
          [
           "SHA-256"
          ],
          [
           "SHA-256"
          ],
          [
           "Scrypt"
          ],
          [
           "X15"
          ],
          [
           "X11"
          ],
          [
           "Scrypt"
          ],
          [
           "Scrypt"
          ],
          [
           "Scrypt"
          ],
          [
           "Multiple"
          ],
          [
           "SHA-256"
          ],
          [
           "Scrypt"
          ],
          [
           "Scrypt"
          ],
          [
           "Scrypt"
          ],
          [
           "Quark"
          ],
          [
           "Groestl"
          ],
          [
           "Scrypt"
          ],
          [
           "Scrypt"
          ],
          [
           "Scrypt"
          ],
          [
           "Scrypt"
          ],
          [
           "Scrypt"
          ],
          [
           "X11"
          ],
          [
           "Scrypt"
          ],
          [
           "Groestl"
          ],
          [
           "Multiple"
          ],
          [
           "SHA-256"
          ],
          [
           "Scrypt"
          ],
          [
           "Scrypt"
          ],
          [
           "Scrypt"
          ],
          [
           "Scrypt"
          ],
          [
           "PoS"
          ],
          [
           "Scrypt"
          ],
          [
           "Scrypt"
          ],
          [
           "NeoScrypt"
          ],
          [
           "Scrypt"
          ],
          [
           "Scrypt"
          ],
          [
           "Scrypt"
          ],
          [
           "Scrypt"
          ],
          [
           "X11"
          ],
          [
           "Scrypt"
          ],
          [
           "X11"
          ],
          [
           "SHA-256"
          ],
          [
           "Scrypt"
          ],
          [
           "Scrypt"
          ],
          [
           "Scrypt"
          ],
          [
           "SHA3"
          ],
          [
           "Scrypt"
          ],
          [
           "HybridScryptHash256"
          ],
          [
           "Scrypt"
          ],
          [
           "Scrypt"
          ],
          [
           "SHA-256"
          ],
          [
           "Scrypt"
          ],
          [
           "X13"
          ],
          [
           "Scrypt"
          ],
          [
           "SHA-256"
          ],
          [
           "Scrypt"
          ],
          [
           "X13"
          ],
          [
           "NeoScrypt"
          ],
          [
           "Scrypt"
          ],
          [
           "Scrypt"
          ],
          [
           "Scrypt"
          ],
          [
           "Scrypt"
          ],
          [
           "Scrypt"
          ],
          [
           "Scrypt"
          ],
          [
           "X11"
          ],
          [
           "X11"
          ],
          [
           "SHA-256"
          ],
          [
           "Multiple"
          ],
          [
           "SHA-256"
          ],
          [
           "PHI1612"
          ],
          [
           "X11"
          ],
          [
           "SHA-256"
          ],
          [
           "SHA-256"
          ],
          [
           "SHA-256"
          ],
          [
           "X11"
          ],
          [
           "Scrypt"
          ],
          [
           "Scrypt"
          ],
          [
           "Scrypt"
          ],
          [
           "Scrypt"
          ],
          [
           "Lyra2REv2"
          ],
          [
           "Scrypt"
          ],
          [
           "X11"
          ],
          [
           "Multiple"
          ],
          [
           "SHA-256"
          ],
          [
           "X13"
          ],
          [
           "Scrypt"
          ],
          [
           "CryptoNight"
          ],
          [
           "Shabal256"
          ],
          [
           "Counterparty"
          ],
          [
           "Scrypt"
          ],
          [
           "SHA-256"
          ],
          [
           "Groestl"
          ],
          [
           "Scrypt"
          ],
          [
           "Scrypt"
          ],
          [
           "Scrypt"
          ],
          [
           "X13"
          ],
          [
           "Scrypt"
          ],
          [
           "Scrypt"
          ],
          [
           "Scrypt"
          ],
          [
           "Scrypt"
          ],
          [
           "X13"
          ],
          [
           "Scrypt"
          ],
          [
           "Stanford Folding"
          ],
          [
           "X11"
          ],
          [
           "Multiple"
          ],
          [
           "QuBit"
          ],
          [
           "Scrypt"
          ],
          [
           "Scrypt"
          ],
          [
           "Scrypt"
          ],
          [
           "M7 POW"
          ],
          [
           "Scrypt"
          ],
          [
           "SHA-256"
          ],
          [
           "Scrypt"
          ],
          [
           "X11"
          ],
          [
           "SHA3"
          ],
          [
           "X11"
          ],
          [
           "Lyra2RE"
          ],
          [
           "SHA-256"
          ],
          [
           "QUAIT"
          ],
          [
           "X11"
          ],
          [
           "X11"
          ],
          [
           "Scrypt"
          ],
          [
           "Scrypt"
          ],
          [
           "Scrypt"
          ],
          [
           "Ethash"
          ],
          [
           "X13"
          ],
          [
           "Blake2b"
          ],
          [
           "SHA-256"
          ],
          [
           "X15"
          ],
          [
           "X11"
          ],
          [
           "SHA-256"
          ],
          [
           "BLAKE256"
          ],
          [
           "Scrypt"
          ],
          [
           "1GB AES Pattern Search"
          ],
          [
           "SHA-256"
          ],
          [
           "X11"
          ],
          [
           "Scrypt"
          ],
          [
           "SHA-256"
          ],
          [
           "SHA-256"
          ],
          [
           "NIST5"
          ],
          [
           "Scrypt"
          ],
          [
           "Scrypt"
          ],
          [
           "X11"
          ],
          [
           "Dagger"
          ],
          [
           "Scrypt"
          ],
          [
           "X11GOST"
          ],
          [
           "X11"
          ],
          [
           "Scrypt"
          ],
          [
           "SHA-256"
          ],
          [
           "Scrypt"
          ],
          [
           "PoS"
          ],
          [
           "Scrypt"
          ],
          [
           "X11"
          ],
          [
           "X11"
          ],
          [
           "SHA-256"
          ],
          [
           "SHA-256"
          ],
          [
           "NIST5"
          ],
          [
           "X11"
          ],
          [
           "Scrypt"
          ],
          [
           "POS 3.0"
          ],
          [
           "Scrypt"
          ],
          [
           "Scrypt"
          ],
          [
           "Scrypt"
          ],
          [
           "X13"
          ],
          [
           "X11"
          ],
          [
           "X11"
          ],
          [
           "Equihash"
          ],
          [
           "X11"
          ],
          [
           "Scrypt"
          ],
          [
           "CryptoNight"
          ],
          [
           "SHA-256"
          ],
          [
           "SHA-256"
          ],
          [
           "X11"
          ],
          [
           "Scrypt"
          ],
          [
           "Multiple"
          ],
          [
           "Scrypt"
          ],
          [
           "Scrypt"
          ],
          [
           "Scrypt"
          ],
          [
           "SHA-256"
          ],
          [
           "Scrypt"
          ],
          [
           "Scrypt"
          ],
          [
           "SHA-256D"
          ],
          [
           "PoS"
          ],
          [
           "Scrypt"
          ],
          [
           "X11"
          ],
          [
           "Lyra2Z"
          ],
          [
           "PoS"
          ],
          [
           "X13"
          ],
          [
           "X14"
          ],
          [
           "PoS"
          ],
          [
           "SHA-256D"
          ],
          [
           "Ethash"
          ],
          [
           "Equihash"
          ],
          [
           "DPoS"
          ],
          [
           "X11"
          ],
          [
           "Scrypt"
          ],
          [
           "X11"
          ],
          [
           "X13"
          ],
          [
           "X11"
          ],
          [
           "PoS"
          ],
          [
           "Scrypt"
          ],
          [
           "Scrypt"
          ],
          [
           "X11"
          ],
          [
           "PoS"
          ],
          [
           "X11"
          ],
          [
           "SHA-256"
          ],
          [
           "Scrypt"
          ],
          [
           "X11"
          ],
          [
           "Scrypt"
          ],
          [
           "Scrypt"
          ],
          [
           "X11"
          ],
          [
           "CryptoNight"
          ],
          [
           "Scrypt"
          ],
          [
           "Scrypt"
          ],
          [
           "Scrypt"
          ],
          [
           "Scrypt"
          ],
          [
           "Quark"
          ],
          [
           "QuBit"
          ],
          [
           "Scrypt"
          ],
          [
           "CryptoNight"
          ],
          [
           "Lyra2RE"
          ],
          [
           "Scrypt"
          ],
          [
           "SHA-256"
          ],
          [
           "X11"
          ],
          [
           "Scrypt"
          ],
          [
           "X11"
          ],
          [
           "Scrypt"
          ],
          [
           "CryptoNight-V7"
          ],
          [
           "Scrypt"
          ],
          [
           "Scrypt"
          ],
          [
           "Scrypt"
          ],
          [
           "X13"
          ],
          [
           "X11"
          ],
          [
           "Equihash"
          ],
          [
           "Scrypt"
          ],
          [
           "Scrypt"
          ],
          [
           "Lyra2RE"
          ],
          [
           "Scrypt"
          ],
          [
           "Dagger-Hashimoto"
          ],
          [
           "X11"
          ],
          [
           "Blake2S"
          ],
          [
           "X11"
          ],
          [
           "Scrypt"
          ],
          [
           "PoS"
          ],
          [
           "X11"
          ],
          [
           "NIST5"
          ],
          [
           "PoS"
          ],
          [
           "X11"
          ],
          [
           "Scrypt"
          ],
          [
           "Scrypt"
          ],
          [
           "Scrypt"
          ],
          [
           "SHA-256"
          ],
          [
           "X11"
          ],
          [
           "Scrypt"
          ],
          [
           "Scrypt"
          ],
          [
           "SHA-256"
          ],
          [
           "PoS"
          ],
          [
           "Scrypt"
          ],
          [
           "X15"
          ],
          [
           "SHA-256"
          ],
          [
           "Scrypt"
          ],
          [
           "POS 3.0"
          ],
          [
           "CryptoNight-V7"
          ],
          [
           "536"
          ],
          [
           "Argon2d"
          ],
          [
           "Blake2b"
          ],
          [
           "Cloverhash"
          ],
          [
           "CryptoNight"
          ],
          [
           "NIST5"
          ],
          [
           "X11"
          ],
          [
           "NIST5"
          ],
          [
           "Skein"
          ],
          [
           "Scrypt"
          ],
          [
           "X13"
          ],
          [
           "Scrypt"
          ],
          [
           "X11"
          ],
          [
           "X11"
          ],
          [
           "Scrypt"
          ],
          [
           "CryptoNight"
          ],
          [
           "X13"
          ],
          [
           "Time Travel"
          ],
          [
           "Keccak"
          ],
          [
           "SkunkHash v2 Raptor"
          ],
          [
           "X11"
          ],
          [
           "Skein"
          ],
          [
           "SHA-256"
          ],
          [
           "X11"
          ],
          [
           "Scrypt"
          ],
          [
           "VeChainThor Authority"
          ],
          [
           "Scrypt"
          ],
          [
           "PoS"
          ],
          [
           "Scrypt"
          ],
          [
           "Scrypt"
          ],
          [
           "Scrypt"
          ],
          [
           "Scrypt"
          ],
          [
           "Scrypt"
          ],
          [
           "Scrypt"
          ],
          [
           "Scrypt"
          ],
          [
           "CryptoNight"
          ],
          [
           "SHA-512"
          ],
          [
           "Ouroboros"
          ],
          [
           "X11"
          ],
          [
           "Equihash"
          ],
          [
           "NeoScrypt"
          ],
          [
           "X11"
          ],
          [
           "Scrypt"
          ],
          [
           "NeoScrypt"
          ],
          [
           "Lyra2REv2"
          ],
          [
           "Equihash"
          ],
          [
           "Scrypt"
          ],
          [
           "SHA-256"
          ],
          [
           "NIST5"
          ],
          [
           "PHI1612"
          ],
          [
           "Dagger"
          ],
          [
           "Scrypt"
          ],
          [
           "Quark"
          ],
          [
           "Scrypt"
          ],
          [
           "POS 2.0"
          ],
          [
           "Scrypt"
          ],
          [
           "SHA-256"
          ],
          [
           "X11"
          ],
          [
           "NeoScrypt"
          ],
          [
           "Ethash"
          ],
          [
           "NeoScrypt"
          ],
          [
           "X11"
          ],
          [
           "DPoS"
          ],
          [
           "NIST5"
          ],
          [
           "X13"
          ],
          [
           "Multiple"
          ],
          [
           "Scrypt"
          ],
          [
           "CryptoNight"
          ],
          [
           "CryptoNight"
          ],
          [
           "Ethash"
          ],
          [
           "NIST5"
          ],
          [
           "Quark"
          ],
          [
           "X11"
          ],
          [
           "CryptoNight-V7"
          ],
          [
           "Scrypt"
          ],
          [
           "Scrypt"
          ],
          [
           "Scrypt"
          ],
          [
           "X11"
          ],
          [
           "BLAKE256"
          ],
          [
           "X11"
          ],
          [
           "NeoScrypt"
          ],
          [
           "Quark"
          ],
          [
           "NeoScrypt"
          ],
          [
           "Scrypt"
          ],
          [
           "Scrypt"
          ],
          [
           "Scrypt"
          ],
          [
           "X11"
          ],
          [
           "X11"
          ],
          [
           "SHA-256"
          ],
          [
           "C11"
          ],
          [
           "POS 3.0"
          ],
          [
           "Ethash"
          ],
          [
           "Scrypt"
          ],
          [
           "SkunkHash"
          ],
          [
           "Scrypt"
          ],
          [
           "CryptoNight"
          ],
          [
           "Scrypt"
          ],
          [
           "Dagger"
          ],
          [
           "Lyra2REv2"
          ],
          [
           "X13"
          ],
          [
           "Proof-of-BibleHash"
          ],
          [
           "SHA-256 + Hive"
          ],
          [
           "Scrypt"
          ],
          [
           "Scrypt"
          ],
          [
           "X11"
          ],
          [
           "C11"
          ],
          [
           "Proof-of-Authority"
          ],
          [
           "X11"
          ],
          [
           "XEVAN"
          ],
          [
           "Scrypt"
          ],
          [
           "VBFT"
          ],
          [
           "Ethash"
          ],
          [
           "CryptoNight"
          ],
          [
           "Scrypt"
          ],
          [
           "IMesh"
          ],
          [
           "NIST5"
          ],
          [
           "Scrypt"
          ],
          [
           "Scrypt"
          ],
          [
           "Equihash"
          ],
          [
           "Scrypt"
          ],
          [
           "Lyra2Z"
          ],
          [
           "Green Protocol"
          ],
          [
           "PoS"
          ],
          [
           "Scrypt"
          ],
          [
           "Semux BFT consensus"
          ],
          [
           "X11"
          ],
          [
           "Quark"
          ],
          [
           "PoS"
          ],
          [
           "CryptoNight"
          ],
          [
           "X16R"
          ],
          [
           "Scrypt"
          ],
          [
           "NIST5"
          ],
          [
           "Lyra2RE"
          ],
          [
           "XEVAN"
          ],
          [
           "Tribus"
          ],
          [
           "Scrypt"
          ],
          [
           "Lyra2Z"
          ],
          [
           "CryptoNight"
          ],
          [
           "CryptoNight Heavy"
          ],
          [
           "Scrypt"
          ],
          [
           "Scrypt"
          ],
          [
           "Jump Consistent Hash"
          ],
          [
           "SHA-256D"
          ],
          [
           "CryptoNight"
          ],
          [
           "Scrypt"
          ],
          [
           "X15"
          ],
          [
           "Scrypt"
          ],
          [
           "Quark"
          ],
          [
           "SHA-256"
          ],
          [
           "DPoS"
          ],
          [
           "X16R"
          ],
          [
           "HMQ1725"
          ],
          [
           "X11"
          ],
          [
           "X16R"
          ],
          [
           "Quark"
          ],
          [
           "Quark"
          ],
          [
           "Scrypt"
          ],
          [
           "Lyra2REv2"
          ],
          [
           "Quark"
          ],
          [
           "Scrypt"
          ],
          [
           "Scrypt"
          ],
          [
           "CryptoNight-V7"
          ],
          [
           "Cryptonight-GPU"
          ],
          [
           "XEVAN"
          ],
          [
           "X11"
          ],
          [
           "X11"
          ],
          [
           "Scrypt"
          ],
          [
           "PoS"
          ],
          [
           "SHA-256"
          ],
          [
           "Keccak"
          ],
          [
           "X11"
          ],
          [
           "X11"
          ],
          [
           "Scrypt"
          ],
          [
           "SHA-512"
          ],
          [
           "X16R"
          ],
          [
           "ECC 256K1"
          ],
          [
           "Equihash"
          ],
          [
           "XEVAN"
          ],
          [
           "Lyra2Z"
          ],
          [
           "SHA-256"
          ],
          [
           "XEVAN"
          ],
          [
           "X11"
          ],
          [
           "CryptoNight"
          ],
          [
           "Quark"
          ],
          [
           "Blake"
          ],
          [
           "Blake"
          ],
          [
           "Equihash"
          ],
          [
           "Exosis"
          ],
          [
           "Scrypt"
          ],
          [
           "Scrypt"
          ],
          [
           "Equihash"
          ],
          [
           "Quark"
          ],
          [
           "Equihash"
          ],
          [
           "Quark"
          ],
          [
           "Scrypt"
          ],
          [
           "QuBit"
          ],
          [
           "X11"
          ],
          [
           "Scrypt"
          ],
          [
           "XEVAN"
          ],
          [
           "SHA-256D"
          ],
          [
           "X11"
          ],
          [
           "SHA-256"
          ],
          [
           "X13"
          ],
          [
           "SHA-256"
          ],
          [
           "X11"
          ],
          [
           "DPoS"
          ],
          [
           "Scrypt"
          ],
          [
           "Scrypt"
          ],
          [
           "X11"
          ],
          [
           "NeoScrypt"
          ],
          [
           "Scrypt"
          ],
          [
           "Blake"
          ],
          [
           "Scrypt"
          ],
          [
           "SHA-256"
          ],
          [
           "Scrypt"
          ],
          [
           "X11"
          ],
          [
           "Scrypt"
          ],
          [
           "Scrypt"
          ],
          [
           "SHA-256"
          ],
          [
           "X11"
          ],
          [
           "SHA-256"
          ],
          [
           "Scrypt"
          ],
          [
           "Scrypt"
          ],
          [
           "Scrypt"
          ],
          [
           "Groestl"
          ],
          [
           "X11"
          ],
          [
           "Scrypt"
          ],
          [
           "PoS"
          ],
          [
           "Scrypt"
          ],
          [
           "Scrypt"
          ],
          [
           "X11"
          ],
          [
           "SHA-256"
          ],
          [
           "DPoS"
          ],
          [
           "Scrypt"
          ],
          [
           "Scrypt"
          ],
          [
           "NeoScrypt"
          ],
          [
           "Multiple"
          ],
          [
           "X13"
          ],
          [
           "Equihash+Scrypt"
          ],
          [
           "DPoS"
          ],
          [
           "Ethash"
          ],
          [
           "DPoS"
          ],
          [
           "SHA-256"
          ],
          [
           "Leased POS"
          ],
          [
           "PoS"
          ],
          [
           "PoS"
          ],
          [
           "SHA-256"
          ],
          [
           "Scrypt"
          ],
          [
           "CryptoNight"
          ],
          [
           "Equihash"
          ],
          [
           "Scrypt"
          ]
         ],
         "hovertemplate": "<b>%{hovertext}</b><br><br>Class=%{marker.color}<br>PC 1=%{x}<br>PC 2=%{y}<br>PC 3=%{z}<br>Algorithm=%{customdata[0]}<extra></extra>",
         "hovertext": [
          "42 Coin",
          "404Coin",
          "Bitcoin",
          "Ethereum",
          "Litecoin",
          "Dash",
          "Monero",
          "Ethereum Classic",
          "ZCash",
          "Bitshares",
          "DigiByte",
          "BitcoinDark",
          "PayCoin",
          "ProsperCoin",
          "KoboCoin",
          "Spreadcoin",
          "Argentum",
          "Aurora Coin",
          "BlueCoin",
          "MyriadCoin",
          "ZetaCoin",
          "SexCoin",
          "Quatloo",
          "EnergyCoin",
          "QuarkCoin",
          "Riecoin",
          "Digitalcoin ",
          "BitBar",
          "Catcoin",
          "CryptoBullion",
          "CannaCoin",
          "CryptCoin",
          "CasinoCoin",
          "Diamond",
          "Verge",
          "DevCoin",
          "EarthCoin",
          "E-Gulden",
          "Einsteinium",
          "Emerald",
          "Exclusive Coin",
          "FlutterCoin",
          "Franko",
          "FeatherCoin",
          "GrandCoin",
          "GlobalCoin",
          "GoldCoin",
          "HoboNickels",
          "HyperStake",
          "Infinite Coin",
          "IOCoin",
          "IXcoin",
          "KrugerCoin",
          "LuckyCoin",
          "Litebar ",
          "MaxCoin",
          "MegaCoin",
          "MediterraneanCoin",
          "MintCoin",
          "MinCoin",
          "MazaCoin",
          "Nautilus Coin",
          "NavCoin",
          "NobleCoin",
          "Namecoin",
          "NyanCoin",
          "OpalCoin",
          "Orbitcoin",
          "PotCoin",
          "PhoenixCoin",
          "Reddcoin",
          "RonPaulCoin",
          "StableCoin",
          "SmartCoin",
          "SuperCoin",
          "SyncCoin",
          "SysCoin",
          "TeslaCoin",
          "TigerCoin",
          "TittieCoin",
          "TorCoin",
          "TerraCoin",
          "UnbreakableCoin",
          "Unobtanium",
          "UroCoin",
          "UnitaryStatus Dollar",
          "UltraCoin",
          "ViaCoin",
          "VeriCoin",
          "Vertcoin",
          "WorldCoin",
          "X11 Coin",
          "Crypti",
          "JouleCoin",
          "StealthCoin",
          "ZCC Coin",
          "DigitalNote ",
          "BurstCoin",
          "StorjCoin",
          "MonaCoin",
          "Neutron",
          "FairCoin",
          "Gulden",
          "RubyCoin",
          "PesetaCoin",
          "Kore",
          "Wild Beast Coin",
          "Dnotes",
          "Flo",
          "8BIT Coin",
          "Sativa Coin",
          "ArtByte",
          "Folding Coin",
          "Ucoin",
          "Unitus",
          "CypherPunkCoin",
          "OmniCron",
          "Vtorrent",
          "GreenCoin",
          "Cryptonite",
          "MasterCoin",
          "SoonCoin",
          "1Credit",
          "IslaCoin",
          "Nexus",
          "MarsCoin ",
          "Crypto",
          "Anarchists Prime",
          "Droidz",
          "BowsCoin",
          "Squall Coin",
          "Song Coin",
          "BitZeny",
          "Diggits",
          "Expanse",
          "Paycon",
          "Siacoin",
          "Emercoin",
          "EverGreenCoin",
          "MindCoin",
          "I0coin",
          "Decred",
          "Revolution VR",
          "HOdlcoin",
          "EDRCoin",
          "Hitcoin",
          "Gamecredits",
          "DubaiCoin",
          "CarpeDiemCoin",
          "PWR Coin",
          "BillaryCoin",
          "GPU Coin",
          "Adzcoin",
          "SoilCoin",
          "YoCoin",
          "SibCoin",
          "EuropeCoin",
          "ZeitCoin",
          "SwingCoin",
          "SafeExchangeCoin",
          "Nebuchadnezzar",
          "Francs",
          "BolivarCoin",
          "Ratecoin",
          "Revenu",
          "Clockcoin",
          "VIP Tokens",
          "BitSend",
          "Omni",
          "Let it Ride",
          "PutinCoin",
          "iBankCoin",
          "Frankywillcoin",
          "MudraCoin",
          "PizzaCoin",
          "Lutetium Coin",
          "Komodo",
          "GoldBlocks",
          "CarterCoin",
          "Karbo",
          "BitTokens",
          "ZayedCoin",
          "MustangCoin",
          "ZoneCoin",
          "Circuits of Value",
          "RootCoin",
          "DopeCoin",
          "BitCurrency",
          "DollarCoin",
          "Swiscoin",
          "Shilling",
          "BuzzCoin",
          "Opair",
          "PesoBit",
          "Halloween Coin",
          "ZCoin",
          "CoffeeCoin",
          "RoyalCoin",
          "GanjaCoin V2",
          "TeamUP",
          "LanaCoin",
          "Elementrem",
          "ZClassic",
          "ARK",
          "InsaneCoin",
          "KiloCoin",
          "ArtexCoin",
          "EmberCoin",
          "XenixCoin",
          "FreeCoin",
          "PLNCoin",
          "AquariusCoin",
          "Kurrent",
          "Creatio",
          "Eternity",
          "Eurocoin",
          "BitcoinFast",
          "Stakenet",
          "BitConnect Coin",
          "MoneyCoin",
          "Enigma",
          "Cannabis Industry Coin",
          "Russiacoin",
          "PandaCoin",
          "GameUnits",
          "GAKHcoin",
          "Allsafe",
          "LiteCreed",
          "OsmiumCoin",
          "Bikercoins",
          "HexxCoin",
          "Klingon Empire Darsek",
          "Internet of People",
          "KushCoin",
          "Printerium",
          "PacCoin",
          "Impeach",
          "Citadel",
          "Zilbercoin",
          "FirstCoin",
          "BeaverCoin",
          "FindCoin",
          "VaultCoin",
          "Zero",
          "OpenChat",
          "Canada eCoin",
          "Zoin",
          "RenosCoin",
          "DubaiCoin",
          "VirtacoinPlus",
          "TajCoin",
          "Impact",
          "EB3coin",
          "Atmos",
          "HappyCoin",
          "Coinonat",
          "MacronCoin",
          "Condensate",
          "Independent Money System",
          "ArgusCoin",
          "LomoCoin",
          "ProCurrency",
          "GoldReserve",
          "BenjiRolls",
          "GrowthCoin",
          "ILCoin",
          "Phreak",
          "Degas Coin",
          "HTML5 Coin",
          "Ultimate Secure Cash",
          "EquiTrader",
          "QTUM",
          "Quantum Resistant Ledger",
          "Espers",
          "Dynamic",
          "Nano",
          "ChanCoin",
          "Dinastycoin",
          "Denarius",
          "DigitalPrice",
          "Virta Unique Coin",
          "Bitcoin Planet",
          "Unify",
          "BritCoin",
          "SocialCoin",
          "ArcticCoin",
          "DAS",
          "Linda",
          "LeviarCoin",
          "DeepOnion",
          "Bitcore",
          "SmartCash",
          "Signatum",
          "Onix",
          "Cream",
          "Bitcoin Cash",
          "Monoeci",
          "Draftcoin",
          "Vechain",
          "Sojourn Coin",
          "Stakecoin",
          "NewYorkCoin",
          "FrazCoin",
          "Kronecoin",
          "AdCoin",
          "Linx",
          "CoinonatX",
          "Ethereum Dark",
          "Sumokoin",
          "Obsidian",
          "Cardano",
          "Regalcoin",
          "BitcoinZ",
          "TrezarCoin",
          "Elements",
          "TerraNovaCoin",
          "VIVO Coin",
          "Rupee",
          "Bitcoin Gold",
          "WomenCoin",
          "Theresa May Coin",
          "NamoCoin",
          "LUXCoin",
          "Pirl",
          "Xios",
          "Bitcloud 2.0",
          "eBoost",
          "KekCoin",
          "BlackholeCoin",
          "Infinity Economics",
          "Pura",
          "Innova",
          "Ellaism",
          "GoByte",
          "Magnet",
          "Lamden Tau",
          "Electra",
          "Bitcoin Diamond",
          "SHIELD",
          "Cash & Back Coin",
          "UltraNote",
          "BitCoal",
          "DaxxCoin",
          "Bulwark",
          "Kalkulus",
          "AC3",
          "Lethean",
          "GermanCoin",
          "LiteCoin Ultra",
          "PopularCoin",
          "PhantomX",
          "Photon",
          "Sucre",
          "SparksPay",
          "Digiwage",
          "GunCoin",
          "IrishCoin",
          "Trollcoin",
          "Litecoin Plus",
          "Monkey Project",
          "Pioneer Coin",
          "UnitedBitcoin",
          "Interzone",
          "TokenPay",
          "1717 Masonic Commemorative Token",
          "My Big Coin",
          "MUNcoin",
          "Unified Society USDEX",
          "Niobio Cash",
          "ShareChain",
          "Travelflex",
          "KREDS",
          "Tokyo Coin",
          "BiblePay",
          "LitecoinCash",
          "BitFlip",
          "LottoCoin",
          "Crypto Improvement Fund",
          "Stipend",
          "Poa Network",
          "Pushi",
          "Ellerium",
          "Velox",
          "Ontology",
          "Callisto Network",
          "BitTube",
          "Poseidon",
          "Aidos Kuneen",
          "Bitspace",
          "Briacoin",
          "Ignition",
          "Bitrolium",
          "MedicCoin",
          "Alpenschillling",
          "Bitcoin Green",
          "Deviant Coin",
          "Abjcoin",
          "Semux",
          "FuturoCoin",
          "Carebit",
          "Zealium",
          "Monero Classic",
          "Proton",
          "iDealCash",
          "Jumpcoin",
          "Infinex",
          "Bitcoin Incognito",
          "KEYCO",
          "HollyWoodCoin",
          "GINcoin",
          "PlatinCoin",
          "Loki",
          "Swisscoin",
          "Xt3ch",
          "MassGrid",
          "TheVig",
          "PluraCoin",
          "EmaratCoin",
          "Dekado",
          "Lynx",
          "Poseidon Quark",
          "BitcoinWSpectrum",
          "Muse",
          "Motion",
          "PlusOneCoin",
          "Axe",
          "Trivechain",
          "Dystem",
          "Giant",
          "Peony Coin",
          "Absolute Coin",
          "Vitae",
          "HexCoin",
          "TPCash",
          "Webchain",
          "Ryo",
          "Urals Coin",
          "ARENON",
          "EUNO",
          "MMOCoin",
          "Ketan",
          "Project Pai",
          "XDNA",
          "PAXEX",
          "Azart",
          "ThunderStake",
          "Kcash",
          "Xchange",
          "Acute Angle Cloud",
          "CrypticCoin",
          "Bettex coin",
          "Actinium",
          "Bitcoin SV",
          "BitMoney",
          "Junson Ming Chan Coin",
          "FREDEnergy",
          "HerbCoin",
          "Universal Molecule",
          "Lithium",
          "PirateCash",
          "Exosis",
          "Block-Logic",
          "Oduwa",
          "Beam",
          "Galilel",
          "Bithereum",
          "Crypto Sports",
          "Credit",
          "SLICE",
          "Dash Platinum",
          "Nasdacoin",
          "Beetle Coin",
          "Titan Coin",
          "Award",
          "BLAST",
          "Bitcoin Rhodium",
          "GlobalToken",
          "Insane Coin",
          "ALAX",
          "LiteDoge",
          "SolarCoin",
          "TruckCoin",
          "UFO Coin",
          "OrangeCoin",
          "BlakeCoin",
          "BitstarCoin",
          "NeosCoin",
          "HyperCoin",
          "PinkCoin",
          "Crypto Escudo",
          "AudioCoin",
          "IncaKoin",
          "Piggy Coin",
          "Crown Coin",
          "Genstake",
          "SmileyCoin",
          "XiaoMiCoin",
          "Groestlcoin",
          "CapriCoin",
          " ClubCoin",
          "Radium",
          "Bata",
          "Pakcoin",
          "Creditbit ",
          "OKCash",
          "Lisk",
          "HiCoin",
          "WhiteCoin",
          "FriendshipCoin",
          "JoinCoin",
          "Triangles Coin",
          "Vollar",
          "EOS",
          "Reality Clash",
          "Oxycoin",
          "TigerCash",
          "Waves",
          "Particl",
          "Nxt",
          "ZEPHYR",
          "Gapcoin",
          "Beldex",
          "Horizen",
          "BitcoinPlus"
         ],
         "legendgroup": "0",
         "marker": {
          "color": [
           0,
           0,
           0,
           0,
           0,
           0,
           0,
           0,
           0,
           0,
           0,
           0,
           0,
           0,
           0,
           0,
           0,
           0,
           0,
           0,
           0,
           0,
           0,
           0,
           0,
           0,
           0,
           0,
           0,
           0,
           0,
           0,
           0,
           0,
           0,
           0,
           0,
           0,
           0,
           0,
           0,
           0,
           0,
           0,
           0,
           0,
           0,
           0,
           0,
           0,
           0,
           0,
           0,
           0,
           0,
           0,
           0,
           0,
           0,
           0,
           0,
           0,
           0,
           0,
           0,
           0,
           0,
           0,
           0,
           0,
           0,
           0,
           0,
           0,
           0,
           0,
           0,
           0,
           0,
           0,
           0,
           0,
           0,
           0,
           0,
           0,
           0,
           0,
           0,
           0,
           0,
           0,
           0,
           0,
           0,
           0,
           0,
           0,
           0,
           0,
           0,
           0,
           0,
           0,
           0,
           0,
           0,
           0,
           0,
           0,
           0,
           0,
           0,
           0,
           0,
           0,
           0,
           0,
           0,
           0,
           0,
           0,
           0,
           0,
           0,
           0,
           0,
           0,
           0,
           0,
           0,
           0,
           0,
           0,
           0,
           0,
           0,
           0,
           0,
           0,
           0,
           0,
           0,
           0,
           0,
           0,
           0,
           0,
           0,
           0,
           0,
           0,
           0,
           0,
           0,
           0,
           0,
           0,
           0,
           0,
           0,
           0,
           0,
           0,
           0,
           0,
           0,
           0,
           0,
           0,
           0,
           0,
           0,
           0,
           0,
           0,
           0,
           0,
           0,
           0,
           0,
           0,
           0,
           0,
           0,
           0,
           0,
           0,
           0,
           0,
           0,
           0,
           0,
           0,
           0,
           0,
           0,
           0,
           0,
           0,
           0,
           0,
           0,
           0,
           0,
           0,
           0,
           0,
           0,
           0,
           0,
           0,
           0,
           0,
           0,
           0,
           0,
           0,
           0,
           0,
           0,
           0,
           0,
           0,
           0,
           0,
           0,
           0,
           0,
           0,
           0,
           0,
           0,
           0,
           0,
           0,
           0,
           0,
           0,
           0,
           0,
           0,
           0,
           0,
           0,
           0,
           0,
           0,
           0,
           0,
           0,
           0,
           0,
           0,
           0,
           0,
           0,
           0,
           0,
           0,
           0,
           0,
           0,
           0,
           0,
           0,
           0,
           0,
           0,
           0,
           0,
           0,
           0,
           0,
           0,
           0,
           0,
           0,
           0,
           0,
           0,
           0,
           0,
           0,
           0,
           0,
           0,
           0,
           0,
           0,
           0,
           0,
           0,
           0,
           0,
           0,
           0,
           0,
           0,
           0,
           0,
           0,
           0,
           0,
           0,
           0,
           0,
           0,
           0,
           0,
           0,
           0,
           0,
           0,
           0,
           0,
           0,
           0,
           0,
           0,
           0,
           0,
           0,
           0,
           0,
           0,
           0,
           0,
           0,
           0,
           0,
           0,
           0,
           0,
           0,
           0,
           0,
           0,
           0,
           0,
           0,
           0,
           0,
           0,
           0,
           0,
           0,
           0,
           0,
           0,
           0,
           0,
           0,
           0,
           0,
           0,
           0,
           0,
           0,
           0,
           0,
           0,
           0,
           0,
           0,
           0,
           0,
           0,
           0,
           0,
           0,
           0,
           0,
           0,
           0,
           0,
           0,
           0,
           0,
           0,
           0,
           0,
           0,
           0,
           0,
           0,
           0,
           0,
           0,
           0,
           0,
           0,
           0,
           0,
           0,
           0,
           0,
           0,
           0,
           0,
           0,
           0,
           0,
           0,
           0,
           0,
           0,
           0,
           0,
           0,
           0,
           0,
           0,
           0,
           0,
           0,
           0,
           0,
           0,
           0,
           0,
           0,
           0,
           0,
           0,
           0,
           0,
           0,
           0,
           0,
           0,
           0,
           0,
           0,
           0,
           0,
           0,
           0,
           0,
           0,
           0,
           0,
           0,
           0,
           0,
           0,
           0,
           0,
           0,
           0,
           0,
           0,
           0,
           0,
           0,
           0,
           0,
           0,
           0,
           0,
           0,
           0,
           0,
           0,
           0,
           0,
           0,
           0,
           0,
           0,
           0,
           0,
           0,
           0,
           0,
           0,
           0,
           0,
           0,
           0,
           0,
           0,
           0,
           0,
           0,
           0,
           0,
           0,
           0,
           0,
           0,
           0,
           0,
           0,
           0,
           0,
           0,
           0,
           0,
           0,
           0,
           0,
           0,
           0,
           0,
           0,
           0,
           0,
           0,
           0,
           0,
           0,
           0,
           0,
           0,
           0,
           0,
           0,
           0,
           0,
           0,
           0,
           0,
           0
          ],
          "coloraxis": "coloraxis",
          "symbol": "circle"
         },
         "mode": "markers",
         "name": "0",
         "scene": "scene",
         "showlegend": true,
         "type": "scatter3d",
         "x": [
          -11629339724.629295,
          -10640876391.374813,
          -11602188533.396074,
          -11575476733.630463,
          -11525071201.518116,
          -11605772290.21287,
          -11620735866.01699,
          -11390796134.679958,
          -11607462642.86298,
          -7140240499.771299,
          12260163029.565048,
          -11609645011.761005,
          -11612515868.30524,
          -11608270329.94293,
          -11313493955.794767,
          -11606444484.754934,
          -11567816071.398159,
          -11605748569.105564,
          -11311504286.603197,
          -9053058168.853497,
          -11397176266.849882,
          -11348365956.306879,
          -11539068141.98167,
          -11567784454.353916,
          -11285630193.105762,
          -11531819153.584738,
          -11570904214.153841,
          -11628885527.428473,
          -11607544224.376293,
          -11627954108.524319,
          -11615608829.26826,
          -11611253881.170038,
          43014960884.320244,
          -11623894196.173117,
          10673714439.8714,
          15945414698.224045,
          6332432897.939346,
          -11600696301.449501,
          -11260267055.698568,
          -11591878378.235786,
          -11626498825.20146,
          -11398335035.801043,
          -11619038955.853567,
          -11234017855.494888,
          -9956980476.60862,
          -11535876734.593372,
          -11545943858.787664,
          -11480779384.539675,
          -10789753382.133785,
          112137879969.89963,
          -11601460804.501774,
          -11600606831.57541,
          -11323755157.97431,
          -11602354602.409279,
          -11627618412.460978,
          -11512013620.551725,
          -11573888013.057837,
          -11435933368.288748,
          -978236883.55031,
          -11617777419.845716,
          -8727290932.841646,
          -11607236161.840067,
          -11596283384.594828,
          2542850212.8098526,
          -11603784541.278124,
          -11170107371.167212,
          -11621758652.990253,
          -11624464355.217829,
          -11154274363.26752,
          -11507486278.987682,
          3034143625.2107096,
          -11610603313.08278,
          -11400749202.856354,
          -11572203185.479525,
          -11603976092.04584,
          -11629338327.363947,
          -10578631130.862715,
          -11502602633.053019,
          -11566854637.237415,
          -8826260930.79107,
          -11619964446.905987,
          -11581499273.617115,
          -11558927214.42327,
          -11629022808.766764,
          -11628735892.268753,
          -9694188823.62425,
          -11517621097.155352,
          -11597843832.924252,
          -11613323001.938303,
          -11531006268.271523,
          -11339681703.160006,
          -11621100492.845114,
          -11579320339.016329,
          -11570768201.077623,
          -11612786484.890156,
          -10689402768.762993,
          484428075.56742716,
          -8853125985.727581,
          -11170786700.153257,
          -11504204398.256975,
          -11550889236.38317,
          -11602732524.034891,
          -9967008834.810024,
          -11615742251.33236,
          -11416478396.783663,
          -11617937198.888468,
          -11626973167.33283,
          -11109026208.349241,
          -11414628744.321724,
          -11628605576.113739,
          -11617130853.963953,
          -10367003943.543728,
          -10403578290.308264,
          -11610676090.615498,
          -11596770471.033396,
          -11626155901.904215,
          -11621348503.314596,
          -11606216902.290476,
          -664141868.2382264,
          -9681668625.38697,
          -11628493508.432793,
          -11604921873.368935,
          68034711430.147064,
          -11628582635.6966,
          -11529957571.738136,
          -11584647596.780579,
          -11565498096.129122,
          -11575411825.349709,
          -11620672576.553562,
          -11603220603.320568,
          -11629175117.99139,
          -11431001225.87839,
          -11375039550.154755,
          -11492729026.963606,
          -11609450631.426968,
          -11574518343.808464,
          4926243781.342073,
          -10741888391.964909,
          -11599800089.808577,
          -11607548239.42319,
          -11600652785.50509,
          -11605971067.735764,
          -11342457196.417072,
          -11552641023.71199,
          -11608454133.934036,
          16860950630.474062,
          -11521671451.65598,
          -11617682190.006718,
          17971352683.167404,
          -6592657464.116515,
          -11588470309.698463,
          -11417681016.682983,
          -11534039147.086027,
          -11600510255.741503,
          -11483243827.450838,
          -11599922833.100948,
          -11291623485.344994,
          92588865487.1648,
          -11592513865.34453,
          -8695646157.429146,
          -11602017630.997452,
          -11608734838.205534,
          -11600862257.981495,
          -11497092665.887579,
          -11435881287.290691,
          -11166400743.978777,
          -11509666174.405302,
          -11496779254.299356,
          -11628497647.738672,
          -11581029285.12287,
          -9490809282.204962,
          -11588686925.231808,
          -11492729026.963604,
          -11453656185.751001,
          -11607002727.584475,
          -10731807121.377956,
          -11398185558.338926,
          -11578259163.397345,
          -11529816458.494795,
          -11616767913.523655,
          -11610857776.20564,
          -11617786117.8753,
          -11626413096.607414,
          -11609864119.462683,
          -10090049607.477415,
          -11628369460.333494,
          -11397711825.694962,
          -11544507498.964664,
          -11615572812.57018,
          -8612279745.093794,
          -11597800626.4852,
          15481622765.17619,
          -11528230913.30407,
          -11612571785.640873,
          -10198079410.665728,
          -11607023629.10172,
          -11520316022.512915,
          -11625924343.732525,
          -11492729026.963606,
          -11359787127.160011,
          -4588504176.791841,
          -11593540197.315113,
          -11608347740.032898,
          -11466978562.220085,
          -11594187415.498875,
          -2872021425.039923,
          -10784223011.508114,
          35221022772.864716,
          -11624075723.201506,
          -11561034404.484758,
          -11587419367.611647,
          -11591746165.965021,
          -11401217252.871508,
          -11602017630.997452,
          -11574349073.646908,
          -11605810828.446064,
          -11590638701.164742,
          -11525287546.758005,
          -11599551699.018972,
          -11060465564.522024,
          -11624602722.506878,
          -11610666343.794203,
          -11500457727.241018,
          33438899569.772976,
          -11616345744.687334,
          -11624810057.617401,
          -11611090153.85896,
          -11545955595.788242,
          -11626542259.320269,
          -11603011590.69508,
          -11619742213.665802,
          -11184395876.157532,
          -11609892076.092035,
          -11618409381.900225,
          -11606108357.09802,
          75230567713.0821,
          -11610193271.765108,
          -11463659062.68345,
          -11580252685.151264,
          -11479067951.459375,
          -11624872079.221653,
          -11609497272.726627,
          -10748227983.62134,
          -11611157086.230598,
          -10263232231.582842,
          -11492807353.25179,
          -11601879121.875147,
          -11581497298.86868,
          -11626289399.090467,
          -11536164536.178356,
          -11591293120.923588,
          -11478752634.967894,
          -8133626811.708427,
          -11478248671.39188,
          -11531983624.559835,
          -11582494173.86152,
          -11082185784.973837,
          -11135526840.519283,
          -11608286417.23652,
          -11604000281.490318,
          -10763176564.263771,
          53364436679.132286,
          -11586114227.554808,
          -11588440209.746433,
          -9749888424.612595,
          -8805427021.178717,
          -11597665060.802507,
          -11527735369.568296,
          86640256394.46646,
          -11450910680.505339,
          -11560154675.592703,
          -11492729026.96361,
          -11503887473.26799,
          43071691047.56611,
          -11619443823.035538,
          -11268034759.784052,
          -11594155179.924334,
          -8992428154.943316,
          -11618594148.759277,
          -11525172150.38594,
          -11493946932.221565,
          -11539344965.981798,
          -11603577624.82892,
          -11592724207.23719,
          -11561811405.696419,
          -11564358749.173307,
          -11611662071.060495,
          36190540320.95645,
          -11575496818.519554,
          -11602012823.04196,
          -11602251212.67978,
          -6178833885.583127,
          -11456269351.799774,
          -10615573717.305508,
          -11519073365.997053,
          -11602154312.770767,
          -11614820236.19823,
          -11604932515.066452,
          91194417575.89493,
          -2537009315.1302814,
          -11573998786.368814,
          59901799860.74497,
          -11607167611.839495,
          -11547872811.648819,
          -11526418756.921156,
          -11525883651.452557,
          -11577784149.034172,
          -11623602130.294134,
          -11547894661.620821,
          -11537700033.845968,
          40305326908.342834,
          -11602327514.70228,
          9161625659.830015,
          -11191619823.429943,
          -8718742814.684263,
          -11615145493.280214,
          -11603876333.975544,
          -11596553200.795761,
          -11602551081.277067,
          34257646428.35733,
          -11496705172.52573,
          -10309853437.12479,
          -11573230492.224363,
          -11476991633.24061,
          -11610080344.511227,
          -11440795411.392195,
          -11492734028.160883,
          -11604987805.844872,
          -11608349965.931408,
          665628166.7997627,
          -11238628193.120174,
          -11587184822.521242,
          -11380503444.539196,
          -11598886457.360834,
          -11485541568.284073,
          -11052281924.576328,
          28553150581.627766,
          -11355695329.748957,
          -10816878176.350988,
          -11391987960.806372,
          71617935132.0814,
          -11616264993.064785,
          -2709661409.799442,
          -11598713864.093922,
          -11603540340.43673,
          -11112913846.344189,
          -10543164714.65168,
          34123021321.544697,
          -11495241475.782816,
          -5316902796.56419,
          -11563448235.707874,
          81353527162.40547,
          -11610079359.715601,
          -11607230372.035532,
          -11511775059.668705,
          -11046425955.557537,
          -11551170974.357718,
          -10554391687.040085,
          -11624623399.462946,
          -11608951123.573292,
          -11605183079.66699,
          -11601790857.144083,
          -11603463169.245453,
          -11597465047.938795,
          -11627129374.90778,
          -11598660889.612709,
          -11612555517.881266,
          -11310979144.017523,
          -11271400699.14595,
          2031735722.2247703,
          -11489064969.699009,
          -10354812220.483913,
          -10821415046.088156,
          -6240201232.744892,
          -10582657474.048433,
          -11588477787.289509,
          11557830267.654623,
          -11090693319.91422,
          -11606964649.21128,
          -11308451386.52886,
          -11606607618.952333,
          -11577175275.564613,
          -11509176576.918148,
          -10437875804.548332,
          -5877050128.815711,
          -10723386556.090996,
          -11609119709.029266,
          -11595187093.245337,
          -11579147517.89453,
          -11626319059.32032,
          -11624418909.807293,
          -11533034251.431044,
          -11062682412.926693,
          -11355890279.21113,
          -11606251854.663242,
          -11542196880.5105,
          -11598420216.139154,
          -11542132657.081408,
          -11526841556.205013,
          -11386260190.091919,
          -11554526951.956736,
          -11605395434.431005,
          -11588170935.351818,
          -6491823242.975273,
          -11600616836.837923,
          -11604033749.199797,
          -11605701004.677832,
          -11613355467.677748,
          -11587465110.378004,
          -11616753136.023262,
          -11109749294.756151,
          -11489872273.88816,
          2304957232.3093867,
          -11587423121.194908,
          -11415908754.021994,
          -11526122915.595303,
          -10483274787.822987,
          -11545799210.487864,
          -11536259614.820755,
          106985837856.92192,
          -11065137593.063606,
          -11513604682.516073,
          -11604581503.308176,
          -11606159631.309517,
          -11606831222.46554,
          -11608658120.331718,
          -11539392889.91508,
          -11607613033.322327,
          -11621918567.712223,
          2987794901.3176155,
          -11577210441.948032,
          -11509708688.291834,
          -11609489937.766855,
          -10760723709.57001,
          -10106198692.172428,
          -11550529467.365416,
          -11440122083.05405,
          -11572076058.838104,
          -11570652580.16469,
          -11350299484.192385,
          -11442832647.423435,
          -8760513926.11747,
          -11310078414.494417,
          -11540495274.6167,
          -11605183038.068861,
          4487279514.462247,
          -10263232231.582846,
          -11537869696.724323,
          -10263232231.582844,
          -2930020881.7105017,
          -11582649103.715006,
          -11549783003.859167,
          -11602155850.868631,
          49088877128.79906,
          -3021031794.164084,
          -3698871320.2195945,
          -11564917514.88098,
          -11537525546.007406,
          -11599567391.370262,
          -11531678324.22883,
          -11610952481.555933,
          -11507780988.551792,
          -11603763958.580412,
          -11383927115.210567,
          -11603720203.820929,
          -11590014905.550316,
          -11616794796.582993,
          68559810073.02852,
          -11536283061.581764,
          -11611923324.664742,
          -11546325820.919289,
          -11096875470.037926,
          -6851419315.961387,
          -11257943155.960428,
          -11547764256.493065,
          -11626935990.662966,
          -11441543376.441122,
          -11591469785.47223,
          -10263232231.58284,
          26340041426.573235,
          73344530683.4169,
          -11508005565.73597,
          -6252601160.788507,
          -11454387895.172768,
          -5556265001.982579,
          -11572066430.001953,
          -11608958623.365288,
          -11624522309.41615,
          -10978121569.307384,
          -10373169615.19356,
          -2046695068.257025,
          -2491465747.566142,
          -10516210233.3032,
          -11581473497.054829,
          -11586339419.404251,
          46464062917.77802,
          -11080737684.812057,
          -11501755551.044727,
          -11348508537.977291,
          -11438962597.447443,
          -11619635198.086006,
          -11622482956.075449,
          -11436887817.609201,
          -11606594669.122263,
          -11501066352.616592,
          -11430834937.284307,
          2039509000.9222224,
          -11243514066.335863,
          -11576678985.473782,
          -11625248115.99867,
          -11629165456.183369,
          -9760902785.909222,
          -11118869096.104452,
          -11595886616.765253,
          -11067930415.650421,
          -10263232231.582842,
          -11492729026.963606,
          -11617219993.198042,
          -10263232231.582846,
          -8897124683.507883,
          -11405393075.755035,
          -9926566770.270992,
          -11607505919.059813,
          -11628409680.43661
         ],
         "y": [
          -550257434.624461,
          -1197852433.8184314,
          -555276712.2831811,
          -643502600.5625212,
          -562827595.0348374,
          -547073458.102006,
          -565152114.8017558,
          -543376243.1531417,
          -546146421.5131595,
          -1123233543.56045,
          77030798.74857317,
          -540369184.3231486,
          -554391906.7526184,
          -544748191.548966,
          -397306985.498297,
          -549908231.6255181,
          -528814134.1734324,
          -557573287.9764473,
          -1100479311.3710718,
          -1011750065.3335545,
          -612708826.1860613,
          -536860473.1931975,
          -506609187.323896,
          -656819113.4107462,
          -651463349.7067673,
          -551145857.1306599,
          -555123776.750885,
          -550044192.1772791,
          -546005191.426332,
          -550657009.5768622,
          -547758015.4479061,
          -545580875.4450381,
          -15179002706.42775,
          -550927966.958626,
          -6063128242.570126,
          -6302703923.6089525,
          -4655330384.429084,
          -557859994.191535,
          -589826948.5421357,
          -551133720.5820036,
          -555175550.344731,
          -950161993.7406647,
          -545626834.9477369,
          -562881396.3033983,
          -605252535.4336079,
          -572110679.4882451,
          -550193292.4271817,
          -567531496.7838238,
          -2003709988.931872,
          -33680693273.5721,
          -554537299.8064837,
          -558014880.2383051,
          -548635920.5608314,
          -556988443.9846631,
          -550538422.9419506,
          -553444705.0257801,
          -562285570.5772628,
          -485229008.662322,
          -18988946850.04811,
          -550281412.1322552,
          -737628907.8308334,
          -556174747.6789268,
          -607483102.9683111,
          4903851170.974557,
          -552513778.346031,
          -671521004.5651191,
          -563381513.9979156,
          -551160460.1561706,
          -532994890.3565458,
          -565280671.4171788,
          -25934991666.67469,
          -540709440.6352735,
          -446177055.36216986,
          -546809417.2428002,
          -594165848.8845273,
          -550257938.2498235,
          -593885267.9010186,
          -569736564.881047,
          -564441381.0782326,
          -804604024.375053,
          -546495333.5331137,
          -549109313.5297681,
          -512214544.84836596,
          -550306342.8133793,
          -551302844.8340518,
          -701543800.200826,
          -543737304.7151852,
          -558799608.6570603,
          -577984917.1737326,
          -552553086.0323164,
          -521064633.04402536,
          -553525165.745596,
          -636848731.3172317,
          -561688774.9015895,
          -578913710.3061894,
          -178209678.14401585,
          -1528817950.2068784,
          -1040361140.805441,
          -344471701.1248004,
          -556727644.5148867,
          -550120186.1634408,
          -596318655.458519,
          -69312794.96159226,
          -573796826.1696464,
          -586110410.1130368,
          -546006364.9871956,
          -549100434.5626519,
          -451388565.8216791,
          -602079477.0554048,
          -551528442.0452613,
          -551400716.6403565,
          -736331392.6501753,
          -673015600.1398149,
          -542582674.1691428,
          -606639881.7871605,
          -555769203.0619044,
          -557351492.8017577,
          -550302211.7064663,
          459532428.6478475,
          -243404759.9031615,
          -550483973.947546,
          -550544882.4108388,
          45467553746.361916,
          -551568155.4187053,
          -566363875.7469198,
          -561652087.4794934,
          -529250095.0428142,
          -536136760.6845172,
          -555145612.2817804,
          -553490041.2698565,
          -550542477.8779792,
          -473295262.8671062,
          -490684399.44264483,
          -586829288.3276434,
          -550888932.5792814,
          -545200590.9044302,
          -29210506651.69115,
          -87349030.65730116,
          -548819592.4775566,
          -555994353.6791985,
          -557935326.9520836,
          -548728566.3666788,
          -627058344.297088,
          -519174228.5372882,
          -542430776.1236326,
          3208048575.0562506,
          -568713082.429706,
          -549446658.2685716,
          -8557839557.109886,
          -9269525452.488379,
          -537041383.0496886,
          -474737725.7722202,
          -547302708.5760871,
          -540189064.544709,
          -466600158.02006567,
          -553201318.5458277,
          -367194549.64295197,
          16955112765.388832,
          -534039814.4639937,
          -1335632326.7975175,
          -557571793.077134,
          -545943279.2290567,
          -549575807.7015827,
          -629255725.9968992,
          -439886835.6493698,
          -302083898.032158,
          -577500719.4448669,
          -501848044.13427454,
          -550482865.8199137,
          -566916327.505358,
          -253935883.64557537,
          -532001536.3785522,
          -586829288.3276448,
          -454548098.88797057,
          -538945714.9264095,
          -790534599.0092841,
          -550576245.5628136,
          -538724659.6066356,
          -542617493.3780016,
          -552029022.0960534,
          -540268926.0201396,
          -550794149.273514,
          -549326291.9149258,
          -541989097.9365075,
          -815937223.9166528,
          -551937194.6019796,
          -551396349.281527,
          -697115086.0821643,
          -552821824.9988242,
          424339856.28096515,
          -544879847.5374013,
          -7499031679.805196,
          -577349876.1185514,
          -579285387.5696824,
          -29154324.17372227,
          -546106732.4985725,
          -659025535.305933,
          -551171761.3402058,
          -586829288.327644,
          -415128326.5433724,
          2267143146.878301,
          -559841274.6748776,
          -544614182.8344293,
          -581426719.7315146,
          -551134868.8117119,
          4281709891.0724764,
          -1013672615.630977,
          -79956066968.13617,
          -551666652.8879973,
          -568543353.7960728,
          -545778034.8008883,
          -531370374.4325692,
          -489349685.9636466,
          -557571793.077134,
          -525501397.63622266,
          -551005187.6869268,
          -551280568.7607182,
          -577447237.6800674,
          -545846918.1185563,
          -234251932.79005042,
          -548461881.4228443,
          -540600324.8259792,
          -485483931.5123175,
          -13565721979.956404,
          -546762193.2229341,
          -551470065.2760029,
          -551861980.229639,
          -536999096.673801,
          -549673897.3696588,
          -545854983.7862444,
          -546880055.2872851,
          -320912134.3696909,
          -541940700.7318999,
          -550478886.872916,
          -550490120.0490993,
          49004205746.95853,
          -539553344.508433,
          -467219926.56604,
          -525277455.39811754,
          -590486475.2339575,
          -551274308.7560878,
          -555569428.9303772,
          -76374227.12893635,
          -547747664.8838706,
          -915976109.8958298,
          -586693693.5337703,
          -555812350.9860617,
          -564253998.2919663,
          -551074032.8945398,
          -511635773.410527,
          -542350699.9166212,
          -591032336.3446987,
          1395018687.9181976,
          -591324939.9084133,
          -518873571.3743984,
          -534887849.3348983,
          -697775705.292465,
          -405511915.2098723,
          -544296264.8878803,
          -536946207.3877076,
          -50495945.92890211,
          36877260943.11746,
          -545118567.0400596,
          -550047653.3209231,
          194569767.87157667,
          -440826194.3167255,
          -545114532.4845272,
          -516231838.1112903,
          9260062385.586756,
          -459132654.1681309,
          -526083402.3442334,
          -586829288.3276428,
          -557516196.8909546,
          4715014524.80612,
          -567388838.9695055,
          -495431523.3595292,
          -551190673.5253854,
          -1116709899.7593174,
          -548867529.3700871,
          -530665275.7692979,
          -544736456.2527158,
          -506129962.6075419,
          -556317042.7458717,
          -553667906.2790142,
          -517217681.1987529,
          -542796178.471367,
          -543074935.9405233,
          16627339697.51325,
          -535509811.0781586,
          -559782884.5727361,
          -555168204.849071,
          10195504.681562828,
          -574975719.8928404,
          -106096808.6056681,
          -541223205.0583274,
          -555335953.4235748,
          -556385824.6120131,
          -557711883.487146,
          -5196063116.450084,
          4701363941.473316,
          -522909112.37183493,
          -124381609071.49028,
          -548656387.956541,
          -523354517.7647992,
          -528507209.0447288,
          -529433558.51692,
          -543041623.2520728,
          -551793437.7651653,
          -513542716.82477975,
          -526193005.53443587,
          -492098629.63832164,
          -543040778.872595,
          5441073264.107331,
          -508328634.1782556,
          -1990345632.0029418,
          -543375471.0657194,
          -540359535.6402019,
          -559034667.8396624,
          -554649086.4077001,
          -30007089683.612278,
          -579945971.7499466,
          -435423150.47243494,
          -527437833.29457295,
          -501503434.11684006,
          -541614779.2809398,
          -476812067.8404819,
          -586820630.4896492,
          -550430743.2030244,
          -557028948.3798413,
          -3841725626.2872267,
          -526911080.0334943,
          -533269090.3686915,
          -421248884.44922405,
          -539401507.4398254,
          -511306085.81214935,
          -549621606.6096576,
          -10135621299.317993,
          -604141109.2016255,
          -637265913.6818827,
          -541313009.7011652,
          25269886972.27965,
          -547901597.9331882,
          4000639853.017481,
          -547864875.9247864,
          -554935749.9638646,
          -344697340.2540546,
          -432406698.6942546,
          20206531550.7743,
          -482518725.71688294,
          -1481939144.093225,
          -564364642.4752192,
          18412199900.731064,
          -544015551.2121681,
          -546548517.868077,
          -513873238.77519894,
          -559759185.326467,
          -557629344.9361092,
          -611856784.3814623,
          -550425309.029691,
          -543569633.5689658,
          -546094249.1618475,
          -557632502.3797786,
          -549071677.3600324,
          -555456898.2802552,
          -550849164.1746691,
          -543390600.3873061,
          -546126454.6783943,
          -637568774.3762563,
          -498165971.92968524,
          -4207444325.577679,
          -593172332.2924517,
          -557514873.1233792,
          -349520736.14861697,
          516276292.3704978,
          -682877735.524078,
          -541026883.3604767,
          -3891148148.9834924,
          -483125601.83054966,
          -550326046.6988802,
          -601039016.0803474,
          -539629708.4460381,
          -520608809.5234163,
          -510374719.8229005,
          -613641353.2332186,
          2486595503.200057,
          -119378540.54287231,
          -543277786.3401064,
          -559400386.5302926,
          -537186781.9958357,
          -549489084.8527272,
          -548780089.3411614,
          -577031452.9275728,
          -531616769.3219986,
          -423873589.3975582,
          -548242481.2164963,
          -525183533.0220627,
          -543807243.0087698,
          -501304042.61552244,
          -527775278.76849437,
          -571220883.3576661,
          -519832072.7051377,
          -554923054.44173,
          -531561978.11937505,
          795835623.1311839,
          -557997559.5974619,
          -541526466.0517813,
          -549196086.8572254,
          -541942707.5203682,
          -570769098.258037,
          -551054992.9198083,
          -250213498.7023348,
          -491813636.03467715,
          -4280588063.7039447,
          -534855781.4720509,
          -583869803.6774752,
          -529019355.6628038,
          -535048764.1787834,
          -526944238.770661,
          -531463403.554533,
          -21962808161.66437,
          -227483089.2938467,
          -550166127.0719098,
          -556968234.430407,
          -546251570.2257538,
          -547239506.8696492,
          -544076867.028739,
          -540940302.3408482,
          -545886072.6084795,
          -552806681.6131729,
          7892122265.123685,
          -535542100.5013891,
          -557434895.5726362,
          -540427196.9767423,
          -54742212.85058259,
          311591734.0513966,
          -510380920.59164625,
          -457985476.429756,
          -539432447.1034107,
          -551892819.4858057,
          -513521014.64025766,
          -453293074.61317533,
          -1318266669.5902734,
          -371232248.96626675,
          -504138602.2882602,
          -542095876.009133,
          7535414173.456771,
          -915976109.8958286,
          -508683879.50467443,
          -915976109.8958286,
          -416018370.2651051,
          -531125000.96953297,
          -520047682.66467655,
          -555333290.7407429,
          34282796050.653015,
          -15452556178.894762,
          1874606262.7733345,
          -553824205.0001177,
          -499043634.57074106,
          -551359997.8777719,
          -509405980.0646169,
          -540104976.5626947,
          -520787587.2320169,
          -552549410.146269,
          -449708614.89494914,
          -556551631.483948,
          -556586810.9905858,
          -545245103.301705,
          10171899198.355066,
          -511430587.7951202,
          -541023287.8965452,
          -526032595.50811297,
          -472423353.69417554,
          1174543834.1125855,
          -353528342.11711216,
          -563526895.009886,
          -550220382.5923315,
          -539492348.5004754,
          -555839502.3625073,
          -915976109.8958303,
          3691722311.766083,
          48470701624.83482,
          -760305519.6779767,
          -1861324633.4555109,
          -453281397.879611,
          2930878638.9628353,
          -540936299.7866932,
          -543556650.2810643,
          -558597201.7049594,
          -678004532.9523296,
          -725657671.2743409,
          3852554930.070806,
          -15989463772.989277,
          -478032466.7808736,
          -549153936.7045778,
          -594709290.0477072,
          -1157700436.7246568,
          -700282588.3262919,
          -561206880.5825912,
          -620580990.9717768,
          -559953852.6278687,
          -549064536.2197694,
          -552131521.5781963,
          -519562717.2846244,
          -556636855.9057508,
          -562399988.5540028,
          -574187212.9951994,
          -4203236659.796989,
          -618414014.775954,
          -521131804.3542344,
          -551742896.1832525,
          -550319297.2366409,
          413559571.4641088,
          -1433960311.8748972,
          -559213118.1634148,
          -1522142964.681866,
          -915976109.8958249,
          -586829288.3276435,
          -553977061.1388501,
          -915976109.8958246,
          -1281694796.4622004,
          -438137800.55906194,
          -698661475.1759613,
          -546071503.792363,
          -549868344.8644642
         ],
         "z": [
          0.8147277981290548,
          0.8144836720568408,
          -0.7128576360885743,
          -0.7060309132020937,
          -0.5748212248148673,
          0.7739626850176606,
          -0.6960245568127882,
          -0.7058650254805575,
          -0.7130067702466402,
          0.1232961458799231,
          -0.6922548510159574,
          0.6767303792992861,
          0.0870560319350678,
          -0.574835520405976,
          0.7219090374768434,
          -0.6156168691396535,
          -0.5748049203256292,
          0.8147297574863739,
          0.8143221900501424,
          -0.7013882813076778,
          -0.712834731949109,
          -0.5747292975978413,
          -0.5747727667687209,
          0.8146492438442923,
          -0.660072467127177,
          -0.6788966105286899,
          -0.5748312576880586,
          0.8147281745388488,
          -0.5748364470308591,
          0.8147279420190205,
          -0.5748411854885986,
          -0.6156145560621862,
          0.168732253263705,
          0.7106452271226581,
          -0.6987301746912432,
          -0.7078959459128494,
          -0.5719556725264117,
          -0.5748451860573508,
          -0.5747465108016026,
          -0.5748354045364895,
          0.13111729401016897,
          0.16057855320117598,
          -0.5748404493594179,
          -0.6923888842036615,
          -0.5742664443882638,
          -0.5748342065359482,
          -0.5748170649978105,
          0.814767679811849,
          0.18321940261424854,
          -0.5595467949703603,
          0.7739571828839115,
          -0.7128596545888201,
          -0.5747312166635897,
          -0.5748449820388766,
          -0.5748484046145492,
          0.7141116489840373,
          -0.5748392407282613,
          -0.682394528591717,
          0.21147547113320095,
          -0.5748444224417703,
          0.6776360503518531,
          0.22507068557551585,
          0.7549798183221187,
          -0.5642512176301454,
          -0.7128555993315441,
          -0.5747904191979765,
          0.7550123287705814,
          0.6970506728347954,
          0.8149246783572391,
          0.8147596928538249,
          0.7960148874590913,
          -0.5748325431526273,
          -0.57466244833797,
          -0.5748237982774617,
          0.18425847882875604,
          0.7739506917440593,
          -0.7125059491347769,
          0.09802122012709681,
          -0.7128529867184363,
          0.12555017743468297,
          0.7739578496295,
          -0.7128438819167565,
          -0.7128000225096505,
          -0.7128630701956126,
          -0.6156266664847054,
          0.8153178161056025,
          0.8147764509441454,
          -0.5748450017871035,
          0.16085424133292578,
          -0.6817951018665145,
          -0.5747108918874807,
          0.7739506943483295,
          0.0979279005519438,
          -0.7128518397498248,
          0.7550008788732109,
          0.8154405250061545,
          -0.7388164573602474,
          0.05845471569070959,
          0.12163545778060471,
          -0.5748074677483335,
          0.6767433604691924,
          0.710609845915019,
          -0.5737576314282798,
          0.2250506007320211,
          -0.5748022649733943,
          0.7550303988060436,
          -0.5748467842133386,
          0.22536006853916343,
          -0.574816836949151,
          0.81472686115979,
          0.7550255453144852,
          -0.5745474941067117,
          -0.6821811594471527,
          0.1843052737668737,
          -0.7019665730475948,
          -0.6824143523394646,
          -0.5748525407345839,
          0.8147365343777355,
          -0.5697197630264051,
          -0.6814928329836732,
          -0.5748486847837188,
          -0.7128541479169506,
          -0.5005870886371899,
          0.7739497254504251,
          0.059751731590452474,
          -0.6156198263501348,
          -0.6925562029667934,
          -0.7128291625824142,
          0.7137789723835407,
          -0.6156190710850014,
          0.1201989693323507,
          -0.5746998724359553,
          -0.5746952578976643,
          0.22508483994571074,
          -0.7059552281735609,
          0.7550476544234362,
          -0.7070843136353138,
          0.677493150560892,
          0.7216554150522165,
          -0.6156231095124047,
          -0.7128595959443795,
          0.7107598075387752,
          -0.5748133274773481,
          -0.682471679503322,
          0.6767288595519131,
          0.7883624221709079,
          -0.5748255634303027,
          0.6767186453079144,
          -0.7092837672518366,
          0.7228373823635396,
          0.8147559560899369,
          0.22522054788051657,
          -0.6155868867398965,
          -0.6891901028162429,
          -0.5747133036708819,
          -0.6825224223355961,
          0.7742540105659372,
          0.2813803325815963,
          0.6767429374803131,
          0.1623402385447972,
          0.13112429684305962,
          -0.5748368398547071,
          -0.6156144317672307,
          0.7739253411460046,
          0.6768924626960366,
          0.6771265837754872,
          0.729284359766976,
          0.7740473241799081,
          -0.5748486852953837,
          0.12245217204840557,
          0.8158231655566222,
          0.814760694404859,
          0.8147446847482984,
          0.16552040564932421,
          -0.6156065955624278,
          0.18440179202061757,
          0.022122799916085737,
          0.7739811165023139,
          0.8147728917997537,
          -0.7424766492033091,
          0.6767300147431068,
          -0.7128592705254179,
          0.7739526934803419,
          0.8147431010346909,
          -0.7015947046195901,
          0.8147265598389252,
          -0.574761936224773,
          0.22495969398632304,
          -0.7128603696458287,
          0.16296253317793288,
          -0.5748316712850855,
          0.7280200032184289,
          0.1311333940414995,
          0.8147063995218303,
          0.7749925298659283,
          -0.692586980810294,
          0.13105827723436042,
          0.16536258086734965,
          0.7137973323739472,
          0.1313525104728301,
          0.7297411856538502,
          -0.7059577502509425,
          -0.7130056407234697,
          0.061382623141241835,
          0.7739631987703488,
          -0.5669021615224902,
          -0.6157482805611776,
          0.6968589728064296,
          0.7739513423850715,
          0.13112936283096036,
          0.814747998591832,
          0.8147601365976621,
          -0.6154810266213381,
          0.13112429684305962,
          0.7739952489561137,
          0.6767216618098136,
          0.8147415131895628,
          0.1199136117074367,
          0.8147433264048034,
          0.8152460392271167,
          0.7739542076269447,
          -0.7424634011882548,
          0.8148386860951988,
          0.22972993286870155,
          0.8147360747331674,
          0.8147283580468608,
          0.13981597531155043,
          0.7072106383479689,
          -0.5748471691206727,
          -0.7424655209196472,
          -0.692593660776442,
          0.8151160968897676,
          0.6767287823579052,
          0.7739546298186489,
          0.8147363958570011,
          -0.5352493646908618,
          0.8147453058361812,
          -0.695871248165302,
          0.2251104833523427,
          0.16089344563942146,
          -0.5748480657766444,
          0.1653646114381476,
          -0.6148380987178121,
          -0.7130097044932248,
          0.8148966643853228,
          -0.5748318028096572,
          -0.692595422311127,
          0.22507273017517138,
          -0.6825304369002629,
          0.7740230088545126,
          0.7138024784919764,
          0.7739688645837203,
          -0.5716609315708314,
          0.13113900388188335,
          0.7740176733538382,
          -0.6602791197264407,
          0.13118755870485843,
          0.774276625881844,
          0.8147414932636123,
          0.8147501508361683,
          0.8155346719701552,
          0.14752889379462106,
          0.7739720184562057,
          -0.5748330603504402,
          0.22649394647998589,
          -0.7116863146942088,
          0.13113786462223184,
          0.8147989195178069,
          0.7683364554256659,
          0.08720850324781125,
          -0.5747993995968861,
          0.12246665061593373,
          -0.6959728891329393,
          0.7397100248988568,
          -0.6825435057946929,
          -0.6857671680436734,
          -0.6825182894285508,
          -0.742020373119624,
          0.7292703902457264,
          -0.6155676066729292,
          0.7293216665716465,
          0.7173335463856969,
          -0.5748448041978075,
          0.7550326432816794,
          -0.5747915486457975,
          -0.6155940877835111,
          -0.6156123141368116,
          0.8493138273435702,
          -0.7424451793004138,
          0.7550232677494569,
          -0.682525201062234,
          -0.6764678431781991,
          0.12130499975343931,
          -0.6148161629897025,
          0.7173076766364037,
          -0.7128576797594731,
          0.7739503425944056,
          0.22507008995120148,
          0.09118394579599239,
          -0.5663735724962731,
          0.13116808927206025,
          -0.6661337718606919,
          -0.5748388398819969,
          -0.5747921263747836,
          -0.5747889093731764,
          -0.5747895922518996,
          0.8147542741574871,
          0.8147285073602685,
          -0.742413688264098,
          0.12219761834597452,
          0.1411323052103817,
          0.7739678501140094,
          -0.6993946290989774,
          0.697255979751316,
          -0.615898253475588,
          0.8147397697967985,
          -0.6925077670291802,
          0.1180905549795803,
          -0.7130130381715677,
          0.8039746459397822,
          0.676735404581444,
          0.7298757901368123,
          0.7144321824859964,
          -0.6891062039329525,
          0.8147433769718544,
          0.7296122605927668,
          -0.574831896384004,
          0.12127185271620275,
          0.814729290464858,
          0.08857339534216419,
          -0.6154552232419,
          -0.6924946478048088,
          -0.70574430416942,
          -0.6925049561716714,
          0.7740425442970165,
          0.061570492889871105,
          0.735352834163236,
          0.7550743593384752,
          -0.7016997636036975,
          0.8148264690813498,
          -0.6861764242445412,
          -0.7424725104231031,
          -0.6982227445228157,
          0.13961905244829223,
          0.139815901734006,
          -0.6152332076533196,
          -0.6954884641947301,
          0.8519523067045345,
          0.8148435027439919,
          -0.5733432800280529,
          0.773962215429561,
          -0.6253867858840134,
          -0.6156126129144824,
          -0.6925149601551025,
          0.13989001823747457,
          -0.6923146745386309,
          -0.5748261620868972,
          0.8150770062035256,
          0.8147294282134588,
          0.18430498467199488,
          -0.6156127421879469,
          -0.7128597383894278,
          -0.6790763721510125,
          0.1224568926745793,
          0.09395484046082239,
          0.16089308454745366,
          -0.6825204420259869,
          0.8147651582474805,
          -0.7422940036901277,
          -0.5731601267590462,
          -0.6891984681237392,
          -0.6813532803607671,
          0.16586090712609486,
          0.05934748110167408,
          0.05652456590819689,
          -0.5748244463507337,
          -0.5692408060153169,
          -0.6153571762551431,
          0.71049768616091,
          0.056325358846493145,
          0.7739694877314429,
          0.7155110750008669,
          0.225151723229473,
          0.12165636623082242,
          -0.7008734785591452,
          -0.7417236323246017,
          -0.5748344364646968,
          -0.6825265736724723,
          0.7292965395144875,
          0.8147296799077612,
          0.8147310794868207,
          -0.7130080530963855,
          0.2253009265686345,
          -0.6923747179744252,
          0.12127347365928812,
          0.1311779880922625,
          0.8147457069233595,
          0.05935242526771064,
          -0.6155654762485897,
          0.7295426650747149,
          0.131178425327787,
          -0.7424750995066818,
          0.11811811489194829,
          0.8179658900425844,
          -0.6603081045683344,
          -0.6925825760706444,
          0.06172138895982566,
          -0.6825167261138769,
          0.2250642327458551,
          -0.6925954077835653,
          -0.7419954654512593,
          -0.685329742362851,
          0.8164502340082421,
          0.22509859937878487,
          -0.6824816950619155,
          0.7244326707446243,
          -0.7420300526985282,
          0.8147818148986772,
          0.1320362957623415,
          0.18554771951448684,
          0.14033352278499184,
          0.0870976276084547,
          0.12304540887204164,
          -0.6818195080484967,
          -0.6825193279226159,
          -0.6156121319582445,
          0.7077875090664189,
          0.13982301136487796,
          0.7294708052771829,
          0.23869270621020844,
          0.7077802140582985,
          0.1398491365362934,
          -0.5748318504727699,
          0.8155315417418542,
          -0.6946109343507377,
          -0.6824624224555993,
          -0.6739535787912779,
          0.1843229422576063,
          0.7739714093059727,
          0.225209034943,
          0.13128447629263895,
          -0.7125085245934373,
          0.7107957254131703,
          0.1843686907551816,
          -0.615608917772396,
          0.8285806752887598,
          0.05761747773371894,
          -0.6817576472229382,
          0.05642189618087876,
          -0.7095877265643242,
          0.12583909332057663,
          -0.692540322980873,
          -0.7128576777966185,
          0.11777241443643943,
          0.1733052922352067,
          -0.7371493993979042,
          0.7294914737045619,
          -0.6890994658914936,
          -0.6891730614378471,
          0.08697388744045541,
          -0.6825140430583542,
          -0.574774449410041,
          0.8147353162701538,
          -0.7128296584727487,
          0.7294741326747599,
          -0.7130101319546392,
          0.13982013839078347,
          0.8554289601617154,
          -0.6823378207844011,
          0.18430629176335295,
          0.814782486936397,
          0.7157395200218608,
          0.7278369620134474,
          0.7742798696048655,
          -0.7128448639484404,
          -0.6345536359549583,
          -0.7127815461255302,
          0.7739597306470872,
          0.06151965856258563,
          0.8332010981502486,
          -0.4956986236324364,
          0.7737958501483904,
          -0.6917395286923121,
          0.814886978866818,
          -0.6835478687457875,
          0.8147584587312928,
          0.08706774632285294,
          0.8147216502693891,
          0.7740757520037718,
          -0.5745396257401334,
          0.8225772969373338,
          0.6654154040884138,
          0.7744423976625671,
          -0.7128439148117034,
          0.8147016064122432,
          -0.5533733905177679,
          0.8147925893055079,
          -0.6788948194923523,
          0.7739900515982514,
          0.8147908043885563,
          0.13112574505152813,
          -0.5748479786091863,
          -0.5747463617163895,
          0.1199025934653142,
          0.6767505313046281,
          0.06140327035505434,
          0.2267635918314864,
          0.8148090941331116,
          0.6970975376571045,
          -0.7019248768384134,
          0.7550220104842952,
          -0.6808916371661127,
          0.06069935143241228,
          -0.7059580402948533,
          0.06063434566603679,
          0.08722246522889462,
          0.056268436228878706,
          0.131121963260252,
          0.06664211627814716,
          0.0256996961155441,
          0.8149200654887147,
          -0.7419751802615353,
          -0.7130067150194079,
          0.22506867859783192
         ]
        },
        {
         "customdata": [
          [
           "X13"
          ],
          [
           "Scrypt"
          ],
          [
           "CryptoNight"
          ],
          [
           "Scrypt"
          ],
          [
           "CryptoNight"
          ],
          [
           "CryptoNight Heavy"
          ]
         ],
         "hovertemplate": "<b>%{hovertext}</b><br><br>Class=%{marker.color}<br>PC 1=%{x}<br>PC 2=%{y}<br>PC 3=%{z}<br>Algorithm=%{customdata[0]}<extra></extra>",
         "hovertext": [
          "EliteCoin",
          "MoonCoin",
          "ByteCoin",
          "gCn Coin",
          "Newton Coin",
          "Qwertycoin"
         ],
         "legendgroup": "2",
         "marker": {
          "color": [
           2,
           2,
           2,
           2,
           2,
           2
          ],
          "coloraxis": "coloraxis",
          "symbol": "diamond"
         },
         "mode": "markers",
         "name": "2",
         "scene": "scene",
         "showlegend": true,
         "type": "scatter3d",
         "x": [
          275050695134.26825,
          320881298544.4533,
          240172639961.8634,
          243112535859.06155,
          168353963292.72473,
          197901564926.96066
         ],
         "y": [
          131237019271.37552,
          191524403584.5513,
          -67666553190.34526,
          -41702919734.18,
          55728050992.98349,
          5516264467.444029
         ],
         "z": [
          0.9899193270915705,
          -0.26488667300702706,
          -0.7110736791319096,
          -0.5174926172448696,
          -0.620315610418214,
          -0.6000831135128392
         ]
        },
        {
         "customdata": [
          [
           "CryptoNight"
          ]
         ],
         "hovertemplate": "<b>%{hovertext}</b><br><br>Class=%{marker.color}<br>PC 1=%{x}<br>PC 2=%{y}<br>PC 3=%{z}<br>Algorithm=%{customdata[0]}<extra></extra>",
         "hovertext": [
          "TurtleCoin"
         ],
         "legendgroup": "1",
         "marker": {
          "color": [
           1
          ],
          "coloraxis": "coloraxis",
          "symbol": "square"
         },
         "mode": "markers",
         "name": "1",
         "scene": "scene",
         "showlegend": true,
         "type": "scatter3d",
         "x": [
          880864030324.6992
         ],
         "y": [
          453629691942.35455
         ],
         "z": [
          0.03079270548957597
         ]
        },
        {
         "customdata": [
          [
           "TRC10"
          ]
         ],
         "hovertemplate": "<b>%{hovertext}</b><br><br>Class=%{marker.color}<br>PC 1=%{x}<br>PC 2=%{y}<br>PC 3=%{z}<br>Algorithm=%{customdata[0]}<extra></extra>",
         "hovertext": [
          "BitTorrent"
         ],
         "legendgroup": "3",
         "marker": {
          "color": [
           3
          ],
          "coloraxis": "coloraxis",
          "symbol": "x"
         },
         "mode": "markers",
         "name": "3",
         "scene": "scene",
         "showlegend": true,
         "type": "scatter3d",
         "x": [
          1340811489662.2117
         ],
         "y": [
          -362601987963.57465
         ],
         "z": [
          0.22726717195338475
         ]
        }
       ],
       "layout": {
        "coloraxis": {
         "colorbar": {
          "title": {
           "text": "Class"
          }
         },
         "colorscale": [
          [
           0,
           "#0d0887"
          ],
          [
           0.1111111111111111,
           "#46039f"
          ],
          [
           0.2222222222222222,
           "#7201a8"
          ],
          [
           0.3333333333333333,
           "#9c179e"
          ],
          [
           0.4444444444444444,
           "#bd3786"
          ],
          [
           0.5555555555555556,
           "#d8576b"
          ],
          [
           0.6666666666666666,
           "#ed7953"
          ],
          [
           0.7777777777777778,
           "#fb9f3a"
          ],
          [
           0.8888888888888888,
           "#fdca26"
          ],
          [
           1,
           "#f0f921"
          ]
         ]
        },
        "legend": {
         "title": {
          "text": "Class"
         },
         "tracegroupgap": 0,
         "x": 0,
         "y": 1
        },
        "margin": {
         "t": 60
        },
        "scene": {
         "domain": {
          "x": [
           0,
           1
          ],
          "y": [
           0,
           1
          ]
         },
         "xaxis": {
          "title": {
           "text": "PC 1"
          }
         },
         "yaxis": {
          "title": {
           "text": "PC 2"
          }
         },
         "zaxis": {
          "title": {
           "text": "PC 3"
          }
         }
        },
        "template": {
         "data": {
          "bar": [
           {
            "error_x": {
             "color": "#2a3f5f"
            },
            "error_y": {
             "color": "#2a3f5f"
            },
            "marker": {
             "line": {
              "color": "#E5ECF6",
              "width": 0.5
             }
            },
            "type": "bar"
           }
          ],
          "barpolar": [
           {
            "marker": {
             "line": {
              "color": "#E5ECF6",
              "width": 0.5
             }
            },
            "type": "barpolar"
           }
          ],
          "carpet": [
           {
            "aaxis": {
             "endlinecolor": "#2a3f5f",
             "gridcolor": "white",
             "linecolor": "white",
             "minorgridcolor": "white",
             "startlinecolor": "#2a3f5f"
            },
            "baxis": {
             "endlinecolor": "#2a3f5f",
             "gridcolor": "white",
             "linecolor": "white",
             "minorgridcolor": "white",
             "startlinecolor": "#2a3f5f"
            },
            "type": "carpet"
           }
          ],
          "choropleth": [
           {
            "colorbar": {
             "outlinewidth": 0,
             "ticks": ""
            },
            "type": "choropleth"
           }
          ],
          "contour": [
           {
            "colorbar": {
             "outlinewidth": 0,
             "ticks": ""
            },
            "colorscale": [
             [
              0,
              "#0d0887"
             ],
             [
              0.1111111111111111,
              "#46039f"
             ],
             [
              0.2222222222222222,
              "#7201a8"
             ],
             [
              0.3333333333333333,
              "#9c179e"
             ],
             [
              0.4444444444444444,
              "#bd3786"
             ],
             [
              0.5555555555555556,
              "#d8576b"
             ],
             [
              0.6666666666666666,
              "#ed7953"
             ],
             [
              0.7777777777777778,
              "#fb9f3a"
             ],
             [
              0.8888888888888888,
              "#fdca26"
             ],
             [
              1,
              "#f0f921"
             ]
            ],
            "type": "contour"
           }
          ],
          "contourcarpet": [
           {
            "colorbar": {
             "outlinewidth": 0,
             "ticks": ""
            },
            "type": "contourcarpet"
           }
          ],
          "heatmap": [
           {
            "colorbar": {
             "outlinewidth": 0,
             "ticks": ""
            },
            "colorscale": [
             [
              0,
              "#0d0887"
             ],
             [
              0.1111111111111111,
              "#46039f"
             ],
             [
              0.2222222222222222,
              "#7201a8"
             ],
             [
              0.3333333333333333,
              "#9c179e"
             ],
             [
              0.4444444444444444,
              "#bd3786"
             ],
             [
              0.5555555555555556,
              "#d8576b"
             ],
             [
              0.6666666666666666,
              "#ed7953"
             ],
             [
              0.7777777777777778,
              "#fb9f3a"
             ],
             [
              0.8888888888888888,
              "#fdca26"
             ],
             [
              1,
              "#f0f921"
             ]
            ],
            "type": "heatmap"
           }
          ],
          "heatmapgl": [
           {
            "colorbar": {
             "outlinewidth": 0,
             "ticks": ""
            },
            "colorscale": [
             [
              0,
              "#0d0887"
             ],
             [
              0.1111111111111111,
              "#46039f"
             ],
             [
              0.2222222222222222,
              "#7201a8"
             ],
             [
              0.3333333333333333,
              "#9c179e"
             ],
             [
              0.4444444444444444,
              "#bd3786"
             ],
             [
              0.5555555555555556,
              "#d8576b"
             ],
             [
              0.6666666666666666,
              "#ed7953"
             ],
             [
              0.7777777777777778,
              "#fb9f3a"
             ],
             [
              0.8888888888888888,
              "#fdca26"
             ],
             [
              1,
              "#f0f921"
             ]
            ],
            "type": "heatmapgl"
           }
          ],
          "histogram": [
           {
            "marker": {
             "colorbar": {
              "outlinewidth": 0,
              "ticks": ""
             }
            },
            "type": "histogram"
           }
          ],
          "histogram2d": [
           {
            "colorbar": {
             "outlinewidth": 0,
             "ticks": ""
            },
            "colorscale": [
             [
              0,
              "#0d0887"
             ],
             [
              0.1111111111111111,
              "#46039f"
             ],
             [
              0.2222222222222222,
              "#7201a8"
             ],
             [
              0.3333333333333333,
              "#9c179e"
             ],
             [
              0.4444444444444444,
              "#bd3786"
             ],
             [
              0.5555555555555556,
              "#d8576b"
             ],
             [
              0.6666666666666666,
              "#ed7953"
             ],
             [
              0.7777777777777778,
              "#fb9f3a"
             ],
             [
              0.8888888888888888,
              "#fdca26"
             ],
             [
              1,
              "#f0f921"
             ]
            ],
            "type": "histogram2d"
           }
          ],
          "histogram2dcontour": [
           {
            "colorbar": {
             "outlinewidth": 0,
             "ticks": ""
            },
            "colorscale": [
             [
              0,
              "#0d0887"
             ],
             [
              0.1111111111111111,
              "#46039f"
             ],
             [
              0.2222222222222222,
              "#7201a8"
             ],
             [
              0.3333333333333333,
              "#9c179e"
             ],
             [
              0.4444444444444444,
              "#bd3786"
             ],
             [
              0.5555555555555556,
              "#d8576b"
             ],
             [
              0.6666666666666666,
              "#ed7953"
             ],
             [
              0.7777777777777778,
              "#fb9f3a"
             ],
             [
              0.8888888888888888,
              "#fdca26"
             ],
             [
              1,
              "#f0f921"
             ]
            ],
            "type": "histogram2dcontour"
           }
          ],
          "mesh3d": [
           {
            "colorbar": {
             "outlinewidth": 0,
             "ticks": ""
            },
            "type": "mesh3d"
           }
          ],
          "parcoords": [
           {
            "line": {
             "colorbar": {
              "outlinewidth": 0,
              "ticks": ""
             }
            },
            "type": "parcoords"
           }
          ],
          "pie": [
           {
            "automargin": true,
            "type": "pie"
           }
          ],
          "scatter": [
           {
            "marker": {
             "colorbar": {
              "outlinewidth": 0,
              "ticks": ""
             }
            },
            "type": "scatter"
           }
          ],
          "scatter3d": [
           {
            "line": {
             "colorbar": {
              "outlinewidth": 0,
              "ticks": ""
             }
            },
            "marker": {
             "colorbar": {
              "outlinewidth": 0,
              "ticks": ""
             }
            },
            "type": "scatter3d"
           }
          ],
          "scattercarpet": [
           {
            "marker": {
             "colorbar": {
              "outlinewidth": 0,
              "ticks": ""
             }
            },
            "type": "scattercarpet"
           }
          ],
          "scattergeo": [
           {
            "marker": {
             "colorbar": {
              "outlinewidth": 0,
              "ticks": ""
             }
            },
            "type": "scattergeo"
           }
          ],
          "scattergl": [
           {
            "marker": {
             "colorbar": {
              "outlinewidth": 0,
              "ticks": ""
             }
            },
            "type": "scattergl"
           }
          ],
          "scattermapbox": [
           {
            "marker": {
             "colorbar": {
              "outlinewidth": 0,
              "ticks": ""
             }
            },
            "type": "scattermapbox"
           }
          ],
          "scatterpolar": [
           {
            "marker": {
             "colorbar": {
              "outlinewidth": 0,
              "ticks": ""
             }
            },
            "type": "scatterpolar"
           }
          ],
          "scatterpolargl": [
           {
            "marker": {
             "colorbar": {
              "outlinewidth": 0,
              "ticks": ""
             }
            },
            "type": "scatterpolargl"
           }
          ],
          "scatterternary": [
           {
            "marker": {
             "colorbar": {
              "outlinewidth": 0,
              "ticks": ""
             }
            },
            "type": "scatterternary"
           }
          ],
          "surface": [
           {
            "colorbar": {
             "outlinewidth": 0,
             "ticks": ""
            },
            "colorscale": [
             [
              0,
              "#0d0887"
             ],
             [
              0.1111111111111111,
              "#46039f"
             ],
             [
              0.2222222222222222,
              "#7201a8"
             ],
             [
              0.3333333333333333,
              "#9c179e"
             ],
             [
              0.4444444444444444,
              "#bd3786"
             ],
             [
              0.5555555555555556,
              "#d8576b"
             ],
             [
              0.6666666666666666,
              "#ed7953"
             ],
             [
              0.7777777777777778,
              "#fb9f3a"
             ],
             [
              0.8888888888888888,
              "#fdca26"
             ],
             [
              1,
              "#f0f921"
             ]
            ],
            "type": "surface"
           }
          ],
          "table": [
           {
            "cells": {
             "fill": {
              "color": "#EBF0F8"
             },
             "line": {
              "color": "white"
             }
            },
            "header": {
             "fill": {
              "color": "#C8D4E3"
             },
             "line": {
              "color": "white"
             }
            },
            "type": "table"
           }
          ]
         },
         "layout": {
          "annotationdefaults": {
           "arrowcolor": "#2a3f5f",
           "arrowhead": 0,
           "arrowwidth": 1
          },
          "autotypenumbers": "strict",
          "coloraxis": {
           "colorbar": {
            "outlinewidth": 0,
            "ticks": ""
           }
          },
          "colorscale": {
           "diverging": [
            [
             0,
             "#8e0152"
            ],
            [
             0.1,
             "#c51b7d"
            ],
            [
             0.2,
             "#de77ae"
            ],
            [
             0.3,
             "#f1b6da"
            ],
            [
             0.4,
             "#fde0ef"
            ],
            [
             0.5,
             "#f7f7f7"
            ],
            [
             0.6,
             "#e6f5d0"
            ],
            [
             0.7,
             "#b8e186"
            ],
            [
             0.8,
             "#7fbc41"
            ],
            [
             0.9,
             "#4d9221"
            ],
            [
             1,
             "#276419"
            ]
           ],
           "sequential": [
            [
             0,
             "#0d0887"
            ],
            [
             0.1111111111111111,
             "#46039f"
            ],
            [
             0.2222222222222222,
             "#7201a8"
            ],
            [
             0.3333333333333333,
             "#9c179e"
            ],
            [
             0.4444444444444444,
             "#bd3786"
            ],
            [
             0.5555555555555556,
             "#d8576b"
            ],
            [
             0.6666666666666666,
             "#ed7953"
            ],
            [
             0.7777777777777778,
             "#fb9f3a"
            ],
            [
             0.8888888888888888,
             "#fdca26"
            ],
            [
             1,
             "#f0f921"
            ]
           ],
           "sequentialminus": [
            [
             0,
             "#0d0887"
            ],
            [
             0.1111111111111111,
             "#46039f"
            ],
            [
             0.2222222222222222,
             "#7201a8"
            ],
            [
             0.3333333333333333,
             "#9c179e"
            ],
            [
             0.4444444444444444,
             "#bd3786"
            ],
            [
             0.5555555555555556,
             "#d8576b"
            ],
            [
             0.6666666666666666,
             "#ed7953"
            ],
            [
             0.7777777777777778,
             "#fb9f3a"
            ],
            [
             0.8888888888888888,
             "#fdca26"
            ],
            [
             1,
             "#f0f921"
            ]
           ]
          },
          "colorway": [
           "#636efa",
           "#EF553B",
           "#00cc96",
           "#ab63fa",
           "#FFA15A",
           "#19d3f3",
           "#FF6692",
           "#B6E880",
           "#FF97FF",
           "#FECB52"
          ],
          "font": {
           "color": "#2a3f5f"
          },
          "geo": {
           "bgcolor": "white",
           "lakecolor": "white",
           "landcolor": "#E5ECF6",
           "showlakes": true,
           "showland": true,
           "subunitcolor": "white"
          },
          "hoverlabel": {
           "align": "left"
          },
          "hovermode": "closest",
          "mapbox": {
           "style": "light"
          },
          "paper_bgcolor": "white",
          "plot_bgcolor": "#E5ECF6",
          "polar": {
           "angularaxis": {
            "gridcolor": "white",
            "linecolor": "white",
            "ticks": ""
           },
           "bgcolor": "#E5ECF6",
           "radialaxis": {
            "gridcolor": "white",
            "linecolor": "white",
            "ticks": ""
           }
          },
          "scene": {
           "xaxis": {
            "backgroundcolor": "#E5ECF6",
            "gridcolor": "white",
            "gridwidth": 2,
            "linecolor": "white",
            "showbackground": true,
            "ticks": "",
            "zerolinecolor": "white"
           },
           "yaxis": {
            "backgroundcolor": "#E5ECF6",
            "gridcolor": "white",
            "gridwidth": 2,
            "linecolor": "white",
            "showbackground": true,
            "ticks": "",
            "zerolinecolor": "white"
           },
           "zaxis": {
            "backgroundcolor": "#E5ECF6",
            "gridcolor": "white",
            "gridwidth": 2,
            "linecolor": "white",
            "showbackground": true,
            "ticks": "",
            "zerolinecolor": "white"
           }
          },
          "shapedefaults": {
           "line": {
            "color": "#2a3f5f"
           }
          },
          "ternary": {
           "aaxis": {
            "gridcolor": "white",
            "linecolor": "white",
            "ticks": ""
           },
           "baxis": {
            "gridcolor": "white",
            "linecolor": "white",
            "ticks": ""
           },
           "bgcolor": "#E5ECF6",
           "caxis": {
            "gridcolor": "white",
            "linecolor": "white",
            "ticks": ""
           }
          },
          "title": {
           "x": 0.05
          },
          "xaxis": {
           "automargin": true,
           "gridcolor": "white",
           "linecolor": "white",
           "ticks": "",
           "title": {
            "standoff": 15
           },
           "zerolinecolor": "white",
           "zerolinewidth": 2
          },
          "yaxis": {
           "automargin": true,
           "gridcolor": "white",
           "linecolor": "white",
           "ticks": "",
           "title": {
            "standoff": 15
           },
           "zerolinecolor": "white",
           "zerolinewidth": 2
          }
         }
        },
        "width": 800
       }
      },
      "text/html": [
       "<div>                            <div id=\"5b7e5ff1-23d3-4092-a3e2-5c96fac25a24\" class=\"plotly-graph-div\" style=\"height:525px; width:800px;\"></div>            <script type=\"text/javascript\">                require([\"plotly\"], function(Plotly) {                    window.PLOTLYENV=window.PLOTLYENV || {};                                    if (document.getElementById(\"5b7e5ff1-23d3-4092-a3e2-5c96fac25a24\")) {                    Plotly.newPlot(                        \"5b7e5ff1-23d3-4092-a3e2-5c96fac25a24\",                        [{\"customdata\": [[\"Scrypt\"], [\"Scrypt\"], [\"SHA-256\"], [\"Ethash\"], [\"Scrypt\"], [\"X11\"], [\"CryptoNight-V7\"], [\"Ethash\"], [\"Equihash\"], [\"SHA-512\"], [\"Multiple\"], [\"SHA-256\"], [\"SHA-256\"], [\"Scrypt\"], [\"X15\"], [\"X11\"], [\"Scrypt\"], [\"Scrypt\"], [\"Scrypt\"], [\"Multiple\"], [\"SHA-256\"], [\"Scrypt\"], [\"Scrypt\"], [\"Scrypt\"], [\"Quark\"], [\"Groestl\"], [\"Scrypt\"], [\"Scrypt\"], [\"Scrypt\"], [\"Scrypt\"], [\"Scrypt\"], [\"X11\"], [\"Scrypt\"], [\"Groestl\"], [\"Multiple\"], [\"SHA-256\"], [\"Scrypt\"], [\"Scrypt\"], [\"Scrypt\"], [\"Scrypt\"], [\"PoS\"], [\"Scrypt\"], [\"Scrypt\"], [\"NeoScrypt\"], [\"Scrypt\"], [\"Scrypt\"], [\"Scrypt\"], [\"Scrypt\"], [\"X11\"], [\"Scrypt\"], [\"X11\"], [\"SHA-256\"], [\"Scrypt\"], [\"Scrypt\"], [\"Scrypt\"], [\"SHA3\"], [\"Scrypt\"], [\"HybridScryptHash256\"], [\"Scrypt\"], [\"Scrypt\"], [\"SHA-256\"], [\"Scrypt\"], [\"X13\"], [\"Scrypt\"], [\"SHA-256\"], [\"Scrypt\"], [\"X13\"], [\"NeoScrypt\"], [\"Scrypt\"], [\"Scrypt\"], [\"Scrypt\"], [\"Scrypt\"], [\"Scrypt\"], [\"Scrypt\"], [\"X11\"], [\"X11\"], [\"SHA-256\"], [\"Multiple\"], [\"SHA-256\"], [\"PHI1612\"], [\"X11\"], [\"SHA-256\"], [\"SHA-256\"], [\"SHA-256\"], [\"X11\"], [\"Scrypt\"], [\"Scrypt\"], [\"Scrypt\"], [\"Scrypt\"], [\"Lyra2REv2\"], [\"Scrypt\"], [\"X11\"], [\"Multiple\"], [\"SHA-256\"], [\"X13\"], [\"Scrypt\"], [\"CryptoNight\"], [\"Shabal256\"], [\"Counterparty\"], [\"Scrypt\"], [\"SHA-256\"], [\"Groestl\"], [\"Scrypt\"], [\"Scrypt\"], [\"Scrypt\"], [\"X13\"], [\"Scrypt\"], [\"Scrypt\"], [\"Scrypt\"], [\"Scrypt\"], [\"X13\"], [\"Scrypt\"], [\"Stanford Folding\"], [\"X11\"], [\"Multiple\"], [\"QuBit\"], [\"Scrypt\"], [\"Scrypt\"], [\"Scrypt\"], [\"M7 POW\"], [\"Scrypt\"], [\"SHA-256\"], [\"Scrypt\"], [\"X11\"], [\"SHA3\"], [\"X11\"], [\"Lyra2RE\"], [\"SHA-256\"], [\"QUAIT\"], [\"X11\"], [\"X11\"], [\"Scrypt\"], [\"Scrypt\"], [\"Scrypt\"], [\"Ethash\"], [\"X13\"], [\"Blake2b\"], [\"SHA-256\"], [\"X15\"], [\"X11\"], [\"SHA-256\"], [\"BLAKE256\"], [\"Scrypt\"], [\"1GB AES Pattern Search\"], [\"SHA-256\"], [\"X11\"], [\"Scrypt\"], [\"SHA-256\"], [\"SHA-256\"], [\"NIST5\"], [\"Scrypt\"], [\"Scrypt\"], [\"X11\"], [\"Dagger\"], [\"Scrypt\"], [\"X11GOST\"], [\"X11\"], [\"Scrypt\"], [\"SHA-256\"], [\"Scrypt\"], [\"PoS\"], [\"Scrypt\"], [\"X11\"], [\"X11\"], [\"SHA-256\"], [\"SHA-256\"], [\"NIST5\"], [\"X11\"], [\"Scrypt\"], [\"POS 3.0\"], [\"Scrypt\"], [\"Scrypt\"], [\"Scrypt\"], [\"X13\"], [\"X11\"], [\"X11\"], [\"Equihash\"], [\"X11\"], [\"Scrypt\"], [\"CryptoNight\"], [\"SHA-256\"], [\"SHA-256\"], [\"X11\"], [\"Scrypt\"], [\"Multiple\"], [\"Scrypt\"], [\"Scrypt\"], [\"Scrypt\"], [\"SHA-256\"], [\"Scrypt\"], [\"Scrypt\"], [\"SHA-256D\"], [\"PoS\"], [\"Scrypt\"], [\"X11\"], [\"Lyra2Z\"], [\"PoS\"], [\"X13\"], [\"X14\"], [\"PoS\"], [\"SHA-256D\"], [\"Ethash\"], [\"Equihash\"], [\"DPoS\"], [\"X11\"], [\"Scrypt\"], [\"X11\"], [\"X13\"], [\"X11\"], [\"PoS\"], [\"Scrypt\"], [\"Scrypt\"], [\"X11\"], [\"PoS\"], [\"X11\"], [\"SHA-256\"], [\"Scrypt\"], [\"X11\"], [\"Scrypt\"], [\"Scrypt\"], [\"X11\"], [\"CryptoNight\"], [\"Scrypt\"], [\"Scrypt\"], [\"Scrypt\"], [\"Scrypt\"], [\"Quark\"], [\"QuBit\"], [\"Scrypt\"], [\"CryptoNight\"], [\"Lyra2RE\"], [\"Scrypt\"], [\"SHA-256\"], [\"X11\"], [\"Scrypt\"], [\"X11\"], [\"Scrypt\"], [\"CryptoNight-V7\"], [\"Scrypt\"], [\"Scrypt\"], [\"Scrypt\"], [\"X13\"], [\"X11\"], [\"Equihash\"], [\"Scrypt\"], [\"Scrypt\"], [\"Lyra2RE\"], [\"Scrypt\"], [\"Dagger-Hashimoto\"], [\"X11\"], [\"Blake2S\"], [\"X11\"], [\"Scrypt\"], [\"PoS\"], [\"X11\"], [\"NIST5\"], [\"PoS\"], [\"X11\"], [\"Scrypt\"], [\"Scrypt\"], [\"Scrypt\"], [\"SHA-256\"], [\"X11\"], [\"Scrypt\"], [\"Scrypt\"], [\"SHA-256\"], [\"PoS\"], [\"Scrypt\"], [\"X15\"], [\"SHA-256\"], [\"Scrypt\"], [\"POS 3.0\"], [\"CryptoNight-V7\"], [\"536\"], [\"Argon2d\"], [\"Blake2b\"], [\"Cloverhash\"], [\"CryptoNight\"], [\"NIST5\"], [\"X11\"], [\"NIST5\"], [\"Skein\"], [\"Scrypt\"], [\"X13\"], [\"Scrypt\"], [\"X11\"], [\"X11\"], [\"Scrypt\"], [\"CryptoNight\"], [\"X13\"], [\"Time Travel\"], [\"Keccak\"], [\"SkunkHash v2 Raptor\"], [\"X11\"], [\"Skein\"], [\"SHA-256\"], [\"X11\"], [\"Scrypt\"], [\"VeChainThor Authority\"], [\"Scrypt\"], [\"PoS\"], [\"Scrypt\"], [\"Scrypt\"], [\"Scrypt\"], [\"Scrypt\"], [\"Scrypt\"], [\"Scrypt\"], [\"Scrypt\"], [\"CryptoNight\"], [\"SHA-512\"], [\"Ouroboros\"], [\"X11\"], [\"Equihash\"], [\"NeoScrypt\"], [\"X11\"], [\"Scrypt\"], [\"NeoScrypt\"], [\"Lyra2REv2\"], [\"Equihash\"], [\"Scrypt\"], [\"SHA-256\"], [\"NIST5\"], [\"PHI1612\"], [\"Dagger\"], [\"Scrypt\"], [\"Quark\"], [\"Scrypt\"], [\"POS 2.0\"], [\"Scrypt\"], [\"SHA-256\"], [\"X11\"], [\"NeoScrypt\"], [\"Ethash\"], [\"NeoScrypt\"], [\"X11\"], [\"DPoS\"], [\"NIST5\"], [\"X13\"], [\"Multiple\"], [\"Scrypt\"], [\"CryptoNight\"], [\"CryptoNight\"], [\"Ethash\"], [\"NIST5\"], [\"Quark\"], [\"X11\"], [\"CryptoNight-V7\"], [\"Scrypt\"], [\"Scrypt\"], [\"Scrypt\"], [\"X11\"], [\"BLAKE256\"], [\"X11\"], [\"NeoScrypt\"], [\"Quark\"], [\"NeoScrypt\"], [\"Scrypt\"], [\"Scrypt\"], [\"Scrypt\"], [\"X11\"], [\"X11\"], [\"SHA-256\"], [\"C11\"], [\"POS 3.0\"], [\"Ethash\"], [\"Scrypt\"], [\"SkunkHash\"], [\"Scrypt\"], [\"CryptoNight\"], [\"Scrypt\"], [\"Dagger\"], [\"Lyra2REv2\"], [\"X13\"], [\"Proof-of-BibleHash\"], [\"SHA-256 + Hive\"], [\"Scrypt\"], [\"Scrypt\"], [\"X11\"], [\"C11\"], [\"Proof-of-Authority\"], [\"X11\"], [\"XEVAN\"], [\"Scrypt\"], [\"VBFT\"], [\"Ethash\"], [\"CryptoNight\"], [\"Scrypt\"], [\"IMesh\"], [\"NIST5\"], [\"Scrypt\"], [\"Scrypt\"], [\"Equihash\"], [\"Scrypt\"], [\"Lyra2Z\"], [\"Green Protocol\"], [\"PoS\"], [\"Scrypt\"], [\"Semux BFT consensus\"], [\"X11\"], [\"Quark\"], [\"PoS\"], [\"CryptoNight\"], [\"X16R\"], [\"Scrypt\"], [\"NIST5\"], [\"Lyra2RE\"], [\"XEVAN\"], [\"Tribus\"], [\"Scrypt\"], [\"Lyra2Z\"], [\"CryptoNight\"], [\"CryptoNight Heavy\"], [\"Scrypt\"], [\"Scrypt\"], [\"Jump Consistent Hash\"], [\"SHA-256D\"], [\"CryptoNight\"], [\"Scrypt\"], [\"X15\"], [\"Scrypt\"], [\"Quark\"], [\"SHA-256\"], [\"DPoS\"], [\"X16R\"], [\"HMQ1725\"], [\"X11\"], [\"X16R\"], [\"Quark\"], [\"Quark\"], [\"Scrypt\"], [\"Lyra2REv2\"], [\"Quark\"], [\"Scrypt\"], [\"Scrypt\"], [\"CryptoNight-V7\"], [\"Cryptonight-GPU\"], [\"XEVAN\"], [\"X11\"], [\"X11\"], [\"Scrypt\"], [\"PoS\"], [\"SHA-256\"], [\"Keccak\"], [\"X11\"], [\"X11\"], [\"Scrypt\"], [\"SHA-512\"], [\"X16R\"], [\"ECC 256K1\"], [\"Equihash\"], [\"XEVAN\"], [\"Lyra2Z\"], [\"SHA-256\"], [\"XEVAN\"], [\"X11\"], [\"CryptoNight\"], [\"Quark\"], [\"Blake\"], [\"Blake\"], [\"Equihash\"], [\"Exosis\"], [\"Scrypt\"], [\"Scrypt\"], [\"Equihash\"], [\"Quark\"], [\"Equihash\"], [\"Quark\"], [\"Scrypt\"], [\"QuBit\"], [\"X11\"], [\"Scrypt\"], [\"XEVAN\"], [\"SHA-256D\"], [\"X11\"], [\"SHA-256\"], [\"X13\"], [\"SHA-256\"], [\"X11\"], [\"DPoS\"], [\"Scrypt\"], [\"Scrypt\"], [\"X11\"], [\"NeoScrypt\"], [\"Scrypt\"], [\"Blake\"], [\"Scrypt\"], [\"SHA-256\"], [\"Scrypt\"], [\"X11\"], [\"Scrypt\"], [\"Scrypt\"], [\"SHA-256\"], [\"X11\"], [\"SHA-256\"], [\"Scrypt\"], [\"Scrypt\"], [\"Scrypt\"], [\"Groestl\"], [\"X11\"], [\"Scrypt\"], [\"PoS\"], [\"Scrypt\"], [\"Scrypt\"], [\"X11\"], [\"SHA-256\"], [\"DPoS\"], [\"Scrypt\"], [\"Scrypt\"], [\"NeoScrypt\"], [\"Multiple\"], [\"X13\"], [\"Equihash+Scrypt\"], [\"DPoS\"], [\"Ethash\"], [\"DPoS\"], [\"SHA-256\"], [\"Leased POS\"], [\"PoS\"], [\"PoS\"], [\"SHA-256\"], [\"Scrypt\"], [\"CryptoNight\"], [\"Equihash\"], [\"Scrypt\"]], \"hovertemplate\": \"<b>%{hovertext}</b><br><br>Class=%{marker.color}<br>PC 1=%{x}<br>PC 2=%{y}<br>PC 3=%{z}<br>Algorithm=%{customdata[0]}<extra></extra>\", \"hovertext\": [\"42 Coin\", \"404Coin\", \"Bitcoin\", \"Ethereum\", \"Litecoin\", \"Dash\", \"Monero\", \"Ethereum Classic\", \"ZCash\", \"Bitshares\", \"DigiByte\", \"BitcoinDark\", \"PayCoin\", \"ProsperCoin\", \"KoboCoin\", \"Spreadcoin\", \"Argentum\", \"Aurora Coin\", \"BlueCoin\", \"MyriadCoin\", \"ZetaCoin\", \"SexCoin\", \"Quatloo\", \"EnergyCoin\", \"QuarkCoin\", \"Riecoin\", \"Digitalcoin \", \"BitBar\", \"Catcoin\", \"CryptoBullion\", \"CannaCoin\", \"CryptCoin\", \"CasinoCoin\", \"Diamond\", \"Verge\", \"DevCoin\", \"EarthCoin\", \"E-Gulden\", \"Einsteinium\", \"Emerald\", \"Exclusive Coin\", \"FlutterCoin\", \"Franko\", \"FeatherCoin\", \"GrandCoin\", \"GlobalCoin\", \"GoldCoin\", \"HoboNickels\", \"HyperStake\", \"Infinite Coin\", \"IOCoin\", \"IXcoin\", \"KrugerCoin\", \"LuckyCoin\", \"Litebar \", \"MaxCoin\", \"MegaCoin\", \"MediterraneanCoin\", \"MintCoin\", \"MinCoin\", \"MazaCoin\", \"Nautilus Coin\", \"NavCoin\", \"NobleCoin\", \"Namecoin\", \"NyanCoin\", \"OpalCoin\", \"Orbitcoin\", \"PotCoin\", \"PhoenixCoin\", \"Reddcoin\", \"RonPaulCoin\", \"StableCoin\", \"SmartCoin\", \"SuperCoin\", \"SyncCoin\", \"SysCoin\", \"TeslaCoin\", \"TigerCoin\", \"TittieCoin\", \"TorCoin\", \"TerraCoin\", \"UnbreakableCoin\", \"Unobtanium\", \"UroCoin\", \"UnitaryStatus Dollar\", \"UltraCoin\", \"ViaCoin\", \"VeriCoin\", \"Vertcoin\", \"WorldCoin\", \"X11 Coin\", \"Crypti\", \"JouleCoin\", \"StealthCoin\", \"ZCC Coin\", \"DigitalNote \", \"BurstCoin\", \"StorjCoin\", \"MonaCoin\", \"Neutron\", \"FairCoin\", \"Gulden\", \"RubyCoin\", \"PesetaCoin\", \"Kore\", \"Wild Beast Coin\", \"Dnotes\", \"Flo\", \"8BIT Coin\", \"Sativa Coin\", \"ArtByte\", \"Folding Coin\", \"Ucoin\", \"Unitus\", \"CypherPunkCoin\", \"OmniCron\", \"Vtorrent\", \"GreenCoin\", \"Cryptonite\", \"MasterCoin\", \"SoonCoin\", \"1Credit\", \"IslaCoin\", \"Nexus\", \"MarsCoin \", \"Crypto\", \"Anarchists Prime\", \"Droidz\", \"BowsCoin\", \"Squall Coin\", \"Song Coin\", \"BitZeny\", \"Diggits\", \"Expanse\", \"Paycon\", \"Siacoin\", \"Emercoin\", \"EverGreenCoin\", \"MindCoin\", \"I0coin\", \"Decred\", \"Revolution VR\", \"HOdlcoin\", \"EDRCoin\", \"Hitcoin\", \"Gamecredits\", \"DubaiCoin\", \"CarpeDiemCoin\", \"PWR Coin\", \"BillaryCoin\", \"GPU Coin\", \"Adzcoin\", \"SoilCoin\", \"YoCoin\", \"SibCoin\", \"EuropeCoin\", \"ZeitCoin\", \"SwingCoin\", \"SafeExchangeCoin\", \"Nebuchadnezzar\", \"Francs\", \"BolivarCoin\", \"Ratecoin\", \"Revenu\", \"Clockcoin\", \"VIP Tokens\", \"BitSend\", \"Omni\", \"Let it Ride\", \"PutinCoin\", \"iBankCoin\", \"Frankywillcoin\", \"MudraCoin\", \"PizzaCoin\", \"Lutetium Coin\", \"Komodo\", \"GoldBlocks\", \"CarterCoin\", \"Karbo\", \"BitTokens\", \"ZayedCoin\", \"MustangCoin\", \"ZoneCoin\", \"Circuits of Value\", \"RootCoin\", \"DopeCoin\", \"BitCurrency\", \"DollarCoin\", \"Swiscoin\", \"Shilling\", \"BuzzCoin\", \"Opair\", \"PesoBit\", \"Halloween Coin\", \"ZCoin\", \"CoffeeCoin\", \"RoyalCoin\", \"GanjaCoin V2\", \"TeamUP\", \"LanaCoin\", \"Elementrem\", \"ZClassic\", \"ARK\", \"InsaneCoin\", \"KiloCoin\", \"ArtexCoin\", \"EmberCoin\", \"XenixCoin\", \"FreeCoin\", \"PLNCoin\", \"AquariusCoin\", \"Kurrent\", \"Creatio\", \"Eternity\", \"Eurocoin\", \"BitcoinFast\", \"Stakenet\", \"BitConnect Coin\", \"MoneyCoin\", \"Enigma\", \"Cannabis Industry Coin\", \"Russiacoin\", \"PandaCoin\", \"GameUnits\", \"GAKHcoin\", \"Allsafe\", \"LiteCreed\", \"OsmiumCoin\", \"Bikercoins\", \"HexxCoin\", \"Klingon Empire Darsek\", \"Internet of People\", \"KushCoin\", \"Printerium\", \"PacCoin\", \"Impeach\", \"Citadel\", \"Zilbercoin\", \"FirstCoin\", \"BeaverCoin\", \"FindCoin\", \"VaultCoin\", \"Zero\", \"OpenChat\", \"Canada eCoin\", \"Zoin\", \"RenosCoin\", \"DubaiCoin\", \"VirtacoinPlus\", \"TajCoin\", \"Impact\", \"EB3coin\", \"Atmos\", \"HappyCoin\", \"Coinonat\", \"MacronCoin\", \"Condensate\", \"Independent Money System\", \"ArgusCoin\", \"LomoCoin\", \"ProCurrency\", \"GoldReserve\", \"BenjiRolls\", \"GrowthCoin\", \"ILCoin\", \"Phreak\", \"Degas Coin\", \"HTML5 Coin\", \"Ultimate Secure Cash\", \"EquiTrader\", \"QTUM\", \"Quantum Resistant Ledger\", \"Espers\", \"Dynamic\", \"Nano\", \"ChanCoin\", \"Dinastycoin\", \"Denarius\", \"DigitalPrice\", \"Virta Unique Coin\", \"Bitcoin Planet\", \"Unify\", \"BritCoin\", \"SocialCoin\", \"ArcticCoin\", \"DAS\", \"Linda\", \"LeviarCoin\", \"DeepOnion\", \"Bitcore\", \"SmartCash\", \"Signatum\", \"Onix\", \"Cream\", \"Bitcoin Cash\", \"Monoeci\", \"Draftcoin\", \"Vechain\", \"Sojourn Coin\", \"Stakecoin\", \"NewYorkCoin\", \"FrazCoin\", \"Kronecoin\", \"AdCoin\", \"Linx\", \"CoinonatX\", \"Ethereum Dark\", \"Sumokoin\", \"Obsidian\", \"Cardano\", \"Regalcoin\", \"BitcoinZ\", \"TrezarCoin\", \"Elements\", \"TerraNovaCoin\", \"VIVO Coin\", \"Rupee\", \"Bitcoin Gold\", \"WomenCoin\", \"Theresa May Coin\", \"NamoCoin\", \"LUXCoin\", \"Pirl\", \"Xios\", \"Bitcloud 2.0\", \"eBoost\", \"KekCoin\", \"BlackholeCoin\", \"Infinity Economics\", \"Pura\", \"Innova\", \"Ellaism\", \"GoByte\", \"Magnet\", \"Lamden Tau\", \"Electra\", \"Bitcoin Diamond\", \"SHIELD\", \"Cash & Back Coin\", \"UltraNote\", \"BitCoal\", \"DaxxCoin\", \"Bulwark\", \"Kalkulus\", \"AC3\", \"Lethean\", \"GermanCoin\", \"LiteCoin Ultra\", \"PopularCoin\", \"PhantomX\", \"Photon\", \"Sucre\", \"SparksPay\", \"Digiwage\", \"GunCoin\", \"IrishCoin\", \"Trollcoin\", \"Litecoin Plus\", \"Monkey Project\", \"Pioneer Coin\", \"UnitedBitcoin\", \"Interzone\", \"TokenPay\", \"1717 Masonic Commemorative Token\", \"My Big Coin\", \"MUNcoin\", \"Unified Society USDEX\", \"Niobio Cash\", \"ShareChain\", \"Travelflex\", \"KREDS\", \"Tokyo Coin\", \"BiblePay\", \"LitecoinCash\", \"BitFlip\", \"LottoCoin\", \"Crypto Improvement Fund\", \"Stipend\", \"Poa Network\", \"Pushi\", \"Ellerium\", \"Velox\", \"Ontology\", \"Callisto Network\", \"BitTube\", \"Poseidon\", \"Aidos Kuneen\", \"Bitspace\", \"Briacoin\", \"Ignition\", \"Bitrolium\", \"MedicCoin\", \"Alpenschillling\", \"Bitcoin Green\", \"Deviant Coin\", \"Abjcoin\", \"Semux\", \"FuturoCoin\", \"Carebit\", \"Zealium\", \"Monero Classic\", \"Proton\", \"iDealCash\", \"Jumpcoin\", \"Infinex\", \"Bitcoin Incognito\", \"KEYCO\", \"HollyWoodCoin\", \"GINcoin\", \"PlatinCoin\", \"Loki\", \"Swisscoin\", \"Xt3ch\", \"MassGrid\", \"TheVig\", \"PluraCoin\", \"EmaratCoin\", \"Dekado\", \"Lynx\", \"Poseidon Quark\", \"BitcoinWSpectrum\", \"Muse\", \"Motion\", \"PlusOneCoin\", \"Axe\", \"Trivechain\", \"Dystem\", \"Giant\", \"Peony Coin\", \"Absolute Coin\", \"Vitae\", \"HexCoin\", \"TPCash\", \"Webchain\", \"Ryo\", \"Urals Coin\", \"ARENON\", \"EUNO\", \"MMOCoin\", \"Ketan\", \"Project Pai\", \"XDNA\", \"PAXEX\", \"Azart\", \"ThunderStake\", \"Kcash\", \"Xchange\", \"Acute Angle Cloud\", \"CrypticCoin\", \"Bettex coin\", \"Actinium\", \"Bitcoin SV\", \"BitMoney\", \"Junson Ming Chan Coin\", \"FREDEnergy\", \"HerbCoin\", \"Universal Molecule\", \"Lithium\", \"PirateCash\", \"Exosis\", \"Block-Logic\", \"Oduwa\", \"Beam\", \"Galilel\", \"Bithereum\", \"Crypto Sports\", \"Credit\", \"SLICE\", \"Dash Platinum\", \"Nasdacoin\", \"Beetle Coin\", \"Titan Coin\", \"Award\", \"BLAST\", \"Bitcoin Rhodium\", \"GlobalToken\", \"Insane Coin\", \"ALAX\", \"LiteDoge\", \"SolarCoin\", \"TruckCoin\", \"UFO Coin\", \"OrangeCoin\", \"BlakeCoin\", \"BitstarCoin\", \"NeosCoin\", \"HyperCoin\", \"PinkCoin\", \"Crypto Escudo\", \"AudioCoin\", \"IncaKoin\", \"Piggy Coin\", \"Crown Coin\", \"Genstake\", \"SmileyCoin\", \"XiaoMiCoin\", \"Groestlcoin\", \"CapriCoin\", \" ClubCoin\", \"Radium\", \"Bata\", \"Pakcoin\", \"Creditbit \", \"OKCash\", \"Lisk\", \"HiCoin\", \"WhiteCoin\", \"FriendshipCoin\", \"JoinCoin\", \"Triangles Coin\", \"Vollar\", \"EOS\", \"Reality Clash\", \"Oxycoin\", \"TigerCash\", \"Waves\", \"Particl\", \"Nxt\", \"ZEPHYR\", \"Gapcoin\", \"Beldex\", \"Horizen\", \"BitcoinPlus\"], \"legendgroup\": \"0\", \"marker\": {\"color\": [0, 0, 0, 0, 0, 0, 0, 0, 0, 0, 0, 0, 0, 0, 0, 0, 0, 0, 0, 0, 0, 0, 0, 0, 0, 0, 0, 0, 0, 0, 0, 0, 0, 0, 0, 0, 0, 0, 0, 0, 0, 0, 0, 0, 0, 0, 0, 0, 0, 0, 0, 0, 0, 0, 0, 0, 0, 0, 0, 0, 0, 0, 0, 0, 0, 0, 0, 0, 0, 0, 0, 0, 0, 0, 0, 0, 0, 0, 0, 0, 0, 0, 0, 0, 0, 0, 0, 0, 0, 0, 0, 0, 0, 0, 0, 0, 0, 0, 0, 0, 0, 0, 0, 0, 0, 0, 0, 0, 0, 0, 0, 0, 0, 0, 0, 0, 0, 0, 0, 0, 0, 0, 0, 0, 0, 0, 0, 0, 0, 0, 0, 0, 0, 0, 0, 0, 0, 0, 0, 0, 0, 0, 0, 0, 0, 0, 0, 0, 0, 0, 0, 0, 0, 0, 0, 0, 0, 0, 0, 0, 0, 0, 0, 0, 0, 0, 0, 0, 0, 0, 0, 0, 0, 0, 0, 0, 0, 0, 0, 0, 0, 0, 0, 0, 0, 0, 0, 0, 0, 0, 0, 0, 0, 0, 0, 0, 0, 0, 0, 0, 0, 0, 0, 0, 0, 0, 0, 0, 0, 0, 0, 0, 0, 0, 0, 0, 0, 0, 0, 0, 0, 0, 0, 0, 0, 0, 0, 0, 0, 0, 0, 0, 0, 0, 0, 0, 0, 0, 0, 0, 0, 0, 0, 0, 0, 0, 0, 0, 0, 0, 0, 0, 0, 0, 0, 0, 0, 0, 0, 0, 0, 0, 0, 0, 0, 0, 0, 0, 0, 0, 0, 0, 0, 0, 0, 0, 0, 0, 0, 0, 0, 0, 0, 0, 0, 0, 0, 0, 0, 0, 0, 0, 0, 0, 0, 0, 0, 0, 0, 0, 0, 0, 0, 0, 0, 0, 0, 0, 0, 0, 0, 0, 0, 0, 0, 0, 0, 0, 0, 0, 0, 0, 0, 0, 0, 0, 0, 0, 0, 0, 0, 0, 0, 0, 0, 0, 0, 0, 0, 0, 0, 0, 0, 0, 0, 0, 0, 0, 0, 0, 0, 0, 0, 0, 0, 0, 0, 0, 0, 0, 0, 0, 0, 0, 0, 0, 0, 0, 0, 0, 0, 0, 0, 0, 0, 0, 0, 0, 0, 0, 0, 0, 0, 0, 0, 0, 0, 0, 0, 0, 0, 0, 0, 0, 0, 0, 0, 0, 0, 0, 0, 0, 0, 0, 0, 0, 0, 0, 0, 0, 0, 0, 0, 0, 0, 0, 0, 0, 0, 0, 0, 0, 0, 0, 0, 0, 0, 0, 0, 0, 0, 0, 0, 0, 0, 0, 0, 0, 0, 0, 0, 0, 0, 0, 0, 0, 0, 0, 0, 0, 0, 0, 0, 0, 0, 0, 0, 0, 0, 0, 0, 0, 0, 0, 0, 0, 0, 0, 0, 0, 0, 0, 0, 0, 0, 0, 0, 0, 0, 0, 0, 0, 0, 0, 0, 0, 0, 0, 0, 0, 0, 0, 0, 0, 0, 0, 0, 0, 0, 0, 0, 0, 0, 0, 0, 0, 0, 0, 0, 0, 0, 0, 0, 0, 0, 0, 0, 0, 0, 0, 0, 0, 0, 0], \"coloraxis\": \"coloraxis\", \"symbol\": \"circle\"}, \"mode\": \"markers\", \"name\": \"0\", \"scene\": \"scene\", \"showlegend\": true, \"type\": \"scatter3d\", \"x\": [-11629339724.629295, -10640876391.374813, -11602188533.396074, -11575476733.630463, -11525071201.518116, -11605772290.21287, -11620735866.01699, -11390796134.679958, -11607462642.86298, -7140240499.771299, 12260163029.565048, -11609645011.761005, -11612515868.30524, -11608270329.94293, -11313493955.794767, -11606444484.754934, -11567816071.398159, -11605748569.105564, -11311504286.603197, -9053058168.853497, -11397176266.849882, -11348365956.306879, -11539068141.98167, -11567784454.353916, -11285630193.105762, -11531819153.584738, -11570904214.153841, -11628885527.428473, -11607544224.376293, -11627954108.524319, -11615608829.26826, -11611253881.170038, 43014960884.320244, -11623894196.173117, 10673714439.8714, 15945414698.224045, 6332432897.939346, -11600696301.449501, -11260267055.698568, -11591878378.235786, -11626498825.20146, -11398335035.801043, -11619038955.853567, -11234017855.494888, -9956980476.60862, -11535876734.593372, -11545943858.787664, -11480779384.539675, -10789753382.133785, 112137879969.89963, -11601460804.501774, -11600606831.57541, -11323755157.97431, -11602354602.409279, -11627618412.460978, -11512013620.551725, -11573888013.057837, -11435933368.288748, -978236883.55031, -11617777419.845716, -8727290932.841646, -11607236161.840067, -11596283384.594828, 2542850212.8098526, -11603784541.278124, -11170107371.167212, -11621758652.990253, -11624464355.217829, -11154274363.26752, -11507486278.987682, 3034143625.2107096, -11610603313.08278, -11400749202.856354, -11572203185.479525, -11603976092.04584, -11629338327.363947, -10578631130.862715, -11502602633.053019, -11566854637.237415, -8826260930.79107, -11619964446.905987, -11581499273.617115, -11558927214.42327, -11629022808.766764, -11628735892.268753, -9694188823.62425, -11517621097.155352, -11597843832.924252, -11613323001.938303, -11531006268.271523, -11339681703.160006, -11621100492.845114, -11579320339.016329, -11570768201.077623, -11612786484.890156, -10689402768.762993, 484428075.56742716, -8853125985.727581, -11170786700.153257, -11504204398.256975, -11550889236.38317, -11602732524.034891, -9967008834.810024, -11615742251.33236, -11416478396.783663, -11617937198.888468, -11626973167.33283, -11109026208.349241, -11414628744.321724, -11628605576.113739, -11617130853.963953, -10367003943.543728, -10403578290.308264, -11610676090.615498, -11596770471.033396, -11626155901.904215, -11621348503.314596, -11606216902.290476, -664141868.2382264, -9681668625.38697, -11628493508.432793, -11604921873.368935, 68034711430.147064, -11628582635.6966, -11529957571.738136, -11584647596.780579, -11565498096.129122, -11575411825.349709, -11620672576.553562, -11603220603.320568, -11629175117.99139, -11431001225.87839, -11375039550.154755, -11492729026.963606, -11609450631.426968, -11574518343.808464, 4926243781.342073, -10741888391.964909, -11599800089.808577, -11607548239.42319, -11600652785.50509, -11605971067.735764, -11342457196.417072, -11552641023.71199, -11608454133.934036, 16860950630.474062, -11521671451.65598, -11617682190.006718, 17971352683.167404, -6592657464.116515, -11588470309.698463, -11417681016.682983, -11534039147.086027, -11600510255.741503, -11483243827.450838, -11599922833.100948, -11291623485.344994, 92588865487.1648, -11592513865.34453, -8695646157.429146, -11602017630.997452, -11608734838.205534, -11600862257.981495, -11497092665.887579, -11435881287.290691, -11166400743.978777, -11509666174.405302, -11496779254.299356, -11628497647.738672, -11581029285.12287, -9490809282.204962, -11588686925.231808, -11492729026.963604, -11453656185.751001, -11607002727.584475, -10731807121.377956, -11398185558.338926, -11578259163.397345, -11529816458.494795, -11616767913.523655, -11610857776.20564, -11617786117.8753, -11626413096.607414, -11609864119.462683, -10090049607.477415, -11628369460.333494, -11397711825.694962, -11544507498.964664, -11615572812.57018, -8612279745.093794, -11597800626.4852, 15481622765.17619, -11528230913.30407, -11612571785.640873, -10198079410.665728, -11607023629.10172, -11520316022.512915, -11625924343.732525, -11492729026.963606, -11359787127.160011, -4588504176.791841, -11593540197.315113, -11608347740.032898, -11466978562.220085, -11594187415.498875, -2872021425.039923, -10784223011.508114, 35221022772.864716, -11624075723.201506, -11561034404.484758, -11587419367.611647, -11591746165.965021, -11401217252.871508, -11602017630.997452, -11574349073.646908, -11605810828.446064, -11590638701.164742, -11525287546.758005, -11599551699.018972, -11060465564.522024, -11624602722.506878, -11610666343.794203, -11500457727.241018, 33438899569.772976, -11616345744.687334, -11624810057.617401, -11611090153.85896, -11545955595.788242, -11626542259.320269, -11603011590.69508, -11619742213.665802, -11184395876.157532, -11609892076.092035, -11618409381.900225, -11606108357.09802, 75230567713.0821, -11610193271.765108, -11463659062.68345, -11580252685.151264, -11479067951.459375, -11624872079.221653, -11609497272.726627, -10748227983.62134, -11611157086.230598, -10263232231.582842, -11492807353.25179, -11601879121.875147, -11581497298.86868, -11626289399.090467, -11536164536.178356, -11591293120.923588, -11478752634.967894, -8133626811.708427, -11478248671.39188, -11531983624.559835, -11582494173.86152, -11082185784.973837, -11135526840.519283, -11608286417.23652, -11604000281.490318, -10763176564.263771, 53364436679.132286, -11586114227.554808, -11588440209.746433, -9749888424.612595, -8805427021.178717, -11597665060.802507, -11527735369.568296, 86640256394.46646, -11450910680.505339, -11560154675.592703, -11492729026.96361, -11503887473.26799, 43071691047.56611, -11619443823.035538, -11268034759.784052, -11594155179.924334, -8992428154.943316, -11618594148.759277, -11525172150.38594, -11493946932.221565, -11539344965.981798, -11603577624.82892, -11592724207.23719, -11561811405.696419, -11564358749.173307, -11611662071.060495, 36190540320.95645, -11575496818.519554, -11602012823.04196, -11602251212.67978, -6178833885.583127, -11456269351.799774, -10615573717.305508, -11519073365.997053, -11602154312.770767, -11614820236.19823, -11604932515.066452, 91194417575.89493, -2537009315.1302814, -11573998786.368814, 59901799860.74497, -11607167611.839495, -11547872811.648819, -11526418756.921156, -11525883651.452557, -11577784149.034172, -11623602130.294134, -11547894661.620821, -11537700033.845968, 40305326908.342834, -11602327514.70228, 9161625659.830015, -11191619823.429943, -8718742814.684263, -11615145493.280214, -11603876333.975544, -11596553200.795761, -11602551081.277067, 34257646428.35733, -11496705172.52573, -10309853437.12479, -11573230492.224363, -11476991633.24061, -11610080344.511227, -11440795411.392195, -11492734028.160883, -11604987805.844872, -11608349965.931408, 665628166.7997627, -11238628193.120174, -11587184822.521242, -11380503444.539196, -11598886457.360834, -11485541568.284073, -11052281924.576328, 28553150581.627766, -11355695329.748957, -10816878176.350988, -11391987960.806372, 71617935132.0814, -11616264993.064785, -2709661409.799442, -11598713864.093922, -11603540340.43673, -11112913846.344189, -10543164714.65168, 34123021321.544697, -11495241475.782816, -5316902796.56419, -11563448235.707874, 81353527162.40547, -11610079359.715601, -11607230372.035532, -11511775059.668705, -11046425955.557537, -11551170974.357718, -10554391687.040085, -11624623399.462946, -11608951123.573292, -11605183079.66699, -11601790857.144083, -11603463169.245453, -11597465047.938795, -11627129374.90778, -11598660889.612709, -11612555517.881266, -11310979144.017523, -11271400699.14595, 2031735722.2247703, -11489064969.699009, -10354812220.483913, -10821415046.088156, -6240201232.744892, -10582657474.048433, -11588477787.289509, 11557830267.654623, -11090693319.91422, -11606964649.21128, -11308451386.52886, -11606607618.952333, -11577175275.564613, -11509176576.918148, -10437875804.548332, -5877050128.815711, -10723386556.090996, -11609119709.029266, -11595187093.245337, -11579147517.89453, -11626319059.32032, -11624418909.807293, -11533034251.431044, -11062682412.926693, -11355890279.21113, -11606251854.663242, -11542196880.5105, -11598420216.139154, -11542132657.081408, -11526841556.205013, -11386260190.091919, -11554526951.956736, -11605395434.431005, -11588170935.351818, -6491823242.975273, -11600616836.837923, -11604033749.199797, -11605701004.677832, -11613355467.677748, -11587465110.378004, -11616753136.023262, -11109749294.756151, -11489872273.88816, 2304957232.3093867, -11587423121.194908, -11415908754.021994, -11526122915.595303, -10483274787.822987, -11545799210.487864, -11536259614.820755, 106985837856.92192, -11065137593.063606, -11513604682.516073, -11604581503.308176, -11606159631.309517, -11606831222.46554, -11608658120.331718, -11539392889.91508, -11607613033.322327, -11621918567.712223, 2987794901.3176155, -11577210441.948032, -11509708688.291834, -11609489937.766855, -10760723709.57001, -10106198692.172428, -11550529467.365416, -11440122083.05405, -11572076058.838104, -11570652580.16469, -11350299484.192385, -11442832647.423435, -8760513926.11747, -11310078414.494417, -11540495274.6167, -11605183038.068861, 4487279514.462247, -10263232231.582846, -11537869696.724323, -10263232231.582844, -2930020881.7105017, -11582649103.715006, -11549783003.859167, -11602155850.868631, 49088877128.79906, -3021031794.164084, -3698871320.2195945, -11564917514.88098, -11537525546.007406, -11599567391.370262, -11531678324.22883, -11610952481.555933, -11507780988.551792, -11603763958.580412, -11383927115.210567, -11603720203.820929, -11590014905.550316, -11616794796.582993, 68559810073.02852, -11536283061.581764, -11611923324.664742, -11546325820.919289, -11096875470.037926, -6851419315.961387, -11257943155.960428, -11547764256.493065, -11626935990.662966, -11441543376.441122, -11591469785.47223, -10263232231.58284, 26340041426.573235, 73344530683.4169, -11508005565.73597, -6252601160.788507, -11454387895.172768, -5556265001.982579, -11572066430.001953, -11608958623.365288, -11624522309.41615, -10978121569.307384, -10373169615.19356, -2046695068.257025, -2491465747.566142, -10516210233.3032, -11581473497.054829, -11586339419.404251, 46464062917.77802, -11080737684.812057, -11501755551.044727, -11348508537.977291, -11438962597.447443, -11619635198.086006, -11622482956.075449, -11436887817.609201, -11606594669.122263, -11501066352.616592, -11430834937.284307, 2039509000.9222224, -11243514066.335863, -11576678985.473782, -11625248115.99867, -11629165456.183369, -9760902785.909222, -11118869096.104452, -11595886616.765253, -11067930415.650421, -10263232231.582842, -11492729026.963606, -11617219993.198042, -10263232231.582846, -8897124683.507883, -11405393075.755035, -9926566770.270992, -11607505919.059813, -11628409680.43661], \"y\": [-550257434.624461, -1197852433.8184314, -555276712.2831811, -643502600.5625212, -562827595.0348374, -547073458.102006, -565152114.8017558, -543376243.1531417, -546146421.5131595, -1123233543.56045, 77030798.74857317, -540369184.3231486, -554391906.7526184, -544748191.548966, -397306985.498297, -549908231.6255181, -528814134.1734324, -557573287.9764473, -1100479311.3710718, -1011750065.3335545, -612708826.1860613, -536860473.1931975, -506609187.323896, -656819113.4107462, -651463349.7067673, -551145857.1306599, -555123776.750885, -550044192.1772791, -546005191.426332, -550657009.5768622, -547758015.4479061, -545580875.4450381, -15179002706.42775, -550927966.958626, -6063128242.570126, -6302703923.6089525, -4655330384.429084, -557859994.191535, -589826948.5421357, -551133720.5820036, -555175550.344731, -950161993.7406647, -545626834.9477369, -562881396.3033983, -605252535.4336079, -572110679.4882451, -550193292.4271817, -567531496.7838238, -2003709988.931872, -33680693273.5721, -554537299.8064837, -558014880.2383051, -548635920.5608314, -556988443.9846631, -550538422.9419506, -553444705.0257801, -562285570.5772628, -485229008.662322, -18988946850.04811, -550281412.1322552, -737628907.8308334, -556174747.6789268, -607483102.9683111, 4903851170.974557, -552513778.346031, -671521004.5651191, -563381513.9979156, -551160460.1561706, -532994890.3565458, -565280671.4171788, -25934991666.67469, -540709440.6352735, -446177055.36216986, -546809417.2428002, -594165848.8845273, -550257938.2498235, -593885267.9010186, -569736564.881047, -564441381.0782326, -804604024.375053, -546495333.5331137, -549109313.5297681, -512214544.84836596, -550306342.8133793, -551302844.8340518, -701543800.200826, -543737304.7151852, -558799608.6570603, -577984917.1737326, -552553086.0323164, -521064633.04402536, -553525165.745596, -636848731.3172317, -561688774.9015895, -578913710.3061894, -178209678.14401585, -1528817950.2068784, -1040361140.805441, -344471701.1248004, -556727644.5148867, -550120186.1634408, -596318655.458519, -69312794.96159226, -573796826.1696464, -586110410.1130368, -546006364.9871956, -549100434.5626519, -451388565.8216791, -602079477.0554048, -551528442.0452613, -551400716.6403565, -736331392.6501753, -673015600.1398149, -542582674.1691428, -606639881.7871605, -555769203.0619044, -557351492.8017577, -550302211.7064663, 459532428.6478475, -243404759.9031615, -550483973.947546, -550544882.4108388, 45467553746.361916, -551568155.4187053, -566363875.7469198, -561652087.4794934, -529250095.0428142, -536136760.6845172, -555145612.2817804, -553490041.2698565, -550542477.8779792, -473295262.8671062, -490684399.44264483, -586829288.3276434, -550888932.5792814, -545200590.9044302, -29210506651.69115, -87349030.65730116, -548819592.4775566, -555994353.6791985, -557935326.9520836, -548728566.3666788, -627058344.297088, -519174228.5372882, -542430776.1236326, 3208048575.0562506, -568713082.429706, -549446658.2685716, -8557839557.109886, -9269525452.488379, -537041383.0496886, -474737725.7722202, -547302708.5760871, -540189064.544709, -466600158.02006567, -553201318.5458277, -367194549.64295197, 16955112765.388832, -534039814.4639937, -1335632326.7975175, -557571793.077134, -545943279.2290567, -549575807.7015827, -629255725.9968992, -439886835.6493698, -302083898.032158, -577500719.4448669, -501848044.13427454, -550482865.8199137, -566916327.505358, -253935883.64557537, -532001536.3785522, -586829288.3276448, -454548098.88797057, -538945714.9264095, -790534599.0092841, -550576245.5628136, -538724659.6066356, -542617493.3780016, -552029022.0960534, -540268926.0201396, -550794149.273514, -549326291.9149258, -541989097.9365075, -815937223.9166528, -551937194.6019796, -551396349.281527, -697115086.0821643, -552821824.9988242, 424339856.28096515, -544879847.5374013, -7499031679.805196, -577349876.1185514, -579285387.5696824, -29154324.17372227, -546106732.4985725, -659025535.305933, -551171761.3402058, -586829288.327644, -415128326.5433724, 2267143146.878301, -559841274.6748776, -544614182.8344293, -581426719.7315146, -551134868.8117119, 4281709891.0724764, -1013672615.630977, -79956066968.13617, -551666652.8879973, -568543353.7960728, -545778034.8008883, -531370374.4325692, -489349685.9636466, -557571793.077134, -525501397.63622266, -551005187.6869268, -551280568.7607182, -577447237.6800674, -545846918.1185563, -234251932.79005042, -548461881.4228443, -540600324.8259792, -485483931.5123175, -13565721979.956404, -546762193.2229341, -551470065.2760029, -551861980.229639, -536999096.673801, -549673897.3696588, -545854983.7862444, -546880055.2872851, -320912134.3696909, -541940700.7318999, -550478886.872916, -550490120.0490993, 49004205746.95853, -539553344.508433, -467219926.56604, -525277455.39811754, -590486475.2339575, -551274308.7560878, -555569428.9303772, -76374227.12893635, -547747664.8838706, -915976109.8958298, -586693693.5337703, -555812350.9860617, -564253998.2919663, -551074032.8945398, -511635773.410527, -542350699.9166212, -591032336.3446987, 1395018687.9181976, -591324939.9084133, -518873571.3743984, -534887849.3348983, -697775705.292465, -405511915.2098723, -544296264.8878803, -536946207.3877076, -50495945.92890211, 36877260943.11746, -545118567.0400596, -550047653.3209231, 194569767.87157667, -440826194.3167255, -545114532.4845272, -516231838.1112903, 9260062385.586756, -459132654.1681309, -526083402.3442334, -586829288.3276428, -557516196.8909546, 4715014524.80612, -567388838.9695055, -495431523.3595292, -551190673.5253854, -1116709899.7593174, -548867529.3700871, -530665275.7692979, -544736456.2527158, -506129962.6075419, -556317042.7458717, -553667906.2790142, -517217681.1987529, -542796178.471367, -543074935.9405233, 16627339697.51325, -535509811.0781586, -559782884.5727361, -555168204.849071, 10195504.681562828, -574975719.8928404, -106096808.6056681, -541223205.0583274, -555335953.4235748, -556385824.6120131, -557711883.487146, -5196063116.450084, 4701363941.473316, -522909112.37183493, -124381609071.49028, -548656387.956541, -523354517.7647992, -528507209.0447288, -529433558.51692, -543041623.2520728, -551793437.7651653, -513542716.82477975, -526193005.53443587, -492098629.63832164, -543040778.872595, 5441073264.107331, -508328634.1782556, -1990345632.0029418, -543375471.0657194, -540359535.6402019, -559034667.8396624, -554649086.4077001, -30007089683.612278, -579945971.7499466, -435423150.47243494, -527437833.29457295, -501503434.11684006, -541614779.2809398, -476812067.8404819, -586820630.4896492, -550430743.2030244, -557028948.3798413, -3841725626.2872267, -526911080.0334943, -533269090.3686915, -421248884.44922405, -539401507.4398254, -511306085.81214935, -549621606.6096576, -10135621299.317993, -604141109.2016255, -637265913.6818827, -541313009.7011652, 25269886972.27965, -547901597.9331882, 4000639853.017481, -547864875.9247864, -554935749.9638646, -344697340.2540546, -432406698.6942546, 20206531550.7743, -482518725.71688294, -1481939144.093225, -564364642.4752192, 18412199900.731064, -544015551.2121681, -546548517.868077, -513873238.77519894, -559759185.326467, -557629344.9361092, -611856784.3814623, -550425309.029691, -543569633.5689658, -546094249.1618475, -557632502.3797786, -549071677.3600324, -555456898.2802552, -550849164.1746691, -543390600.3873061, -546126454.6783943, -637568774.3762563, -498165971.92968524, -4207444325.577679, -593172332.2924517, -557514873.1233792, -349520736.14861697, 516276292.3704978, -682877735.524078, -541026883.3604767, -3891148148.9834924, -483125601.83054966, -550326046.6988802, -601039016.0803474, -539629708.4460381, -520608809.5234163, -510374719.8229005, -613641353.2332186, 2486595503.200057, -119378540.54287231, -543277786.3401064, -559400386.5302926, -537186781.9958357, -549489084.8527272, -548780089.3411614, -577031452.9275728, -531616769.3219986, -423873589.3975582, -548242481.2164963, -525183533.0220627, -543807243.0087698, -501304042.61552244, -527775278.76849437, -571220883.3576661, -519832072.7051377, -554923054.44173, -531561978.11937505, 795835623.1311839, -557997559.5974619, -541526466.0517813, -549196086.8572254, -541942707.5203682, -570769098.258037, -551054992.9198083, -250213498.7023348, -491813636.03467715, -4280588063.7039447, -534855781.4720509, -583869803.6774752, -529019355.6628038, -535048764.1787834, -526944238.770661, -531463403.554533, -21962808161.66437, -227483089.2938467, -550166127.0719098, -556968234.430407, -546251570.2257538, -547239506.8696492, -544076867.028739, -540940302.3408482, -545886072.6084795, -552806681.6131729, 7892122265.123685, -535542100.5013891, -557434895.5726362, -540427196.9767423, -54742212.85058259, 311591734.0513966, -510380920.59164625, -457985476.429756, -539432447.1034107, -551892819.4858057, -513521014.64025766, -453293074.61317533, -1318266669.5902734, -371232248.96626675, -504138602.2882602, -542095876.009133, 7535414173.456771, -915976109.8958286, -508683879.50467443, -915976109.8958286, -416018370.2651051, -531125000.96953297, -520047682.66467655, -555333290.7407429, 34282796050.653015, -15452556178.894762, 1874606262.7733345, -553824205.0001177, -499043634.57074106, -551359997.8777719, -509405980.0646169, -540104976.5626947, -520787587.2320169, -552549410.146269, -449708614.89494914, -556551631.483948, -556586810.9905858, -545245103.301705, 10171899198.355066, -511430587.7951202, -541023287.8965452, -526032595.50811297, -472423353.69417554, 1174543834.1125855, -353528342.11711216, -563526895.009886, -550220382.5923315, -539492348.5004754, -555839502.3625073, -915976109.8958303, 3691722311.766083, 48470701624.83482, -760305519.6779767, -1861324633.4555109, -453281397.879611, 2930878638.9628353, -540936299.7866932, -543556650.2810643, -558597201.7049594, -678004532.9523296, -725657671.2743409, 3852554930.070806, -15989463772.989277, -478032466.7808736, -549153936.7045778, -594709290.0477072, -1157700436.7246568, -700282588.3262919, -561206880.5825912, -620580990.9717768, -559953852.6278687, -549064536.2197694, -552131521.5781963, -519562717.2846244, -556636855.9057508, -562399988.5540028, -574187212.9951994, -4203236659.796989, -618414014.775954, -521131804.3542344, -551742896.1832525, -550319297.2366409, 413559571.4641088, -1433960311.8748972, -559213118.1634148, -1522142964.681866, -915976109.8958249, -586829288.3276435, -553977061.1388501, -915976109.8958246, -1281694796.4622004, -438137800.55906194, -698661475.1759613, -546071503.792363, -549868344.8644642], \"z\": [0.8147277981290548, 0.8144836720568408, -0.7128576360885743, -0.7060309132020937, -0.5748212248148673, 0.7739626850176606, -0.6960245568127882, -0.7058650254805575, -0.7130067702466402, 0.1232961458799231, -0.6922548510159574, 0.6767303792992861, 0.0870560319350678, -0.574835520405976, 0.7219090374768434, -0.6156168691396535, -0.5748049203256292, 0.8147297574863739, 0.8143221900501424, -0.7013882813076778, -0.712834731949109, -0.5747292975978413, -0.5747727667687209, 0.8146492438442923, -0.660072467127177, -0.6788966105286899, -0.5748312576880586, 0.8147281745388488, -0.5748364470308591, 0.8147279420190205, -0.5748411854885986, -0.6156145560621862, 0.168732253263705, 0.7106452271226581, -0.6987301746912432, -0.7078959459128494, -0.5719556725264117, -0.5748451860573508, -0.5747465108016026, -0.5748354045364895, 0.13111729401016897, 0.16057855320117598, -0.5748404493594179, -0.6923888842036615, -0.5742664443882638, -0.5748342065359482, -0.5748170649978105, 0.814767679811849, 0.18321940261424854, -0.5595467949703603, 0.7739571828839115, -0.7128596545888201, -0.5747312166635897, -0.5748449820388766, -0.5748484046145492, 0.7141116489840373, -0.5748392407282613, -0.682394528591717, 0.21147547113320095, -0.5748444224417703, 0.6776360503518531, 0.22507068557551585, 0.7549798183221187, -0.5642512176301454, -0.7128555993315441, -0.5747904191979765, 0.7550123287705814, 0.6970506728347954, 0.8149246783572391, 0.8147596928538249, 0.7960148874590913, -0.5748325431526273, -0.57466244833797, -0.5748237982774617, 0.18425847882875604, 0.7739506917440593, -0.7125059491347769, 0.09802122012709681, -0.7128529867184363, 0.12555017743468297, 0.7739578496295, -0.7128438819167565, -0.7128000225096505, -0.7128630701956126, -0.6156266664847054, 0.8153178161056025, 0.8147764509441454, -0.5748450017871035, 0.16085424133292578, -0.6817951018665145, -0.5747108918874807, 0.7739506943483295, 0.0979279005519438, -0.7128518397498248, 0.7550008788732109, 0.8154405250061545, -0.7388164573602474, 0.05845471569070959, 0.12163545778060471, -0.5748074677483335, 0.6767433604691924, 0.710609845915019, -0.5737576314282798, 0.2250506007320211, -0.5748022649733943, 0.7550303988060436, -0.5748467842133386, 0.22536006853916343, -0.574816836949151, 0.81472686115979, 0.7550255453144852, -0.5745474941067117, -0.6821811594471527, 0.1843052737668737, -0.7019665730475948, -0.6824143523394646, -0.5748525407345839, 0.8147365343777355, -0.5697197630264051, -0.6814928329836732, -0.5748486847837188, -0.7128541479169506, -0.5005870886371899, 0.7739497254504251, 0.059751731590452474, -0.6156198263501348, -0.6925562029667934, -0.7128291625824142, 0.7137789723835407, -0.6156190710850014, 0.1201989693323507, -0.5746998724359553, -0.5746952578976643, 0.22508483994571074, -0.7059552281735609, 0.7550476544234362, -0.7070843136353138, 0.677493150560892, 0.7216554150522165, -0.6156231095124047, -0.7128595959443795, 0.7107598075387752, -0.5748133274773481, -0.682471679503322, 0.6767288595519131, 0.7883624221709079, -0.5748255634303027, 0.6767186453079144, -0.7092837672518366, 0.7228373823635396, 0.8147559560899369, 0.22522054788051657, -0.6155868867398965, -0.6891901028162429, -0.5747133036708819, -0.6825224223355961, 0.7742540105659372, 0.2813803325815963, 0.6767429374803131, 0.1623402385447972, 0.13112429684305962, -0.5748368398547071, -0.6156144317672307, 0.7739253411460046, 0.6768924626960366, 0.6771265837754872, 0.729284359766976, 0.7740473241799081, -0.5748486852953837, 0.12245217204840557, 0.8158231655566222, 0.814760694404859, 0.8147446847482984, 0.16552040564932421, -0.6156065955624278, 0.18440179202061757, 0.022122799916085737, 0.7739811165023139, 0.8147728917997537, -0.7424766492033091, 0.6767300147431068, -0.7128592705254179, 0.7739526934803419, 0.8147431010346909, -0.7015947046195901, 0.8147265598389252, -0.574761936224773, 0.22495969398632304, -0.7128603696458287, 0.16296253317793288, -0.5748316712850855, 0.7280200032184289, 0.1311333940414995, 0.8147063995218303, 0.7749925298659283, -0.692586980810294, 0.13105827723436042, 0.16536258086734965, 0.7137973323739472, 0.1313525104728301, 0.7297411856538502, -0.7059577502509425, -0.7130056407234697, 0.061382623141241835, 0.7739631987703488, -0.5669021615224902, -0.6157482805611776, 0.6968589728064296, 0.7739513423850715, 0.13112936283096036, 0.814747998591832, 0.8147601365976621, -0.6154810266213381, 0.13112429684305962, 0.7739952489561137, 0.6767216618098136, 0.8147415131895628, 0.1199136117074367, 0.8147433264048034, 0.8152460392271167, 0.7739542076269447, -0.7424634011882548, 0.8148386860951988, 0.22972993286870155, 0.8147360747331674, 0.8147283580468608, 0.13981597531155043, 0.7072106383479689, -0.5748471691206727, -0.7424655209196472, -0.692593660776442, 0.8151160968897676, 0.6767287823579052, 0.7739546298186489, 0.8147363958570011, -0.5352493646908618, 0.8147453058361812, -0.695871248165302, 0.2251104833523427, 0.16089344563942146, -0.5748480657766444, 0.1653646114381476, -0.6148380987178121, -0.7130097044932248, 0.8148966643853228, -0.5748318028096572, -0.692595422311127, 0.22507273017517138, -0.6825304369002629, 0.7740230088545126, 0.7138024784919764, 0.7739688645837203, -0.5716609315708314, 0.13113900388188335, 0.7740176733538382, -0.6602791197264407, 0.13118755870485843, 0.774276625881844, 0.8147414932636123, 0.8147501508361683, 0.8155346719701552, 0.14752889379462106, 0.7739720184562057, -0.5748330603504402, 0.22649394647998589, -0.7116863146942088, 0.13113786462223184, 0.8147989195178069, 0.7683364554256659, 0.08720850324781125, -0.5747993995968861, 0.12246665061593373, -0.6959728891329393, 0.7397100248988568, -0.6825435057946929, -0.6857671680436734, -0.6825182894285508, -0.742020373119624, 0.7292703902457264, -0.6155676066729292, 0.7293216665716465, 0.7173335463856969, -0.5748448041978075, 0.7550326432816794, -0.5747915486457975, -0.6155940877835111, -0.6156123141368116, 0.8493138273435702, -0.7424451793004138, 0.7550232677494569, -0.682525201062234, -0.6764678431781991, 0.12130499975343931, -0.6148161629897025, 0.7173076766364037, -0.7128576797594731, 0.7739503425944056, 0.22507008995120148, 0.09118394579599239, -0.5663735724962731, 0.13116808927206025, -0.6661337718606919, -0.5748388398819969, -0.5747921263747836, -0.5747889093731764, -0.5747895922518996, 0.8147542741574871, 0.8147285073602685, -0.742413688264098, 0.12219761834597452, 0.1411323052103817, 0.7739678501140094, -0.6993946290989774, 0.697255979751316, -0.615898253475588, 0.8147397697967985, -0.6925077670291802, 0.1180905549795803, -0.7130130381715677, 0.8039746459397822, 0.676735404581444, 0.7298757901368123, 0.7144321824859964, -0.6891062039329525, 0.8147433769718544, 0.7296122605927668, -0.574831896384004, 0.12127185271620275, 0.814729290464858, 0.08857339534216419, -0.6154552232419, -0.6924946478048088, -0.70574430416942, -0.6925049561716714, 0.7740425442970165, 0.061570492889871105, 0.735352834163236, 0.7550743593384752, -0.7016997636036975, 0.8148264690813498, -0.6861764242445412, -0.7424725104231031, -0.6982227445228157, 0.13961905244829223, 0.139815901734006, -0.6152332076533196, -0.6954884641947301, 0.8519523067045345, 0.8148435027439919, -0.5733432800280529, 0.773962215429561, -0.6253867858840134, -0.6156126129144824, -0.6925149601551025, 0.13989001823747457, -0.6923146745386309, -0.5748261620868972, 0.8150770062035256, 0.8147294282134588, 0.18430498467199488, -0.6156127421879469, -0.7128597383894278, -0.6790763721510125, 0.1224568926745793, 0.09395484046082239, 0.16089308454745366, -0.6825204420259869, 0.8147651582474805, -0.7422940036901277, -0.5731601267590462, -0.6891984681237392, -0.6813532803607671, 0.16586090712609486, 0.05934748110167408, 0.05652456590819689, -0.5748244463507337, -0.5692408060153169, -0.6153571762551431, 0.71049768616091, 0.056325358846493145, 0.7739694877314429, 0.7155110750008669, 0.225151723229473, 0.12165636623082242, -0.7008734785591452, -0.7417236323246017, -0.5748344364646968, -0.6825265736724723, 0.7292965395144875, 0.8147296799077612, 0.8147310794868207, -0.7130080530963855, 0.2253009265686345, -0.6923747179744252, 0.12127347365928812, 0.1311779880922625, 0.8147457069233595, 0.05935242526771064, -0.6155654762485897, 0.7295426650747149, 0.131178425327787, -0.7424750995066818, 0.11811811489194829, 0.8179658900425844, -0.6603081045683344, -0.6925825760706444, 0.06172138895982566, -0.6825167261138769, 0.2250642327458551, -0.6925954077835653, -0.7419954654512593, -0.685329742362851, 0.8164502340082421, 0.22509859937878487, -0.6824816950619155, 0.7244326707446243, -0.7420300526985282, 0.8147818148986772, 0.1320362957623415, 0.18554771951448684, 0.14033352278499184, 0.0870976276084547, 0.12304540887204164, -0.6818195080484967, -0.6825193279226159, -0.6156121319582445, 0.7077875090664189, 0.13982301136487796, 0.7294708052771829, 0.23869270621020844, 0.7077802140582985, 0.1398491365362934, -0.5748318504727699, 0.8155315417418542, -0.6946109343507377, -0.6824624224555993, -0.6739535787912779, 0.1843229422576063, 0.7739714093059727, 0.225209034943, 0.13128447629263895, -0.7125085245934373, 0.7107957254131703, 0.1843686907551816, -0.615608917772396, 0.8285806752887598, 0.05761747773371894, -0.6817576472229382, 0.05642189618087876, -0.7095877265643242, 0.12583909332057663, -0.692540322980873, -0.7128576777966185, 0.11777241443643943, 0.1733052922352067, -0.7371493993979042, 0.7294914737045619, -0.6890994658914936, -0.6891730614378471, 0.08697388744045541, -0.6825140430583542, -0.574774449410041, 0.8147353162701538, -0.7128296584727487, 0.7294741326747599, -0.7130101319546392, 0.13982013839078347, 0.8554289601617154, -0.6823378207844011, 0.18430629176335295, 0.814782486936397, 0.7157395200218608, 0.7278369620134474, 0.7742798696048655, -0.7128448639484404, -0.6345536359549583, -0.7127815461255302, 0.7739597306470872, 0.06151965856258563, 0.8332010981502486, -0.4956986236324364, 0.7737958501483904, -0.6917395286923121, 0.814886978866818, -0.6835478687457875, 0.8147584587312928, 0.08706774632285294, 0.8147216502693891, 0.7740757520037718, -0.5745396257401334, 0.8225772969373338, 0.6654154040884138, 0.7744423976625671, -0.7128439148117034, 0.8147016064122432, -0.5533733905177679, 0.8147925893055079, -0.6788948194923523, 0.7739900515982514, 0.8147908043885563, 0.13112574505152813, -0.5748479786091863, -0.5747463617163895, 0.1199025934653142, 0.6767505313046281, 0.06140327035505434, 0.2267635918314864, 0.8148090941331116, 0.6970975376571045, -0.7019248768384134, 0.7550220104842952, -0.6808916371661127, 0.06069935143241228, -0.7059580402948533, 0.06063434566603679, 0.08722246522889462, 0.056268436228878706, 0.131121963260252, 0.06664211627814716, 0.0256996961155441, 0.8149200654887147, -0.7419751802615353, -0.7130067150194079, 0.22506867859783192]}, {\"customdata\": [[\"X13\"], [\"Scrypt\"], [\"CryptoNight\"], [\"Scrypt\"], [\"CryptoNight\"], [\"CryptoNight Heavy\"]], \"hovertemplate\": \"<b>%{hovertext}</b><br><br>Class=%{marker.color}<br>PC 1=%{x}<br>PC 2=%{y}<br>PC 3=%{z}<br>Algorithm=%{customdata[0]}<extra></extra>\", \"hovertext\": [\"EliteCoin\", \"MoonCoin\", \"ByteCoin\", \"gCn Coin\", \"Newton Coin\", \"Qwertycoin\"], \"legendgroup\": \"2\", \"marker\": {\"color\": [2, 2, 2, 2, 2, 2], \"coloraxis\": \"coloraxis\", \"symbol\": \"diamond\"}, \"mode\": \"markers\", \"name\": \"2\", \"scene\": \"scene\", \"showlegend\": true, \"type\": \"scatter3d\", \"x\": [275050695134.26825, 320881298544.4533, 240172639961.8634, 243112535859.06155, 168353963292.72473, 197901564926.96066], \"y\": [131237019271.37552, 191524403584.5513, -67666553190.34526, -41702919734.18, 55728050992.98349, 5516264467.444029], \"z\": [0.9899193270915705, -0.26488667300702706, -0.7110736791319096, -0.5174926172448696, -0.620315610418214, -0.6000831135128392]}, {\"customdata\": [[\"CryptoNight\"]], \"hovertemplate\": \"<b>%{hovertext}</b><br><br>Class=%{marker.color}<br>PC 1=%{x}<br>PC 2=%{y}<br>PC 3=%{z}<br>Algorithm=%{customdata[0]}<extra></extra>\", \"hovertext\": [\"TurtleCoin\"], \"legendgroup\": \"1\", \"marker\": {\"color\": [1], \"coloraxis\": \"coloraxis\", \"symbol\": \"square\"}, \"mode\": \"markers\", \"name\": \"1\", \"scene\": \"scene\", \"showlegend\": true, \"type\": \"scatter3d\", \"x\": [880864030324.6992], \"y\": [453629691942.35455], \"z\": [0.03079270548957597]}, {\"customdata\": [[\"TRC10\"]], \"hovertemplate\": \"<b>%{hovertext}</b><br><br>Class=%{marker.color}<br>PC 1=%{x}<br>PC 2=%{y}<br>PC 3=%{z}<br>Algorithm=%{customdata[0]}<extra></extra>\", \"hovertext\": [\"BitTorrent\"], \"legendgroup\": \"3\", \"marker\": {\"color\": [3], \"coloraxis\": \"coloraxis\", \"symbol\": \"x\"}, \"mode\": \"markers\", \"name\": \"3\", \"scene\": \"scene\", \"showlegend\": true, \"type\": \"scatter3d\", \"x\": [1340811489662.2117], \"y\": [-362601987963.57465], \"z\": [0.22726717195338475]}],                        {\"coloraxis\": {\"colorbar\": {\"title\": {\"text\": \"Class\"}}, \"colorscale\": [[0.0, \"#0d0887\"], [0.1111111111111111, \"#46039f\"], [0.2222222222222222, \"#7201a8\"], [0.3333333333333333, \"#9c179e\"], [0.4444444444444444, \"#bd3786\"], [0.5555555555555556, \"#d8576b\"], [0.6666666666666666, \"#ed7953\"], [0.7777777777777778, \"#fb9f3a\"], [0.8888888888888888, \"#fdca26\"], [1.0, \"#f0f921\"]]}, \"legend\": {\"title\": {\"text\": \"Class\"}, \"tracegroupgap\": 0, \"x\": 0, \"y\": 1}, \"margin\": {\"t\": 60}, \"scene\": {\"domain\": {\"x\": [0.0, 1.0], \"y\": [0.0, 1.0]}, \"xaxis\": {\"title\": {\"text\": \"PC 1\"}}, \"yaxis\": {\"title\": {\"text\": \"PC 2\"}}, \"zaxis\": {\"title\": {\"text\": \"PC 3\"}}}, \"template\": {\"data\": {\"bar\": [{\"error_x\": {\"color\": \"#2a3f5f\"}, \"error_y\": {\"color\": \"#2a3f5f\"}, \"marker\": {\"line\": {\"color\": \"#E5ECF6\", \"width\": 0.5}}, \"type\": \"bar\"}], \"barpolar\": [{\"marker\": {\"line\": {\"color\": \"#E5ECF6\", \"width\": 0.5}}, \"type\": \"barpolar\"}], \"carpet\": [{\"aaxis\": {\"endlinecolor\": \"#2a3f5f\", \"gridcolor\": \"white\", \"linecolor\": \"white\", \"minorgridcolor\": \"white\", \"startlinecolor\": \"#2a3f5f\"}, \"baxis\": {\"endlinecolor\": \"#2a3f5f\", \"gridcolor\": \"white\", \"linecolor\": \"white\", \"minorgridcolor\": \"white\", \"startlinecolor\": \"#2a3f5f\"}, \"type\": \"carpet\"}], \"choropleth\": [{\"colorbar\": {\"outlinewidth\": 0, \"ticks\": \"\"}, \"type\": \"choropleth\"}], \"contour\": [{\"colorbar\": {\"outlinewidth\": 0, \"ticks\": \"\"}, \"colorscale\": [[0.0, \"#0d0887\"], [0.1111111111111111, \"#46039f\"], [0.2222222222222222, \"#7201a8\"], [0.3333333333333333, \"#9c179e\"], [0.4444444444444444, \"#bd3786\"], [0.5555555555555556, \"#d8576b\"], [0.6666666666666666, \"#ed7953\"], [0.7777777777777778, \"#fb9f3a\"], [0.8888888888888888, \"#fdca26\"], [1.0, \"#f0f921\"]], \"type\": \"contour\"}], \"contourcarpet\": [{\"colorbar\": {\"outlinewidth\": 0, \"ticks\": \"\"}, \"type\": \"contourcarpet\"}], \"heatmap\": [{\"colorbar\": {\"outlinewidth\": 0, \"ticks\": \"\"}, \"colorscale\": [[0.0, \"#0d0887\"], [0.1111111111111111, \"#46039f\"], [0.2222222222222222, \"#7201a8\"], [0.3333333333333333, \"#9c179e\"], [0.4444444444444444, \"#bd3786\"], [0.5555555555555556, \"#d8576b\"], [0.6666666666666666, \"#ed7953\"], [0.7777777777777778, \"#fb9f3a\"], [0.8888888888888888, \"#fdca26\"], [1.0, \"#f0f921\"]], \"type\": \"heatmap\"}], \"heatmapgl\": [{\"colorbar\": {\"outlinewidth\": 0, \"ticks\": \"\"}, \"colorscale\": [[0.0, \"#0d0887\"], [0.1111111111111111, \"#46039f\"], [0.2222222222222222, \"#7201a8\"], [0.3333333333333333, \"#9c179e\"], [0.4444444444444444, \"#bd3786\"], [0.5555555555555556, \"#d8576b\"], [0.6666666666666666, \"#ed7953\"], [0.7777777777777778, \"#fb9f3a\"], [0.8888888888888888, \"#fdca26\"], [1.0, \"#f0f921\"]], \"type\": \"heatmapgl\"}], \"histogram\": [{\"marker\": {\"colorbar\": {\"outlinewidth\": 0, \"ticks\": \"\"}}, \"type\": \"histogram\"}], \"histogram2d\": [{\"colorbar\": {\"outlinewidth\": 0, \"ticks\": \"\"}, \"colorscale\": [[0.0, \"#0d0887\"], [0.1111111111111111, \"#46039f\"], [0.2222222222222222, \"#7201a8\"], [0.3333333333333333, \"#9c179e\"], [0.4444444444444444, \"#bd3786\"], [0.5555555555555556, \"#d8576b\"], [0.6666666666666666, \"#ed7953\"], [0.7777777777777778, \"#fb9f3a\"], [0.8888888888888888, \"#fdca26\"], [1.0, \"#f0f921\"]], \"type\": \"histogram2d\"}], \"histogram2dcontour\": [{\"colorbar\": {\"outlinewidth\": 0, \"ticks\": \"\"}, \"colorscale\": [[0.0, \"#0d0887\"], [0.1111111111111111, \"#46039f\"], [0.2222222222222222, \"#7201a8\"], [0.3333333333333333, \"#9c179e\"], [0.4444444444444444, \"#bd3786\"], [0.5555555555555556, \"#d8576b\"], [0.6666666666666666, \"#ed7953\"], [0.7777777777777778, \"#fb9f3a\"], [0.8888888888888888, \"#fdca26\"], [1.0, \"#f0f921\"]], \"type\": \"histogram2dcontour\"}], \"mesh3d\": [{\"colorbar\": {\"outlinewidth\": 0, \"ticks\": \"\"}, \"type\": \"mesh3d\"}], \"parcoords\": [{\"line\": {\"colorbar\": {\"outlinewidth\": 0, \"ticks\": \"\"}}, \"type\": \"parcoords\"}], \"pie\": [{\"automargin\": true, \"type\": \"pie\"}], \"scatter\": [{\"marker\": {\"colorbar\": {\"outlinewidth\": 0, \"ticks\": \"\"}}, \"type\": \"scatter\"}], \"scatter3d\": [{\"line\": {\"colorbar\": {\"outlinewidth\": 0, \"ticks\": \"\"}}, \"marker\": {\"colorbar\": {\"outlinewidth\": 0, \"ticks\": \"\"}}, \"type\": \"scatter3d\"}], \"scattercarpet\": [{\"marker\": {\"colorbar\": {\"outlinewidth\": 0, \"ticks\": \"\"}}, \"type\": \"scattercarpet\"}], \"scattergeo\": [{\"marker\": {\"colorbar\": {\"outlinewidth\": 0, \"ticks\": \"\"}}, \"type\": \"scattergeo\"}], \"scattergl\": [{\"marker\": {\"colorbar\": {\"outlinewidth\": 0, \"ticks\": \"\"}}, \"type\": \"scattergl\"}], \"scattermapbox\": [{\"marker\": {\"colorbar\": {\"outlinewidth\": 0, \"ticks\": \"\"}}, \"type\": \"scattermapbox\"}], \"scatterpolar\": [{\"marker\": {\"colorbar\": {\"outlinewidth\": 0, \"ticks\": \"\"}}, \"type\": \"scatterpolar\"}], \"scatterpolargl\": [{\"marker\": {\"colorbar\": {\"outlinewidth\": 0, \"ticks\": \"\"}}, \"type\": \"scatterpolargl\"}], \"scatterternary\": [{\"marker\": {\"colorbar\": {\"outlinewidth\": 0, \"ticks\": \"\"}}, \"type\": \"scatterternary\"}], \"surface\": [{\"colorbar\": {\"outlinewidth\": 0, \"ticks\": \"\"}, \"colorscale\": [[0.0, \"#0d0887\"], [0.1111111111111111, \"#46039f\"], [0.2222222222222222, \"#7201a8\"], [0.3333333333333333, \"#9c179e\"], [0.4444444444444444, \"#bd3786\"], [0.5555555555555556, \"#d8576b\"], [0.6666666666666666, \"#ed7953\"], [0.7777777777777778, \"#fb9f3a\"], [0.8888888888888888, \"#fdca26\"], [1.0, \"#f0f921\"]], \"type\": \"surface\"}], \"table\": [{\"cells\": {\"fill\": {\"color\": \"#EBF0F8\"}, \"line\": {\"color\": \"white\"}}, \"header\": {\"fill\": {\"color\": \"#C8D4E3\"}, \"line\": {\"color\": \"white\"}}, \"type\": \"table\"}]}, \"layout\": {\"annotationdefaults\": {\"arrowcolor\": \"#2a3f5f\", \"arrowhead\": 0, \"arrowwidth\": 1}, \"autotypenumbers\": \"strict\", \"coloraxis\": {\"colorbar\": {\"outlinewidth\": 0, \"ticks\": \"\"}}, \"colorscale\": {\"diverging\": [[0, \"#8e0152\"], [0.1, \"#c51b7d\"], [0.2, \"#de77ae\"], [0.3, \"#f1b6da\"], [0.4, \"#fde0ef\"], [0.5, \"#f7f7f7\"], [0.6, \"#e6f5d0\"], [0.7, \"#b8e186\"], [0.8, \"#7fbc41\"], [0.9, \"#4d9221\"], [1, \"#276419\"]], \"sequential\": [[0.0, \"#0d0887\"], [0.1111111111111111, \"#46039f\"], [0.2222222222222222, \"#7201a8\"], [0.3333333333333333, \"#9c179e\"], [0.4444444444444444, \"#bd3786\"], [0.5555555555555556, \"#d8576b\"], [0.6666666666666666, \"#ed7953\"], [0.7777777777777778, \"#fb9f3a\"], [0.8888888888888888, \"#fdca26\"], [1.0, \"#f0f921\"]], \"sequentialminus\": [[0.0, \"#0d0887\"], [0.1111111111111111, \"#46039f\"], [0.2222222222222222, \"#7201a8\"], [0.3333333333333333, \"#9c179e\"], [0.4444444444444444, \"#bd3786\"], [0.5555555555555556, \"#d8576b\"], [0.6666666666666666, \"#ed7953\"], [0.7777777777777778, \"#fb9f3a\"], [0.8888888888888888, \"#fdca26\"], [1.0, \"#f0f921\"]]}, \"colorway\": [\"#636efa\", \"#EF553B\", \"#00cc96\", \"#ab63fa\", \"#FFA15A\", \"#19d3f3\", \"#FF6692\", \"#B6E880\", \"#FF97FF\", \"#FECB52\"], \"font\": {\"color\": \"#2a3f5f\"}, \"geo\": {\"bgcolor\": \"white\", \"lakecolor\": \"white\", \"landcolor\": \"#E5ECF6\", \"showlakes\": true, \"showland\": true, \"subunitcolor\": \"white\"}, \"hoverlabel\": {\"align\": \"left\"}, \"hovermode\": \"closest\", \"mapbox\": {\"style\": \"light\"}, \"paper_bgcolor\": \"white\", \"plot_bgcolor\": \"#E5ECF6\", \"polar\": {\"angularaxis\": {\"gridcolor\": \"white\", \"linecolor\": \"white\", \"ticks\": \"\"}, \"bgcolor\": \"#E5ECF6\", \"radialaxis\": {\"gridcolor\": \"white\", \"linecolor\": \"white\", \"ticks\": \"\"}}, \"scene\": {\"xaxis\": {\"backgroundcolor\": \"#E5ECF6\", \"gridcolor\": \"white\", \"gridwidth\": 2, \"linecolor\": \"white\", \"showbackground\": true, \"ticks\": \"\", \"zerolinecolor\": \"white\"}, \"yaxis\": {\"backgroundcolor\": \"#E5ECF6\", \"gridcolor\": \"white\", \"gridwidth\": 2, \"linecolor\": \"white\", \"showbackground\": true, \"ticks\": \"\", \"zerolinecolor\": \"white\"}, \"zaxis\": {\"backgroundcolor\": \"#E5ECF6\", \"gridcolor\": \"white\", \"gridwidth\": 2, \"linecolor\": \"white\", \"showbackground\": true, \"ticks\": \"\", \"zerolinecolor\": \"white\"}}, \"shapedefaults\": {\"line\": {\"color\": \"#2a3f5f\"}}, \"ternary\": {\"aaxis\": {\"gridcolor\": \"white\", \"linecolor\": \"white\", \"ticks\": \"\"}, \"baxis\": {\"gridcolor\": \"white\", \"linecolor\": \"white\", \"ticks\": \"\"}, \"bgcolor\": \"#E5ECF6\", \"caxis\": {\"gridcolor\": \"white\", \"linecolor\": \"white\", \"ticks\": \"\"}}, \"title\": {\"x\": 0.05}, \"xaxis\": {\"automargin\": true, \"gridcolor\": \"white\", \"linecolor\": \"white\", \"ticks\": \"\", \"title\": {\"standoff\": 15}, \"zerolinecolor\": \"white\", \"zerolinewidth\": 2}, \"yaxis\": {\"automargin\": true, \"gridcolor\": \"white\", \"linecolor\": \"white\", \"ticks\": \"\", \"title\": {\"standoff\": 15}, \"zerolinecolor\": \"white\", \"zerolinewidth\": 2}}}, \"width\": 800},                        {\"responsive\": true}                    ).then(function(){\n",
       "                            \n",
       "var gd = document.getElementById('5b7e5ff1-23d3-4092-a3e2-5c96fac25a24');\n",
       "var x = new MutationObserver(function (mutations, observer) {{\n",
       "        var display = window.getComputedStyle(gd).display;\n",
       "        if (!display || display === 'none') {{\n",
       "            console.log([gd, 'removed!']);\n",
       "            Plotly.purge(gd);\n",
       "            observer.disconnect();\n",
       "        }}\n",
       "}});\n",
       "\n",
       "// Listen for the removal of the full notebook cells\n",
       "var notebookContainer = gd.closest('#notebook-container');\n",
       "if (notebookContainer) {{\n",
       "    x.observe(notebookContainer, {childList: true});\n",
       "}}\n",
       "\n",
       "// Listen for the clearing of the current output cell\n",
       "var outputEl = gd.closest('.output');\n",
       "if (outputEl) {{\n",
       "    x.observe(outputEl, {childList: true});\n",
       "}}\n",
       "\n",
       "                        })                };                });            </script>        </div>"
      ]
     },
     "metadata": {},
     "output_type": "display_data"
    }
   ],
   "source": [
    "# Creating a 3D-Scatter with the PCA data and the clusters\n",
    "fig = px.scatter_3d(\n",
    "    clustered_df,\n",
    "    hover_name='CoinName' ,\n",
    "    hover_data=['Algorithm'],\n",
    "    x=\"PC 1\",\n",
    "    y=\"PC 2\",\n",
    "    z=\"PC 3\",\n",
    "    color=\"Class\",\n",
    "    symbol=\"Class\",\n",
    "    width=800)\n",
    "\n",
    "fig.update_layout(legend=dict(x=0, y=1))\n",
    "fig.show()"
   ]
  },
  {
   "cell_type": "code",
   "execution_count": 158,
   "metadata": {},
   "outputs": [
    {
     "data": {},
     "metadata": {},
     "output_type": "display_data"
    },
    {
     "data": {
      "application/vnd.holoviews_exec.v0+json": "",
      "text/html": [
       "<div id='1102'>\n",
       "\n",
       "\n",
       "\n",
       "\n",
       "\n",
       "  <div class=\"bk-root\" id=\"5d21ba71-82ee-4c7a-9764-78204f7cbb66\" data-root-id=\"1102\"></div>\n",
       "</div>\n",
       "<script type=\"application/javascript\">(function(root) {\n",
       "  function embed_document(root) {\n",
       "  var docs_json = {\"5c5216a5-2f52-43f3-b7d4-0ffaa672f9a8\":{\"roots\":{\"references\":[{\"attributes\":{\"editor\":{\"id\":\"1122\"},\"field\":\"TotalCoinSupply\",\"formatter\":{\"id\":\"1121\"},\"title\":\"TotalCoinSupply\"},\"id\":\"1123\",\"type\":\"TableColumn\"},{\"attributes\":{\"editor\":{\"id\":\"1142\"},\"field\":\"CoinName\",\"formatter\":{\"id\":\"1141\"},\"title\":\"CoinName\"},\"id\":\"1143\",\"type\":\"TableColumn\"},{\"attributes\":{\"margin\":[5,5,5,5],\"name\":\"HSpacer01709\",\"sizing_mode\":\"stretch_width\"},\"id\":\"1103\",\"type\":\"Spacer\"},{\"attributes\":{\"format\":\"0,0.0[00000]\"},\"id\":\"1116\",\"type\":\"NumberFormatter\"},{\"attributes\":{},\"id\":\"1111\",\"type\":\"StringFormatter\"},{\"attributes\":{},\"id\":\"1121\",\"type\":\"StringFormatter\"},{\"attributes\":{\"format\":\"0,0.0[00000]\"},\"id\":\"1126\",\"type\":\"NumberFormatter\"},{\"attributes\":{},\"id\":\"1106\",\"type\":\"StringFormatter\"},{\"attributes\":{\"format\":\"0,0.0[00000]\"},\"id\":\"1131\",\"type\":\"NumberFormatter\"},{\"attributes\":{},\"id\":\"1146\",\"type\":\"NumberFormatter\"},{\"attributes\":{\"source\":{\"id\":\"1104\"}},\"id\":\"1152\",\"type\":\"CDSView\"},{\"attributes\":{},\"id\":\"1132\",\"type\":\"NumberEditor\"},{\"attributes\":{\"editor\":{\"id\":\"1127\"},\"field\":\"PC_1\",\"formatter\":{\"id\":\"1126\"},\"title\":\"PC 1\"},\"id\":\"1128\",\"type\":\"TableColumn\"},{\"attributes\":{},\"id\":\"1142\",\"type\":\"StringEditor\"},{\"attributes\":{\"children\":[{\"id\":\"1103\"},{\"id\":\"1151\"},{\"id\":\"1157\"}],\"margin\":[0,0,0,0],\"name\":\"Row01705\",\"tags\":[\"embedded\"]},\"id\":\"1102\",\"type\":\"Row\"},{\"attributes\":{\"editor\":{\"id\":\"1137\"},\"field\":\"PC_3\",\"formatter\":{\"id\":\"1136\"},\"title\":\"PC 3\"},\"id\":\"1138\",\"type\":\"TableColumn\"},{\"attributes\":{\"format\":\"0,0.0[00000]\"},\"id\":\"1136\",\"type\":\"NumberFormatter\"},{\"attributes\":{},\"id\":\"1127\",\"type\":\"NumberEditor\"},{\"attributes\":{},\"id\":\"1141\",\"type\":\"StringFormatter\"},{\"attributes\":{\"data\":{\"Algorithm\":[\"Scrypt\",\"Scrypt\",\"X13\",\"SHA-256\",\"Ethash\",\"Scrypt\",\"X11\",\"CryptoNight-V7\",\"Ethash\",\"Equihash\",\"SHA-512\",\"Multiple\",\"SHA-256\",\"SHA-256\",\"Scrypt\",\"X15\",\"X11\",\"Scrypt\",\"Scrypt\",\"Scrypt\",\"Multiple\",\"Scrypt\",\"SHA-256\",\"Scrypt\",\"Scrypt\",\"Scrypt\",\"Quark\",\"Groestl\",\"Scrypt\",\"Scrypt\",\"Scrypt\",\"Scrypt\",\"Scrypt\",\"X11\",\"Scrypt\",\"Groestl\",\"Multiple\",\"SHA-256\",\"Scrypt\",\"Scrypt\",\"Scrypt\",\"Scrypt\",\"PoS\",\"Scrypt\",\"Scrypt\",\"NeoScrypt\",\"Scrypt\",\"Scrypt\",\"Scrypt\",\"Scrypt\",\"X11\",\"Scrypt\",\"X11\",\"SHA-256\",\"Scrypt\",\"Scrypt\",\"Scrypt\",\"SHA3\",\"Scrypt\",\"HybridScryptHash256\",\"Scrypt\",\"Scrypt\",\"SHA-256\",\"Scrypt\",\"X13\",\"Scrypt\",\"SHA-256\",\"Scrypt\",\"X13\",\"NeoScrypt\",\"Scrypt\",\"Scrypt\",\"Scrypt\",\"Scrypt\",\"Scrypt\",\"Scrypt\",\"X11\",\"X11\",\"SHA-256\",\"Multiple\",\"SHA-256\",\"PHI1612\",\"X11\",\"SHA-256\",\"SHA-256\",\"SHA-256\",\"X11\",\"Scrypt\",\"Scrypt\",\"Scrypt\",\"Scrypt\",\"Lyra2REv2\",\"Scrypt\",\"X11\",\"Multiple\",\"SHA-256\",\"X13\",\"Scrypt\",\"CryptoNight\",\"CryptoNight\",\"Shabal256\",\"Counterparty\",\"Scrypt\",\"SHA-256\",\"Groestl\",\"Scrypt\",\"Scrypt\",\"Scrypt\",\"X13\",\"Scrypt\",\"Scrypt\",\"Scrypt\",\"Scrypt\",\"X13\",\"Scrypt\",\"Stanford Folding\",\"X11\",\"Multiple\",\"QuBit\",\"Scrypt\",\"Scrypt\",\"Scrypt\",\"M7 POW\",\"Scrypt\",\"SHA-256\",\"Scrypt\",\"X11\",\"SHA3\",\"X11\",\"Lyra2RE\",\"SHA-256\",\"QUAIT\",\"X11\",\"X11\",\"Scrypt\",\"Scrypt\",\"Scrypt\",\"Ethash\",\"X13\",\"Blake2b\",\"SHA-256\",\"X15\",\"X11\",\"SHA-256\",\"BLAKE256\",\"Scrypt\",\"1GB AES Pattern Search\",\"SHA-256\",\"X11\",\"Scrypt\",\"SHA-256\",\"SHA-256\",\"NIST5\",\"Scrypt\",\"Scrypt\",\"X11\",\"Dagger\",\"Scrypt\",\"X11GOST\",\"X11\",\"Scrypt\",\"SHA-256\",\"Scrypt\",\"PoS\",\"Scrypt\",\"X11\",\"X11\",\"SHA-256\",\"SHA-256\",\"NIST5\",\"X11\",\"Scrypt\",\"POS 3.0\",\"Scrypt\",\"Scrypt\",\"Scrypt\",\"X13\",\"X11\",\"X11\",\"Equihash\",\"X11\",\"Scrypt\",\"CryptoNight\",\"SHA-256\",\"SHA-256\",\"X11\",\"Scrypt\",\"Multiple\",\"Scrypt\",\"Scrypt\",\"Scrypt\",\"SHA-256\",\"Scrypt\",\"Scrypt\",\"SHA-256D\",\"PoS\",\"Scrypt\",\"X11\",\"Lyra2Z\",\"PoS\",\"X13\",\"X14\",\"PoS\",\"SHA-256D\",\"Ethash\",\"Equihash\",\"DPoS\",\"X11\",\"Scrypt\",\"X11\",\"X13\",\"X11\",\"PoS\",\"Scrypt\",\"Scrypt\",\"X11\",\"PoS\",\"X11\",\"SHA-256\",\"Scrypt\",\"X11\",\"Scrypt\",\"Scrypt\",\"X11\",\"CryptoNight\",\"Scrypt\",\"Scrypt\",\"Scrypt\",\"Scrypt\",\"Quark\",\"QuBit\",\"Scrypt\",\"CryptoNight\",\"Lyra2RE\",\"Scrypt\",\"SHA-256\",\"X11\",\"Scrypt\",\"X11\",\"Scrypt\",\"CryptoNight-V7\",\"Scrypt\",\"Scrypt\",\"Scrypt\",\"X13\",\"X11\",\"Equihash\",\"Scrypt\",\"Scrypt\",\"Lyra2RE\",\"Scrypt\",\"Dagger-Hashimoto\",\"X11\",\"Blake2S\",\"X11\",\"Scrypt\",\"PoS\",\"X11\",\"NIST5\",\"PoS\",\"X11\",\"Scrypt\",\"Scrypt\",\"Scrypt\",\"SHA-256\",\"X11\",\"Scrypt\",\"Scrypt\",\"SHA-256\",\"PoS\",\"Scrypt\",\"X15\",\"SHA-256\",\"Scrypt\",\"POS 3.0\",\"CryptoNight-V7\",\"536\",\"Argon2d\",\"Blake2b\",\"Cloverhash\",\"CryptoNight\",\"NIST5\",\"X11\",\"NIST5\",\"Skein\",\"Scrypt\",\"X13\",\"Scrypt\",\"X11\",\"X11\",\"Scrypt\",\"CryptoNight\",\"X13\",\"Time Travel\",\"Scrypt\",\"Keccak\",\"SkunkHash v2 Raptor\",\"X11\",\"Skein\",\"SHA-256\",\"X11\",\"Scrypt\",\"VeChainThor Authority\",\"Scrypt\",\"PoS\",\"Scrypt\",\"Scrypt\",\"Scrypt\",\"Scrypt\",\"Scrypt\",\"Scrypt\",\"Scrypt\",\"CryptoNight\",\"SHA-512\",\"Ouroboros\",\"X11\",\"Equihash\",\"NeoScrypt\",\"X11\",\"Scrypt\",\"NeoScrypt\",\"Lyra2REv2\",\"Equihash\",\"Scrypt\",\"SHA-256\",\"NIST5\",\"PHI1612\",\"Dagger\",\"Scrypt\",\"Quark\",\"Scrypt\",\"POS 2.0\",\"Scrypt\",\"SHA-256\",\"X11\",\"NeoScrypt\",\"Ethash\",\"NeoScrypt\",\"X11\",\"DPoS\",\"NIST5\",\"X13\",\"Multiple\",\"Scrypt\",\"CryptoNight\",\"CryptoNight\",\"Ethash\",\"NIST5\",\"Quark\",\"X11\",\"CryptoNight-V7\",\"Scrypt\",\"Scrypt\",\"Scrypt\",\"X11\",\"BLAKE256\",\"X11\",\"NeoScrypt\",\"Quark\",\"NeoScrypt\",\"Scrypt\",\"Scrypt\",\"Scrypt\",\"X11\",\"X11\",\"SHA-256\",\"C11\",\"POS 3.0\",\"Ethash\",\"Scrypt\",\"CryptoNight\",\"SkunkHash\",\"Scrypt\",\"CryptoNight\",\"Scrypt\",\"Dagger\",\"Lyra2REv2\",\"X13\",\"Proof-of-BibleHash\",\"SHA-256 + Hive\",\"Scrypt\",\"Scrypt\",\"X11\",\"C11\",\"Proof-of-Authority\",\"X11\",\"XEVAN\",\"Scrypt\",\"VBFT\",\"Ethash\",\"CryptoNight\",\"Scrypt\",\"IMesh\",\"NIST5\",\"Scrypt\",\"Scrypt\",\"Equihash\",\"Scrypt\",\"Lyra2Z\",\"Green Protocol\",\"PoS\",\"Scrypt\",\"Semux BFT consensus\",\"X11\",\"Quark\",\"PoS\",\"CryptoNight\",\"X16R\",\"Scrypt\",\"NIST5\",\"Lyra2RE\",\"XEVAN\",\"Tribus\",\"Scrypt\",\"Lyra2Z\",\"CryptoNight\",\"CryptoNight Heavy\",\"CryptoNight\",\"Scrypt\",\"Scrypt\",\"Jump Consistent Hash\",\"SHA-256D\",\"CryptoNight\",\"Scrypt\",\"X15\",\"Scrypt\",\"Quark\",\"SHA-256\",\"DPoS\",\"X16R\",\"HMQ1725\",\"X11\",\"X16R\",\"Quark\",\"Quark\",\"Scrypt\",\"Lyra2REv2\",\"Quark\",\"Scrypt\",\"Scrypt\",\"CryptoNight-V7\",\"Cryptonight-GPU\",\"XEVAN\",\"CryptoNight Heavy\",\"X11\",\"X11\",\"Scrypt\",\"PoS\",\"SHA-256\",\"Keccak\",\"X11\",\"X11\",\"Scrypt\",\"SHA-512\",\"X16R\",\"ECC 256K1\",\"Equihash\",\"XEVAN\",\"Lyra2Z\",\"SHA-256\",\"XEVAN\",\"X11\",\"CryptoNight\",\"Quark\",\"Blake\",\"Blake\",\"Equihash\",\"Exosis\",\"Scrypt\",\"Scrypt\",\"Equihash\",\"Quark\",\"Equihash\",\"Quark\",\"Scrypt\",\"QuBit\",\"X11\",\"Scrypt\",\"XEVAN\",\"SHA-256D\",\"X11\",\"SHA-256\",\"X13\",\"SHA-256\",\"X11\",\"DPoS\",\"Scrypt\",\"Scrypt\",\"X11\",\"NeoScrypt\",\"Scrypt\",\"Blake\",\"Scrypt\",\"SHA-256\",\"Scrypt\",\"X11\",\"Scrypt\",\"Scrypt\",\"SHA-256\",\"X11\",\"SHA-256\",\"Scrypt\",\"Scrypt\",\"Scrypt\",\"Groestl\",\"X11\",\"Scrypt\",\"PoS\",\"Scrypt\",\"Scrypt\",\"X11\",\"SHA-256\",\"DPoS\",\"Scrypt\",\"Scrypt\",\"NeoScrypt\",\"Multiple\",\"X13\",\"Equihash+Scrypt\",\"DPoS\",\"Ethash\",\"DPoS\",\"SHA-256\",\"Leased POS\",\"PoS\",\"TRC10\",\"PoS\",\"SHA-256\",\"Scrypt\",\"CryptoNight\",\"Equihash\",\"Scrypt\"],\"Class\":{\"__ndarray__\":\"AAAAAAAAAAACAAAAAAAAAAAAAAAAAAAAAAAAAAAAAAAAAAAAAAAAAAAAAAAAAAAAAAAAAAAAAAAAAAAAAAAAAAAAAAAAAAAAAAAAAAAAAAAAAAAAAgAAAAAAAAAAAAAAAAAAAAAAAAAAAAAAAAAAAAAAAAAAAAAAAAAAAAAAAAAAAAAAAAAAAAAAAAAAAAAAAAAAAAAAAAAAAAAAAAAAAAAAAAAAAAAAAAAAAAAAAAAAAAAAAAAAAAAAAAAAAAAAAAAAAAAAAAAAAAAAAAAAAAAAAAAAAAAAAAAAAAAAAAAAAAAAAAAAAAAAAAAAAAAAAAAAAAAAAAAAAAAAAAAAAAAAAAAAAAAAAAAAAAAAAAAAAAAAAAAAAAAAAAAAAAAAAAAAAAAAAAAAAAAAAAAAAAAAAAAAAAAAAAAAAAAAAAAAAAAAAAAAAAAAAAAAAAAAAAAAAAAAAAAAAAAAAAAAAAAAAAAAAAAAAAAAAAAAAAAAAAAAAAAAAAAAAAAAAAAAAAAAAAAAAAACAAAAAAAAAAAAAAAAAAAAAAAAAAAAAAAAAAAAAAAAAAAAAAAAAAAAAAAAAAAAAAAAAAAAAAAAAAAAAAAAAAAAAAAAAAAAAAAAAAAAAAAAAAAAAAAAAAAAAAAAAAAAAAAAAAAAAAAAAAAAAAAAAAAAAAAAAAAAAAAAAAAAAAAAAAAAAAAAAAAAAAAAAAAAAAAAAAAAAAAAAAAAAAAAAAAAAAAAAAAAAAAAAAAAAAAAAAAAAAAAAAAAAAAAAAAAAAAAAAAAAAAAAAAAAAAAAAAAAAAAAAAAAAAAAAAAAAAAAAAAAAAAAAAAAAAAAAAAAAAAAAAAAAAAAAAAAAAAAAAAAAAAAAAAAAAAAAAAAAAAAAAAAAAAAAAAAAAAAAAAAAAAAAAAAAAAAAAAAAAAAAAAAAAAAAAAAAAAAAAAAAAAAAAAAAAAAAAAAAAAAAAAAAAAAAAAAAAAAAAAAAAAAAAAAAAAAAAAAAAAAAAAAAAAAAAAAAAAAAAAAAAAAAAAAAAAAAAAAAAAAAAAAAAAAAAAAAAAAAAAAAAAAAAAAAAAAAAAAAAAAAAAAAAAAAAAAAAAAAAAAAAAAAAAAAAAAAAAAAAAAAAAAAAAAAAAAAAAAAAAAAAAAAAAAAAAAAAAAAAAAAAAAAAAAAAAAAAAAAAAAAAAAAAAAAAAAAAAAAAAAAAAAAAAAAAAAAAAAAAAAAAAAAAAAAAAAAAAAAAAAAAAAAAAAAAAAAAAAAAAAAAAAAAAAAAAAAAAAAAAAAAAAAAAAAAAAAAAAAAAAAAAAAAAAAAAAAAAAAAAAAAAAAAAAAAAAAAAAAAAAAAAAAAAAAAAAAAAAAAAAAAAAAAAAAAAAAAAAAAAAAAAAAAAAAAAAAAAAAAAAAAAAAAAAAAAAAAAAAAAAAAAAAAAAAAAAAAAAAAAAAAAAAAAAAAAAAAAAAAAAAAAAAAAAAAAAAAAAAAAAAAAAAAAAAAAAAAAAAAAAAAAAAAAAAAAAAAAAAAAAAAAAAAAAAAAAAAAAAAAAAAAAAAAAAAAAAAAAAAAAAAAAgAAAAAAAAAAAAAAAAAAAAAAAAAAAAAAAAAAAAAAAAAAAAAAAAAAAAAAAAAAAAAAAAAAAAAAAAAAAAAAAAAAAAAAAAAAAAAAAAAAAAAAAAAAAAAAAAAAAAAAAAAAAAAAAAAAAAAAAAAAAAAAAAAAAAAAAAAAAAAAAAAAAAAAAAAAAAAAAAAAAAAAAAAAAAAAAAAAAAAAAAAAAAAAAAAAAAAAAAAAAAAAAAAAAAAAAAAAAAAAAAAAAAAAAAAAAAAAAAAAAAAAAAAAAAAAAAAAAAAAAAAAAAAAAAAAAAAAAAAAAAAAAAAAAAAAAAAAAAAAAAAAAAAAAAAAAAAAAAAAAAAAAAAAAAAAAAAAAAAAAAAAAAAAAAAAAAAAAAAAAAAAAAAAAAAAAAAAAAAAAAAAAAEAAAAAAAAAAAAAAAAAAAAAAAAAAAAAAAAAAAAAAAAAAAAAAAAAAAAAAAAAAAAAAAAAAAAAAAAAAAAAAAAAAAAAAAAAAAAAAAAAAAAAAAAAAAAAAAAAAAAAAAAAAAAAAAAAAAAAAAAAAAAAAAAAAAAAAAAAAAAAAAAAAAAAAAAAAAAAAAAAAAAAAAAAAAAAAAAAAAAAAAAAAAAAAAAAAAAAAAAAAAAAAAAAAAAAAAAAAAAAAAAAAAAAAAAAAgAAAAAAAAAAAAAAAAAAAAAAAAAAAAAAAAAAAAAAAAAAAAAAAAAAAAAAAAAAAAAAAAAAAAAAAAAAAAAAAAAAAAAAAAAAAAAAAAAAAAAAAAAAAAAAAAAAAAAAAAAAAAAAAAAAAAAAAAACAAAAAAAAAAAAAAAAAAAAAAAAAAAAAAAAAAAAAAAAAAAAAAAAAAAAAAAAAAAAAAAAAAAAAAAAAAAAAAAAAAAAAAAAAAAAAAAAAAAAAAAAAAAAAAAAAAAAAAAAAAAAAAAAAAAAAAAAAAAAAAAAAAAAAAAAAAAAAAAAAAAAAAAAAAAAAAAAAAAAAAAAAAAAAAAAAAAAAAAAAAAAAAAAAAAAAAAAAAAAAAAAAAAAAAAAAAAAAAAAAAAAAAAAAAAAAAAAAAAAAAAAAAAAAAAAAAAAAAAAAAAAAAAAAAAAAAAAAAAAAAAAAAAAAAAAAAAAAAAAAAAAAAAAAAAAAAAAAAAAAAAAAAAAAAAAAAAAAAAAAAAAAAAAAAAAAAAAAAAAAAAAAAAAAAAAAAAAAAAAAAAAAAAAAAAAAAAAAAAAAAAAAAAAAAAAAAAAAwAAAAAAAAAAAAAAAAAAAAAAAAAAAAAAAAAAAA==\",\"dtype\":\"int32\",\"order\":\"little\",\"shape\":[532]},\"CoinName\":[\"42 Coin\",\"404Coin\",\"EliteCoin\",\"Bitcoin\",\"Ethereum\",\"Litecoin\",\"Dash\",\"Monero\",\"Ethereum Classic\",\"ZCash\",\"Bitshares\",\"DigiByte\",\"BitcoinDark\",\"PayCoin\",\"ProsperCoin\",\"KoboCoin\",\"Spreadcoin\",\"Argentum\",\"Aurora Coin\",\"BlueCoin\",\"MyriadCoin\",\"MoonCoin\",\"ZetaCoin\",\"SexCoin\",\"Quatloo\",\"EnergyCoin\",\"QuarkCoin\",\"Riecoin\",\"Digitalcoin \",\"BitBar\",\"Catcoin\",\"CryptoBullion\",\"CannaCoin\",\"CryptCoin\",\"CasinoCoin\",\"Diamond\",\"Verge\",\"DevCoin\",\"EarthCoin\",\"E-Gulden\",\"Einsteinium\",\"Emerald\",\"Exclusive Coin\",\"FlutterCoin\",\"Franko\",\"FeatherCoin\",\"GrandCoin\",\"GlobalCoin\",\"GoldCoin\",\"HoboNickels\",\"HyperStake\",\"Infinite Coin\",\"IOCoin\",\"IXcoin\",\"KrugerCoin\",\"LuckyCoin\",\"Litebar \",\"MaxCoin\",\"MegaCoin\",\"MediterraneanCoin\",\"MintCoin\",\"MinCoin\",\"MazaCoin\",\"Nautilus Coin\",\"NavCoin\",\"NobleCoin\",\"Namecoin\",\"NyanCoin\",\"OpalCoin\",\"Orbitcoin\",\"PotCoin\",\"PhoenixCoin\",\"Reddcoin\",\"RonPaulCoin\",\"StableCoin\",\"SmartCoin\",\"SuperCoin\",\"SyncCoin\",\"SysCoin\",\"TeslaCoin\",\"TigerCoin\",\"TittieCoin\",\"TorCoin\",\"TerraCoin\",\"UnbreakableCoin\",\"Unobtanium\",\"UroCoin\",\"UnitaryStatus Dollar\",\"UltraCoin\",\"ViaCoin\",\"VeriCoin\",\"Vertcoin\",\"WorldCoin\",\"X11 Coin\",\"Crypti\",\"JouleCoin\",\"StealthCoin\",\"ZCC Coin\",\"ByteCoin\",\"DigitalNote \",\"BurstCoin\",\"StorjCoin\",\"MonaCoin\",\"Neutron\",\"FairCoin\",\"Gulden\",\"RubyCoin\",\"PesetaCoin\",\"Kore\",\"Wild Beast Coin\",\"Dnotes\",\"Flo\",\"8BIT Coin\",\"Sativa Coin\",\"ArtByte\",\"Folding Coin\",\"Ucoin\",\"Unitus\",\"CypherPunkCoin\",\"OmniCron\",\"Vtorrent\",\"GreenCoin\",\"Cryptonite\",\"MasterCoin\",\"SoonCoin\",\"1Credit\",\"IslaCoin\",\"Nexus\",\"MarsCoin \",\"Crypto\",\"Anarchists Prime\",\"Droidz\",\"BowsCoin\",\"Squall Coin\",\"Song Coin\",\"BitZeny\",\"Diggits\",\"Expanse\",\"Paycon\",\"Siacoin\",\"Emercoin\",\"EverGreenCoin\",\"MindCoin\",\"I0coin\",\"Decred\",\"Revolution VR\",\"HOdlcoin\",\"EDRCoin\",\"Hitcoin\",\"Gamecredits\",\"DubaiCoin\",\"CarpeDiemCoin\",\"PWR Coin\",\"BillaryCoin\",\"GPU Coin\",\"Adzcoin\",\"SoilCoin\",\"YoCoin\",\"SibCoin\",\"EuropeCoin\",\"ZeitCoin\",\"SwingCoin\",\"SafeExchangeCoin\",\"Nebuchadnezzar\",\"Francs\",\"BolivarCoin\",\"Ratecoin\",\"Revenu\",\"Clockcoin\",\"VIP Tokens\",\"BitSend\",\"Omni\",\"Let it Ride\",\"PutinCoin\",\"iBankCoin\",\"Frankywillcoin\",\"MudraCoin\",\"PizzaCoin\",\"Lutetium Coin\",\"Komodo\",\"GoldBlocks\",\"CarterCoin\",\"Karbo\",\"BitTokens\",\"ZayedCoin\",\"MustangCoin\",\"ZoneCoin\",\"Circuits of Value\",\"RootCoin\",\"DopeCoin\",\"BitCurrency\",\"DollarCoin\",\"Swiscoin\",\"Shilling\",\"BuzzCoin\",\"Opair\",\"PesoBit\",\"Halloween Coin\",\"ZCoin\",\"CoffeeCoin\",\"RoyalCoin\",\"GanjaCoin V2\",\"TeamUP\",\"LanaCoin\",\"Elementrem\",\"ZClassic\",\"ARK\",\"InsaneCoin\",\"KiloCoin\",\"ArtexCoin\",\"EmberCoin\",\"XenixCoin\",\"FreeCoin\",\"PLNCoin\",\"AquariusCoin\",\"Kurrent\",\"Creatio\",\"Eternity\",\"Eurocoin\",\"BitcoinFast\",\"Stakenet\",\"BitConnect Coin\",\"MoneyCoin\",\"Enigma\",\"Cannabis Industry Coin\",\"Russiacoin\",\"PandaCoin\",\"GameUnits\",\"GAKHcoin\",\"Allsafe\",\"LiteCreed\",\"OsmiumCoin\",\"Bikercoins\",\"HexxCoin\",\"Klingon Empire Darsek\",\"Internet of People\",\"KushCoin\",\"Printerium\",\"PacCoin\",\"Impeach\",\"Citadel\",\"Zilbercoin\",\"FirstCoin\",\"BeaverCoin\",\"FindCoin\",\"VaultCoin\",\"Zero\",\"OpenChat\",\"Canada eCoin\",\"Zoin\",\"RenosCoin\",\"DubaiCoin\",\"VirtacoinPlus\",\"TajCoin\",\"Impact\",\"EB3coin\",\"Atmos\",\"HappyCoin\",\"Coinonat\",\"MacronCoin\",\"Condensate\",\"Independent Money System\",\"ArgusCoin\",\"LomoCoin\",\"ProCurrency\",\"GoldReserve\",\"BenjiRolls\",\"GrowthCoin\",\"ILCoin\",\"Phreak\",\"Degas Coin\",\"HTML5 Coin\",\"Ultimate Secure Cash\",\"EquiTrader\",\"QTUM\",\"Quantum Resistant Ledger\",\"Espers\",\"Dynamic\",\"Nano\",\"ChanCoin\",\"Dinastycoin\",\"Denarius\",\"DigitalPrice\",\"Virta Unique Coin\",\"Bitcoin Planet\",\"Unify\",\"BritCoin\",\"SocialCoin\",\"ArcticCoin\",\"DAS\",\"Linda\",\"LeviarCoin\",\"DeepOnion\",\"Bitcore\",\"gCn Coin\",\"SmartCash\",\"Signatum\",\"Onix\",\"Cream\",\"Bitcoin Cash\",\"Monoeci\",\"Draftcoin\",\"Vechain\",\"Sojourn Coin\",\"Stakecoin\",\"NewYorkCoin\",\"FrazCoin\",\"Kronecoin\",\"AdCoin\",\"Linx\",\"CoinonatX\",\"Ethereum Dark\",\"Sumokoin\",\"Obsidian\",\"Cardano\",\"Regalcoin\",\"BitcoinZ\",\"TrezarCoin\",\"Elements\",\"TerraNovaCoin\",\"VIVO Coin\",\"Rupee\",\"Bitcoin Gold\",\"WomenCoin\",\"Theresa May Coin\",\"NamoCoin\",\"LUXCoin\",\"Pirl\",\"Xios\",\"Bitcloud 2.0\",\"eBoost\",\"KekCoin\",\"BlackholeCoin\",\"Infinity Economics\",\"Pura\",\"Innova\",\"Ellaism\",\"GoByte\",\"Magnet\",\"Lamden Tau\",\"Electra\",\"Bitcoin Diamond\",\"SHIELD\",\"Cash & Back Coin\",\"UltraNote\",\"BitCoal\",\"DaxxCoin\",\"Bulwark\",\"Kalkulus\",\"AC3\",\"Lethean\",\"GermanCoin\",\"LiteCoin Ultra\",\"PopularCoin\",\"PhantomX\",\"Photon\",\"Sucre\",\"SparksPay\",\"Digiwage\",\"GunCoin\",\"IrishCoin\",\"Trollcoin\",\"Litecoin Plus\",\"Monkey Project\",\"Pioneer Coin\",\"UnitedBitcoin\",\"Interzone\",\"TokenPay\",\"1717 Masonic Commemorative Token\",\"My Big Coin\",\"TurtleCoin\",\"MUNcoin\",\"Unified Society USDEX\",\"Niobio Cash\",\"ShareChain\",\"Travelflex\",\"KREDS\",\"Tokyo Coin\",\"BiblePay\",\"LitecoinCash\",\"BitFlip\",\"LottoCoin\",\"Crypto Improvement Fund\",\"Stipend\",\"Poa Network\",\"Pushi\",\"Ellerium\",\"Velox\",\"Ontology\",\"Callisto Network\",\"BitTube\",\"Poseidon\",\"Aidos Kuneen\",\"Bitspace\",\"Briacoin\",\"Ignition\",\"Bitrolium\",\"MedicCoin\",\"Alpenschillling\",\"Bitcoin Green\",\"Deviant Coin\",\"Abjcoin\",\"Semux\",\"FuturoCoin\",\"Carebit\",\"Zealium\",\"Monero Classic\",\"Proton\",\"iDealCash\",\"Jumpcoin\",\"Infinex\",\"Bitcoin Incognito\",\"KEYCO\",\"HollyWoodCoin\",\"GINcoin\",\"PlatinCoin\",\"Loki\",\"Newton Coin\",\"Swisscoin\",\"Xt3ch\",\"MassGrid\",\"TheVig\",\"PluraCoin\",\"EmaratCoin\",\"Dekado\",\"Lynx\",\"Poseidon Quark\",\"BitcoinWSpectrum\",\"Muse\",\"Motion\",\"PlusOneCoin\",\"Axe\",\"Trivechain\",\"Dystem\",\"Giant\",\"Peony Coin\",\"Absolute Coin\",\"Vitae\",\"HexCoin\",\"TPCash\",\"Webchain\",\"Ryo\",\"Urals Coin\",\"Qwertycoin\",\"ARENON\",\"EUNO\",\"MMOCoin\",\"Ketan\",\"Project Pai\",\"XDNA\",\"PAXEX\",\"Azart\",\"ThunderStake\",\"Kcash\",\"Xchange\",\"Acute Angle Cloud\",\"CrypticCoin\",\"Bettex coin\",\"Actinium\",\"Bitcoin SV\",\"BitMoney\",\"Junson Ming Chan Coin\",\"FREDEnergy\",\"HerbCoin\",\"Universal Molecule\",\"Lithium\",\"PirateCash\",\"Exosis\",\"Block-Logic\",\"Oduwa\",\"Beam\",\"Galilel\",\"Bithereum\",\"Crypto Sports\",\"Credit\",\"SLICE\",\"Dash Platinum\",\"Nasdacoin\",\"Beetle Coin\",\"Titan Coin\",\"Award\",\"BLAST\",\"Bitcoin Rhodium\",\"GlobalToken\",\"Insane Coin\",\"ALAX\",\"LiteDoge\",\"SolarCoin\",\"TruckCoin\",\"UFO Coin\",\"OrangeCoin\",\"BlakeCoin\",\"BitstarCoin\",\"NeosCoin\",\"HyperCoin\",\"PinkCoin\",\"Crypto Escudo\",\"AudioCoin\",\"IncaKoin\",\"Piggy Coin\",\"Crown Coin\",\"Genstake\",\"SmileyCoin\",\"XiaoMiCoin\",\"Groestlcoin\",\"CapriCoin\",\" ClubCoin\",\"Radium\",\"Bata\",\"Pakcoin\",\"Creditbit \",\"OKCash\",\"Lisk\",\"HiCoin\",\"WhiteCoin\",\"FriendshipCoin\",\"JoinCoin\",\"Triangles Coin\",\"Vollar\",\"EOS\",\"Reality Clash\",\"Oxycoin\",\"TigerCash\",\"Waves\",\"Particl\",\"BitTorrent\",\"Nxt\",\"ZEPHYR\",\"Gapcoin\",\"Beldex\",\"Horizen\",\"BitcoinPlus\"],\"PC_1\":{\"__ndarray__\":\"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\",\"dtype\":\"float64\",\"order\":\"little\",\"shape\":[532]},\"PC_2\":{\"__ndarray__\":\"V+5PjSFmwMEuYXTEcdnRwSJgh/5Vjj5CRz8k1GyMwMGyAEgEiS3DwY11hKUIxsDBiA4N2dZNwMHvn2a5xNfAwSaak7mhMcDBNq/BOsRGwMFq3uPBy7zQwfeJ/jqWXZJB71wpkLAawMHNVWCxrIXAwYVExk8ZPMDBZJB/aWyut8H6ENCDd2PAwRFmLDYQhb/BOvz8U/KdwMGkv9fT/mXQweqxqlgKJ87BkUbAPN9LRkLb0BftmELCwWR1MTnX/7/B2epSIz4yvsFVk7TUIZPDwVp32lpFasPBd7mQwOhswMEAHWAgQovAwRWxFhCBZMDBDJK2Y7BFwMGf1sn4LWnAwf1Uud8PU8DBAve4pXNCwMEIbJOa6UUMwkK0ei8/a8DBPB8p6z+W9sFFvjkTunr3wYfdBkWrV/HBOIQYTSKgwMG0ZEXCBZTBwRh/SgzRbMDBJSAsP6eLwMEazt4kKVHMwXFPeWnNQsDBwdUmunHGwMF3gLfbtQnCwdF+vqvbDMHB5K02RqRlwMFXVGT06+nAwcqjOwmM293B1UlmYBpeH8LcOuepyIbAwciAHtBQocDBU8lHiMJZwMFxCf4NfJnAwdaReFtGaMDBw0yDsHJ+wMG/40kB5sHAwe+NqdAB7LzBRDGIVlGvEcK97RBiUGbAwcBY6nWp+8XBE+fWzUaTwMGe8XtvuhrCwcmXL0qtRPJBvkoseVh3wMHTVUh2TAPEwbO7/4RCysDBZv0TRgVtwMGWRltK28S/wR1mtc+/2MDB4rLKRGInGMKkUFEgSR3AwSq3XB8fmLrBFBSfJNNLwMExOHEsILXBwTf6H4kiZsDBlFTzKfyywcEmxnC6vvrAwYcDipJY0sDBvQEwPKT6x8ESPcSybUnAwXHPwyBfXcDBgy7ZEMaHvsHQHGgTgWbAwTbCal4bbsDBq7QZvFroxMEwi1vsYjTAwY0aVHxNp8DB3zyWyqw5wcHyIgQ/pXfAwT9FC7nQDr/BsW/f1g9/wMEMm6gtxfrCwUlnc2NYvcDBNzEn18JAwcFyvEkchz6lwcawzFJ7gi/Cfz2NR/rH1sGxGGdaUwHPwevyH5U4iLTBz+dBrn6XwMGh6xR9FWXAwcCwut+MxcHBpKvYa4SGkMH5thXtuBnBwf13DuWqd8HBbVx+rrJFwMH6BEjJTV3AwZBZ0pWk57rBgReHeoDxwcEfywX902/AwTT3UYbabsDB8jhTQMPxxcF05RGYsw7EwXmmFcmTK8DBrcHkhEsUwsF87Ie5LpDAwf+fZiJBnMDBfW3aAXlmwMFV2aWM6GO7QS9rzq8fBK3BMEn5AtxnwMFeljT5UmjAwU25pJ8nLCVCI5i1jSFwwMERm99xA+HAwQpgvbsQvcDB3/UKL7eLv8GFPK84zPS/wWERJMZsi8DBqIqiPMt+wMGfYfBGTmjAwaz63Z7pNbzBLFFx7z8/vcE48Cn0Jn3BweUlSvLyasDBXsRz54w/wMG9w27WUzQbwo4ToZpc05TBkyA9RClbwMH679Z45pHAweDdeW+1oMDBVe8ue3dawMH7BiZUE7DCwbiLiVT48b7BMdMPHGsqwMHOzOH33ebnQZsAN73v8sDBjmAiAfJfwMEYwlFMZOH/wTPoY94NRAHCMlyG80wBwME5sMU97Eu8wTm9SZqWT8DBBrlFxFAZwMEGIwXewM+7wa/dRVOXfMDBgJiktfHitcFUHOvp05QPQkvIdgbN1L/BhwqzcQjn08GH34lo753AwbtRnXc3RcDBds3ZP+5gwMFlmv8W18DCwRk9pvMjOLrBgjsIOm8BssFm8bgX+zXBwdFfIuyX6b3B7/Lo2NlnwMGSr8BzOuXAwduISheCRa7BzOhgALO1v8FE8Cn0Jn3BwQpS44LaF7vBlpR2WdQPwME5MIHjTI/HwUcKyDqQaMDBPKbNmSQOwMFbYrDK1yvAwXpLDK+lc8DB75MCv+wZwMGCAqPSOWrAwUoc9ekGX8DBet/3dAwnwMHhVPVjG1HIwasNTVXycsDBFAmk/tFuwMFchArnkMbEwXnZfyCyecDBVe1HkOlKuUGRycRzGj3AwRXi/Eei7/vBsSwPetQ0wcFa68jFmEPBwQGRx0LBzXvBOdE/tnZGwMHQKKc/96PDwd2Lq1gbbcDBPfAp9CZ9wcF0GosGW764wQsbXH075OBBZGJW/T+vwMGUzmqTEzvAwUWi3Q/vU8HBLeZnStNswMG6UWKotubvQdvD0FO1Nc7B3CKYwsCdMsLlqXHu4XDAwbfl5Tyk8cDBgoNmufRDwMHbvG6GEay/wYux9jXiKr3Bh9+JaO+dwMF936LVg1K/wTjt1wHWa8DBN19h3O9twMFzDNeikjXBwdosD0N7RMDBfYGUOc3sq8HDH7acbljAwbC5aQJ0HMDBPSeDm+XvvMG3pt/ro0QJwhuJnOh2S8DBEFSj+GFvwMHQZB1uX3LAwRw/Vlz6AMDB+1Cv1K1hwMGoo+QDi0TAwcLFpBtdTMDBEKReBrsgs8Hlrl3urSbAwba7bxPSZ8DB40gGBOhnwMHE6mWtwdEmQlUUQSB3FMDB/+eQ1jXZu8EI62UPGU+/wVLyneUNmcHBfMdgouNtwMGaFneKqI7AweQHhEyDNZLBrCJxqPtSwMGNqvLWV0zLwZZSxB4efMHBRTd+/4KQwMEnXyWX6tDAwUiAcnhcbMDBTBhpPfF+vsHYU/W1zinAwRYfLAg4ncHBwMP675LJ1EHjRvSFc5/BwZPYX+Nh7b7B5btVqb3hv8F+b6Usm8vEwTG6NeueK7jBEKZxpKY4wMFnoLEPkwDAwTtkbk8OFIjBJDwesRwsIUKsIIWz7D7AwQIUqdKHZMDBTD++T8wxp0HsFFFSeUa6wf0EPtLkPsDBhX0cnhLFvsGtsYy1ij8BQqAKK+7OXbvBrh9YSmVbv8Ez8Cn0Jn3Bwc0KctKCncDB3uXMl5aQ8UHCGHxT1ejAwRsKXGOvh73B1D/DSEBtwMGomPAC6aPQwQRfr+SGW8DBtfDEO0+hv8H+WCBkAjzAwd6HmyruKr7BuXhfuVyUwMG9tiOhJoDAwXjhMpEd1L7BwVU8yTQtwMERY/g7VS/AwSMbjI2I+A5CNAIUMzvrv8FrT0nyza7AwVyubOaYi8DBKVxsHGBrI8LZXM8VRnJjQZhI8nO3IsHBQjRsoqJLmcFGd4eSNCHAwbM3tojgjMDBclZOEOOUwMHNWr4FAZ/AwYszxxhaW/PBtJJX7pGD8UGTMF+49Sq/wYN9b7y49TzC72/6gepZwMHhycOVwTG/wVlzC0lhgL/B3lSE1oOOv8HsQ6ArFC/AwfDw4Y7ZccDBxCTTPAqcvsHK0IhtEV2/wQxpo0XUVL3BMbFvhRIvwMGhtwEHA0X0QSmiLbp6TL7BMzAA6JCo3cF+aYg3oDHAwSPy0bedGsDBD3rrlRipwMGELzT/oofAwflyTmg/8hvCQP7f+aJIwcF/8XiuB/S5wSJpSwkQcL/BO+kdylXkvcHW9aNdMSTAwdIp1yOTa7zB06w+CxZ9wcG0/JkLdGfAwaSeMCrLmcDB9jBJl4Kf7MEVkwhoBmi/wZFiXmIKyb/BWQBzdL8bucEzTLiRThPAwQXpz2Xpeb7BQwlOs0dhwMFAi5p1CuECwt3OmRo7AcLB70fX/PP9wsHIv9n44yHAwV0e8X/PiBdCtnL3TihUwME0j6Btnc7tQWdf9pXgU8DB6l/74tKJwMG5CUH8qYu0wau6saoAxrnB4hh7z5zREkKkhbfFpsK8wWb3BTImFdbB/NM8scLRwMGc7HJ/zyURQlMom1+CNsDBJh3vktVJwMFwc8ZWFaG+wazJqaifrsDBbdJ30F+ewMHC0zDIGDzCwerMg25pZ8DB39PIcBszwMFrt5RUXkbAwZacMPtlnsDBixWunhVdwMFn3yPBzI3AwY9bFkalasDBP5MxxL0xwMGxlgnym2daQqDVVjudRsDBKykwg0MAw8Ha/+3TaLG9wVl8siwQWe/BD28ltoutwcHkyo88gJ3AwcMLJmBD1bTB8theRMDFvkH9FMOT8VnEwRokriG1H8DBxXifrsb97MHnntRh6cu8weh0WY+nZsDB00gKVJDpwcHHFzlGDBXAwZz+hSncB7/Bm6nSP7NrvsEb2p1EtknCwd5m5vXNhuJBuOYrskl2nMGbiCtt4TDAwaHgQ+Hiq8DBi3f/7mgCwMEqJm3eRGDAwS2rqxzcWsDBtbp2jmYywcGAblIB1K+/wWDGZTXMQ7nBJ7abGMJWwMHnpQUtqk2/wV4fgYXrNMDB4ZKd6krhvcEMvMQuNnW/wQHIrckRBsHB6IO0CAL8vsGcijgXuonAwV2PHvr9rr/BosqQc763x0Giecz7LqHAwcWgBuGEI8DBkLltmwhewMFtm8LZsSbAwVsHIWWfAsHBR7x1SDdswMFtmGf16NOtwZrgCAR7UL3BjPdhJk3zKUK3hvbjkuTvwVTYeGVA4b/BgrfWtZJmwcGDranbMYi/wcDELTwy5L/BCkrF7odov8Hg9Y3rfK2/wVGohm1XdBTCE3OWojseq8FXNIk3b2XAwZQXN5VUmcDBgOUcmZFHwMGqUG8pG0/AwbitgyH6NsDB6qArBwwfwMGo4k28x0TAwXN8zoyUecDBnfqRqYNm/UEJW4BUueu/wSVMyQfknMDB5AV93iEbwME//s0mZhqKwVQoDTaDkrJBIXaXeMtrvsF9BG7ETUy7wb4aN0G4jPRBkDyN/4oTwMHiLr6pm3LAwe3no3a1m77BD/mcErQEu8EKx2XLyaTTwUJd9/iNILbBbMtJaosMvsFFKwEC3SfAwe9O17lUEvxBg6ry1ldMy8FYMoFn5lG+wYOq8tZXTMvB7t1Dwu/LuMFQM/gIU6i/wT4oqkJM/77BqtBeVduMwMGwnErQp+0fQnkol1xayAzCUH6xLQ7v20HbA4DmV4HAwRYckjLNvr3B1Frw/opuwMG8ihAc61y+wWEGSIisGMDBdmU7g5YKv8HxuBIRnnfAwWMb5UYCzrrBAvK95yaWwMGEy36da5bAwUWeptfjP8DBLdfy6VbyAkL/jMu7z3u+wf7B8huuH8DBsROC055av8F9tbG5myi8wZo0h3aHgNFBEPsdFmoStcHyQ4F3XsvAwYXRSy/ZZcDBlA9A/v8TwMGkZi4HuJDAwZGq8tZXTMvBwIP4yGaB60Fuq3FsKJImQvHH1rerqMbBFydd1mO828EwLuF1hgS7wYzP3hU11uVBXbLkNQQfwMHq+SMVAjPAwRw82ijCpcDB8OV5msM0xMGaHaMjVKDFwQtEQlYqtOxBCurn1l7IDcJV58dSMn68wZsvWki2XcDBRRsGlUW5wcHHYC7VRkDRwe/DKW673sTBWZJKMKu5wMEvY3w/qH7CwQBeUN4bsMDBZyEcrAddwMFWAsrgbXTAwSXdSN3l977BpO/zW82WwMGQ6UZ6xcLAwbJif2azHMHB74B5pglR78F2UmPfH27CwRuvWhzXD7/B0XQX2HZxwMFASp5gmmbAwdbPdhNrprhBUf733R9e1cHH6hQfdarAwbGjK72DrtbBZKry1ldMy8E58Cn0Jn3BwdfFkXKCgsDBx+TezzAbVcJhqvLWV0zLwbGUHRNHGdPBrx6PyHMdusHmhZYxXdLEwSds5ecxRsDBw6ZunCljwME=\",\"dtype\":\"float64\",\"order\":\"little\",\"shape\":[532]},\"PC_3\":{\"__ndarray__\":\"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\",\"dtype\":\"float64\",\"order\":\"little\",\"shape\":[532]},\"ProofType\":[\"PoW/PoS\",\"PoW/PoS\",\"PoW/PoS\",\"PoW\",\"PoW\",\"PoW\",\"PoW/PoS\",\"PoW\",\"PoW\",\"PoW\",\"PoS\",\"PoW\",\"PoW/PoS\",\"PoS\",\"PoW\",\"PoW/PoS\",\"PoW\",\"PoW\",\"PoW/PoS\",\"PoW/PoS\",\"PoW\",\"PoW\",\"PoW\",\"PoW\",\"PoW\",\"PoW/PoS\",\"PoW\",\"PoW\",\"PoW\",\"PoW/PoS\",\"PoW\",\"PoW/PoS\",\"PoW\",\"PoW\",\"PoC\",\"PoW/PoS\",\"PoW\",\"PoW\",\"PoW\",\"PoW\",\"PoW\",\"PoW\",\"PoS\",\"PoS/PoW/PoT\",\"PoW\",\"PoW\",\"PoW\",\"PoW\",\"PoW\",\"PoW/PoS\",\"PoS\",\"PoW\",\"PoW/PoS\",\"PoW\",\"PoW\",\"PoW\",\"PoW\",\"PoW/PoS\",\"PoW\",\"PoW\",\"PoS\",\"PoW\",\"PoW/PoS\",\"PoS\",\"PoW/PoS\",\"PoW\",\"PoW\",\"PoW\",\"PoW/PoS\",\"PoW/PoS\",\"PoW/PoS\",\"PoW/PoS\",\"PoW/PoS\",\"PoW\",\"PoW\",\"PoW\",\"PoS\",\"PoW/PoS\",\"PoW\",\"PoS\",\"PoW\",\"PoS\",\"PoW/PoS\",\"PoW\",\"PoW\",\"PoW\",\"PoW\",\"PoW/PoS\",\"PoW/PoS\",\"PoW\",\"PoST\",\"PoW\",\"PoW\",\"PoW/PoS\",\"PoS\",\"PoW\",\"PoW/PoS\",\"PoW/PoS\",\"PoW\",\"PoW\",\"PoC\",\"PoS\",\"PoW\",\"PoW/PoS\",\"PoW/PoS\",\"PoW\",\"PoS\",\"PoW\",\"PoW/PoS\",\"PoW\",\"PoS\",\"PoW\",\"PoW/PoS\",\"PoW/PoS\",\"PoW\",\"PoW\",\"PoS\",\"PoW\",\"PoW\",\"PoW\",\"PoW/PoS\",\"PoW\",\"PoW\",\"PoW\",\"PoW\",\"PoW\",\"PoW/PoS\",\"PoW/nPoS\",\"PoW\",\"PoW\",\"PoW\",\"PoW/PoS\",\"PoW\",\"PoS/PoW\",\"PoW\",\"PoW\",\"PoS\",\"PoW\",\"PoW/PoS\",\"PoW\",\"PoW/PoS\",\"PoW/PoS\",\"PoW\",\"PoW\",\"PoW/PoS\",\"PoW\",\"PoW\",\"PoW/PoS\",\"PoW/PoS\",\"PoW\",\"PoW/PoS\",\"PoW\",\"PoW/PoS\",\"PoW/PoS\",\"PoS\",\"PoW\",\"PoW\",\"PoW\",\"PoW\",\"PoW/PoS\",\"PoS\",\"PoW/PoS\",\"PoC\",\"PoS\",\"PoW\",\"PoW\",\"PoW/PoS\",\"PoW/PoS\",\"PoW/PoS\",\"PoW/PoS\",\"PoW/PoS\",\"PoW\",\"PoS\",\"PoW/PoS\",\"PoW/PoS\",\"PoW/PoS\",\"PoS\",\"PoW\",\"PoS\",\"dPoW/PoW\",\"PoW/PoS\",\"PoW/PoS\",\"PoW\",\"PoW/PoS\",\"PoW\",\"PoW/PoS\",\"PoW/PoS\",\"PoW\",\"PoW/PoS\",\"PoW\",\"PoS\",\"PoW\",\"PoW/PoW\",\"PoW\",\"PoW/PoS\",\"PoS\",\"PoW/PoS\",\"PoW/PoS\",\"PoW\",\"PoS\",\"PoS\",\"PoW/PoS\",\"PoS\",\"PoW/PoS\",\"PoW\",\"PoW\",\"DPoS\",\"PoW/PoS\",\"PoW\",\"PoW\",\"PoW/PoS\",\"PoW/PoS\",\"PoS\",\"PoW/PoS\",\"PoW/PoS\",\"PoW\",\"PoS\",\"PoW/PoS\",\"PoW/PoS\",\"PoW/PoS\",\"TPoS\",\"PoW/PoS\",\"PoW/PoS\",\"PoW/PoS\",\"PoW\",\"PoW/PoS\",\"PoS\",\"PoW/PoS\",\"PoW/PoS\",\"PoS\",\"PoW/PoS\",\"PoW\",\"PoW\",\"PoW\",\"PoW/PoS\",\"PoW/PoS\",\"PoW/PoS\",\"PoW/PoS\",\"PoW\",\"PoW/PoS\",\"PoW\",\"PoS\",\"PoW/PoS \",\"PoW\",\"PoS\",\"PoW\",\"PoW\",\"PoW/PoS\",\"PoW\",\"PoW\",\"PoS\",\"PoW\",\"PoW/PoS\",\"PoW/PoS\",\"PoW/PoS\",\"PoW\",\"PoS\",\"PoW/PoS\",\"PoW\",\"PoS\",\"PoW/PoS\",\"PoW/PoS\",\"PoW/PoS\",\"PoW/PoS\",\"PoS\",\"PoW/PoS\",\"PoW\",\"PoS\",\"PoW\",\"PoS\",\"PoW/PoS\",\"PoW/PoS\",\"PoS\",\"PoW\",\"PoS\",\"PoW\",\"PoW/PoS\",\"PoW\",\"PoW\",\"PoW\",\"PoW\",\"PoW/PoS\",\"PoW\",\"PoW/PoS\",\"PoW/PoS\",\"PoW\",\"PoW/PoS\",\"PoW\",\"PoW\",\"PoW\",\"PoW/PoS\",\"PoW\",\"PoW/PoS\",\"PoW\",\"PoW\",\"PoW\",\"PoS\",\"PoW\",\"PoW/PoS\",\"PoW\",\"PoW/PoS\",\"PoS\",\"Proof of Authority\",\"PoW\",\"PoS\",\"PoW\",\"PoW\",\"PoW\",\"PoW\",\"PoW\",\"PoW/PoS\",\"PoW/PoS\",\"PoW\",\"PoS\",\"PoS\",\"PoW/PoS\",\"PoW\",\"PoW/PoS\",\"PoW\",\"PoW/PoS\",\"PoW\",\"PoS\",\"PoW\",\"PoW/PoS\",\"PoW/PoS\",\"PoW/PoS\",\"PoW/PoS\",\"PoW\",\"PoW/PoS\",\"PoW/PoS\",\"PoW\",\"PoS\",\"PoW/PoS\",\"PoS\",\"PoW\",\"PoW\",\"PoW\",\"PoW\",\"PoW/PoS\",\"DPoS\",\"PoW/PoS\",\"PoW/PoS\",\"PoW\",\"PoW/PoS\",\"PoW\",\"PoW\",\"PoW\",\"PoS\",\"PoS\",\"PoW\",\"PoW\",\"PoW/PoS\",\"PoW/PoS\",\"PoW\",\"PoW/PoS\",\"PoW\",\"PoW\",\"PoW\",\"PoS\",\"PoW\",\"PoW\",\"PoW/PoS\",\"PoW/PoS\",\"PoS\",\"PoW\",\"PoW\",\"PoW\",\"PoS\",\"PoS\",\"PoW and PoS\",\"PoW\",\"PoW\",\"PoW/PoS\",\"PoW\",\"PoW\",\"PoW\",\"PoW\",\"PoS\",\"POBh\",\"PoW + Hive\",\"PoW\",\"PoW\",\"PoW\",\"PoW/PoS\",\"PoA\",\"PoW/PoS\",\"PoW/PoS\",\"PoS\",\"PoS\",\"PoW\",\"PoW\",\"PoW\",\"PoW\",\"PoW/PoS\",\"PoW/PoS\",\"PoW/PoS\",\"PoW\",\"PoS\",\"PoW\",\"PoS\",\"PoS\",\"PoW/PoS\",\"DPoS\",\"PoW\",\"PoW/PoS\",\"PoS\",\"PoW\",\"PoS\",\"PoW/PoS\",\"PoW\",\"PoW\",\"PoS/PoW\",\"PoW\",\"PoS\",\"PoW\",\"PoW\",\"PoW\",\"PoW\",\"PoW/PoS\",\"PoS\",\"PoW\",\"PoW/PoS\",\"PoW\",\"PoW/PoS\",\"PoS\",\"HPoW\",\"PoS\",\"PoS\",\"PoS\",\"PoW\",\"PoW\",\"PoW\",\"PoW/PoS\",\"PoS\",\"PoW/PoS\",\"PoS\",\"PoW/PoS\",\"PoS\",\"PoW\",\"PoW/PoS\",\"PoW\",\"PoW\",\"PoW\",\"PoW\",\"PoS\",\"PoW/PoS\",\"PoS\",\"PoS\",\"PoW\",\"PoW/PoS\",\"PoS\",\"PoW\",\"PoW/PoS\",\"Zero-Knowledge Proof\",\"PoW\",\"DPOS\",\"PoW\",\"PoS\",\"PoW\",\"PoW\",\"Pos\",\"PoS\",\"PoW\",\"PoW/PoS\",\"PoW\",\"PoW\",\"PoS\",\"PoW\",\"PoW\",\"PoW/PoS\",\"PoW\",\"PoW/PoS\",\"PoW\",\"PoS\",\"PoW/PoS\",\"PoW\",\"PoS\",\"PoW/PoS\",\"PoW/PoS\",\"PoW/PoS\",\"PoW/PoS\",\"PoW\",\"PoW\",\"PoW\",\"PoW/PoS\",\"DPoS\",\"PoW/PoS\",\"PoW\",\"PoW/PoS\",\"PoW\",\"PoW/PoS\",\"PoW\",\"PoW/PoS\",\"PoS\",\"PoW/PoS\",\"PoW/PoS\",\"PoW\",\"PoW/PoS\",\"PoW/PoS\",\"PoW/PoS\",\"PoW\",\"PoW/PoS\",\"PoW\",\"PoW/PoS\",\"PoW\",\"PoW/PoS\",\"PoW/PoS\",\"PoS\",\"PoW\",\"PoW\",\"Proof of Trust\",\"PoW/PoS\",\"DPoS\",\"PoS\",\"PoW/PoS\",\"PoW/PoS\",\"PoW\",\"PoW/PoS\",\"PoW\",\"DPoS\",\"PoW\",\"DPoS\",\"PoS\",\"LPoS\",\"PoS\",\"DPoS\",\"PoS/LPoS\",\"DPoS\",\"PoW/PoS\",\"PoW\",\"PoW\",\"PoS\"],\"TotalCoinSupply\":[\"42\",\"532000000\",\"314159265359\",\"21000000\",\"0\",\"84000000\",\"22000000\",\"0\",\"210000000\",\"21000000\",\"3600570502\",\"21000000000\",\"22000000\",\"12500000\",\"21000000\",\"350000000\",\"20000000\",\"64000000\",\"16768584\",\"0\",\"2000000000\",\"384000000000\",\"169795588\",\"250000000\",\"100000000\",\"0\",\"247000000\",\"84000000\",\"48166000\",\"500000\",\"21000000 \",\"1000000\",\"13140000\",\"18000000\",\"40000000000\",\"4380000\",\"16555000000\",\"21000000000\",\"13500000000\",\"21000000 \",\"299792458\",\"32000000\",\"0\",\"0\",\"11235813\",\"336000000\",\"1420609614\",\"70000000\",\"72245700\",\"120000000\",\"0\",\"90600000000\",\"22000000\",\"21000000\",\"265420800\",\"20000000\",\"1350000\",\"100000000\",\"42000000\",\"200000000\",\"0\",\"10000000\",\"2419200000\",\"16180000\",\"0\",\"15000000000\",\"21000000\",\"337000000\",\"0\",\"3770000\",\"420000000\",\"98000000\",\"0\",\"21000000\",\"250000000\",\"51200000\",\"0\",\"1000\",\"888000000\",\"100000000\",\"47011968\",\"2300000000\",\"10000000\",\"42000000\",\"80000000\",\"250000\",\"0\",\"1600000000\",\"100000000\",\"23000000\",\"0\",\"84000000\",\"265420800\",\"5500000\",\"0\",\"45000000\",\"0\",\"1000000000\",\"184467440735\",\"10000000000\",\"2158812800\",\"500000000\",\"105120000\",\"68000000\",\"0\",\"1680000000\",\"0\",\"166386000\",\"12000000\",\"2628000\",\"500000000\",\"160000000\",\"0\",\"10000000\",\"1000000000\",\"1000000000\",\"20000000\",\"0\",\"0\",\"3371337\",\"20000000\",\"10000000000\",\"1840000000\",\"619478\",\"21000000\",\"92000000000\",\"0\",\"78000000\",\"33000000\",\"65789100\",\"53760000\",\"5060000\",\"21000000\",\"0\",\"210240000\",\"250000000\",\"100000000\",\"16906397\",\"50000000\",\"0\",\"1000000000\",\"26298000\",\"16000000\",\"21000000\",\"21000000\",\"210000000\",\"81962100\",\"22000000\",\"26550000000\",\"84000000\",\"10500000\",\"21626280000 \",\"0\",\"42000000\",\"221052632\",\"84000000\",\"30000000\",\"168351300\",\"24000000\",\"384000000\",\" 99000000000\",\"40000000\",\"2147483647\",\"20000000\",\"20000000\",\"25000000\",\"75000000\",\"222725000\",\"525000000\",\"90000000\",\"139000000\",\"616448\",\"33500000\",\"2000000000\",\"44333333\",\"100000000\",\"200000000\",\"25000000\",\"657000000\",\"200000000\",\"50000000\",\"90000000\",\"10000000\",\"21000000\",\"9736000\",\"3000000\",\"21000000\",\"1200000000\",\"0\",\"200000000\",\"0\",\"10638298\",\"3100000000\",\"30000000\",\"20000000000\",\"74000000\",\"0\",\"1500000000\",\"21400000\",\"39999898\",\"2500124\",\"100000000\",\"301000000\",\"7506000000\",\"26205539\",\"21000000\",\"125000000\",\"30000000\",\"10000000000\",\"500000000\",\"850000000\",\"3853326.77707314\",\"50000000\",\"38540000 \",\"42000000\",\"228000000\",\"20000000\",\"60000000\",\"20000000\",\"33000000\",\"76500000\",\"28000000\",\"650659833\",\"5000000\",\"21000000\",\"144000000\",\"32514916898\",\"13000000\",\"3315789\",\"15000000\",\"78835200\",\"2714286\",\"25000000\",\"9999999\",\"500000000\",\"21000000\",\"9354000\",\"20000000\",\"100000000000\",\"21933333\",\"185000000\",\"55000000\",\"110000000\",\"3360000\",\"14524851.4827\",\"1000000000\",\"17000000\",\"1000000000\",\"100000000 \",\"21000000\",\"34426423\",\"2232901\",\"100000000\",\"36900000\",\"110000000\",\"4000000000\",\"110290030\",\"100000000\",\"48252000\",\"400000000\",\"500000000\",\"21212121\",\"28600000\",\"1000000000\",\"75000000000\",\"40000000\",\"35520400\",\"2000000000\",\"2500000000\",\"30000000\",\"105000000\",\"90000000000\",\"200084200\",\"72000000\",\"100000000\",\"105000000\",\"50000000000\",\"0\",\"340282367\",\"30000000\",\"2000000000\",\"10000000\",\"100000000\",\"120000000\",\"100000000\",\"19276800\",\"30000000\",\" 75000000\",\"60000000\",\"18900000\",\"50000000000\",\"54000000\",\"18898187.6216583\",\"21000000\",\"200000000000\",\"5000000000\",\"137500000\",\"1100000000\",\"100000000\",\"21000000\",\"9507271\",\"17405891.19707116\",\"86712634466\",\"10500000000\",\"61599965\",\"0\",\"20000000\",\"84000000\",\"100000000\",\"100000000\",\"48252000\",\"4200000\",\"88888888\",\"91388946\",\"45000000000\",\"27000000\",\"21000000000\",\"400000000\",\"1800000000\",\"15733333\",\"27000000\",\"24000000\",\"21000000\",\"25000000000\",\"100000000\",\"1200000000\",\"60000000\",\"156306732.71\",\"21000000\",\"200000000\",\"100000000\",\"21000000\",\"14788275.991\",\"9000000000\",\"350000000\",\"45000000\",\"280000000\",\"31800000\",\"144000000\",\"500000000\",\"30000000000\",\"210000000\",\"660000000\",\"210000000\",\"85000000000\",\"12500000\",\"10000000000\",\"27716121\",\"20000000\",\"550000000\",\"999481516\",\"50000000000\",\"150000000\",\"4999999999\",\"50000000\",\" 90000000000\",\"19800000\",\"21000000\",\"120000000\",\"500000000\",\"64000000\",\"900000000\",\"4000000\",\"21000000\",\"23000000\",\"20166000\",\"23000000\",\"25000000\",\"1618033\",\"30000000\",\"1000000000000\",\"16600000\",\"232000000\",\"336000000\",\"10000000000\",\"100000000\",\"1100000000\",\"800000000\",\"5200000000\",\"840000000\",\"40000000\",\"18406979840\",\"500000000\",\"19340594\",\"252460800\",\"25000000\",\"60000000\",\"124000000\",\"1000000000\",\"6500000000\",\"1000000000\",\"21000000\",\"25000000\",\"50000000\",\"3000000\",\"5000000\",\"70000000\",\"500000000\",\"300000000\",\"21000000\",\"88000000\",\"30000000\",\"100000000\",\"100000000\",\"200000000\",\"80000000\",\"18400000\",\"45000000\",\"5121951220\",\"21000000\",\"26280000\",\"21000000\",\"18000000\",\"26000000\",\"10500000\",\"600000518\",\"150000000\",\"184000000000\",\"10200000000\",\"44000000\",\"168000000\",\"100000000\",\"1000000000\",\"84000000\",\"90000000\",\"92000000000\",\"650000000 \",\"100262205\",\"18081806 \",\"22075700\",\"21000000\",\"21000000\",\"82546564\",\"21000000\",\"5151000\",\"16880000000\",\"52500000\",\"100000000\",\"22105263\",\"1000000000\",\"1750000000\",\"88188888\",\"210000000\",\"184470000000\",\"55000000\",\"50000000\",\"260000000\",\"210000000\",\"2100000000\",\"366000000\",\"100000000\",\"25000000\",\"18000000000\",\"1000000000\",\"100000000\",\"1000000000\",\"7600000000\",\"50000000\",\"84000000\",\"21000000\",\"70000000000\",\"0\",\"8080000000\",\"54000000\",\"105120001.44\",\"25228800\",\"105000000\",\"21000000\",\"120000000\",\"21000000\",\"262800000\",\"19035999\",\"30886000\",\"13370000\",\"74800000000\",\"100000000\",\"19700000\",\"84000000\",\"500000000\",\"5000000000\",\"420000000\",\"64000000\",\"2100000\",\"168000000\",\"30000000\",\"1000000000\",\"35000000000\",\"98100000000\",\"0\",\"4000000000\",\"200000000\",\"7000000000\",\"54256119\",\"21000000\",\"0\",\"500000000\",\"1000000000\",\"10500000000\",\"190000000\",\"1000000000\",\"42000000\",\"15000000\",\"50000000000\",\"400000000\",\"105000000\",\"208000000\",\"160000000\",\"9000000\",\"5000000\",\"182000000\",\"16504333\",\"105000000\",\"159918400\",\"10008835635\",\"300000000\",\"60168145\",\"2800000\",\"120000\",\"2100000000\",\"0\",\"24487944\",\"0\",\"1000000000\",\"100000000\",\"8634140\",\"990000000000\",\"1000000000\",\"2000000000\",\"250000000\",\"1400222610\",\"21000000\",\"1000000\"],\"TotalCoinsMined\":{\"__ndarray__\":\"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\",\"dtype\":\"float64\",\"order\":\"little\",\"shape\":[532]}},\"selected\":{\"id\":\"1105\"},\"selection_policy\":{\"id\":\"1154\"}},\"id\":\"1104\",\"type\":\"ColumnDataSource\"},{\"attributes\":{},\"id\":\"1137\",\"type\":\"NumberEditor\"},{\"attributes\":{\"margin\":[5,5,5,5],\"name\":\"HSpacer01710\",\"sizing_mode\":\"stretch_width\"},\"id\":\"1157\",\"type\":\"Spacer\"},{\"attributes\":{},\"id\":\"1117\",\"type\":\"NumberEditor\"},{\"attributes\":{},\"id\":\"1105\",\"type\":\"Selection\"},{\"attributes\":{\"editor\":{\"id\":\"1107\"},\"field\":\"Algorithm\",\"formatter\":{\"id\":\"1106\"},\"title\":\"Algorithm\"},\"id\":\"1108\",\"type\":\"TableColumn\"},{\"attributes\":{\"editor\":{\"id\":\"1112\"},\"field\":\"ProofType\",\"formatter\":{\"id\":\"1111\"},\"title\":\"ProofType\"},\"id\":\"1113\",\"type\":\"TableColumn\"},{\"attributes\":{\"editor\":{\"id\":\"1147\"},\"field\":\"Class\",\"formatter\":{\"id\":\"1146\"},\"title\":\"Class\"},\"id\":\"1148\",\"type\":\"TableColumn\"},{\"attributes\":{\"columns\":[{\"id\":\"1108\"},{\"id\":\"1113\"},{\"id\":\"1118\"},{\"id\":\"1123\"},{\"id\":\"1128\"},{\"id\":\"1133\"},{\"id\":\"1138\"},{\"id\":\"1143\"},{\"id\":\"1148\"}],\"height\":300,\"reorderable\":false,\"source\":{\"id\":\"1104\"},\"view\":{\"id\":\"1152\"},\"width\":700},\"id\":\"1151\",\"type\":\"DataTable\"},{\"attributes\":{},\"id\":\"1112\",\"type\":\"StringEditor\"},{\"attributes\":{},\"id\":\"1147\",\"type\":\"IntEditor\"},{\"attributes\":{},\"id\":\"1107\",\"type\":\"StringEditor\"},{\"attributes\":{},\"id\":\"1122\",\"type\":\"StringEditor\"},{\"attributes\":{},\"id\":\"1154\",\"type\":\"UnionRenderers\"},{\"attributes\":{\"editor\":{\"id\":\"1117\"},\"field\":\"TotalCoinsMined\",\"formatter\":{\"id\":\"1116\"},\"title\":\"TotalCoinsMined\"},\"id\":\"1118\",\"type\":\"TableColumn\"},{\"attributes\":{\"editor\":{\"id\":\"1132\"},\"field\":\"PC_2\",\"formatter\":{\"id\":\"1131\"},\"title\":\"PC 2\"},\"id\":\"1133\",\"type\":\"TableColumn\"}],\"root_ids\":[\"1102\"]},\"title\":\"Bokeh Application\",\"version\":\"2.1.1\"}};\n",
       "  var render_items = [{\"docid\":\"5c5216a5-2f52-43f3-b7d4-0ffaa672f9a8\",\"root_ids\":[\"1102\"],\"roots\":{\"1102\":\"5d21ba71-82ee-4c7a-9764-78204f7cbb66\"}}];\n",
       "  root.Bokeh.embed.embed_items_notebook(docs_json, render_items);\n",
       "  }\n",
       "if (root.Bokeh !== undefined) {\n",
       "    embed_document(root);\n",
       "  } else {\n",
       "    var attempts = 0;\n",
       "    var timer = setInterval(function(root) {\n",
       "      if (root.Bokeh !== undefined) {\n",
       "        clearInterval(timer);\n",
       "        embed_document(root);\n",
       "      } else if (document.readyState == \"complete\") {\n",
       "        attempts++;\n",
       "        if (attempts > 100) {\n",
       "          clearInterval(timer);\n",
       "          console.log(\"Bokeh: ERROR: Unable to run BokehJS code because BokehJS library is missing\");\n",
       "        }\n",
       "      }\n",
       "    }, 10, root)\n",
       "  }\n",
       "})(window);</script>"
      ],
      "text/plain": [
       ":Table   [Algorithm,ProofType,TotalCoinsMined,TotalCoinSupply,PC 1,PC 2,PC 3,CoinName,Class]"
      ]
     },
     "execution_count": 158,
     "metadata": {
      "application/vnd.holoviews_exec.v0+json": {
       "id": "1102"
      }
     },
     "output_type": "execute_result"
    }
   ],
   "source": [
    "# Create a table with tradable cryptocurrencies.\n",
    "clustered_df.hvplot.table(sortable=True, selectable=True)"
   ]
  },
  {
   "cell_type": "code",
   "execution_count": 167,
   "metadata": {},
   "outputs": [
    {
     "name": "stdout",
     "output_type": "stream",
     "text": [
      "There are 532 tradable cryptocurrencies.\n"
     ]
    }
   ],
   "source": [
    "# Print the total number of tradable cryptocurrencies.\n",
    "count = clustered_df['Algorithm'].count()\n",
    "print(f'There are {count} tradable cryptocurrencies.')"
   ]
  },
  {
   "cell_type": "code",
   "execution_count": 174,
   "metadata": {},
   "outputs": [
    {
     "name": "stdout",
     "output_type": "stream",
     "text": [
      "[[4.20000000e-11 0.00000000e+00]\n",
      " [5.32000000e-04 1.06585544e-03]\n",
      " [3.14159265e-01 2.95755135e-02]\n",
      " ...\n",
      " [1.40022261e-03 9.90135079e-04]\n",
      " [2.10000000e-05 7.37028150e-06]\n",
      " [1.00000000e-06 1.29582282e-07]]\n"
     ]
    }
   ],
   "source": [
    "# Scaling data to create the scatter plot with tradable cryptocurrencies.\n",
    "scaled_df = MinMaxScaler().fit_transform(clustered_df[['TotalCoinSupply', 'TotalCoinsMined']])\n",
    "print(scaled_df)"
   ]
  },
  {
   "cell_type": "code",
   "execution_count": 178,
   "metadata": {},
   "outputs": [
    {
     "data": {
      "text/html": [
       "<div>\n",
       "<style scoped>\n",
       "    .dataframe tbody tr th:only-of-type {\n",
       "        vertical-align: middle;\n",
       "    }\n",
       "\n",
       "    .dataframe tbody tr th {\n",
       "        vertical-align: top;\n",
       "    }\n",
       "\n",
       "    .dataframe thead th {\n",
       "        text-align: right;\n",
       "    }\n",
       "</style>\n",
       "<table border=\"1\" class=\"dataframe\">\n",
       "  <thead>\n",
       "    <tr style=\"text-align: right;\">\n",
       "      <th></th>\n",
       "      <th>TotalCoinSupply</th>\n",
       "      <th>TotalCoinsMined</th>\n",
       "      <th>CoinName</th>\n",
       "      <th>Class</th>\n",
       "    </tr>\n",
       "  </thead>\n",
       "  <tbody>\n",
       "    <tr>\n",
       "      <th>42</th>\n",
       "      <td>4.200000e-11</td>\n",
       "      <td>0.000000</td>\n",
       "      <td>42 Coin</td>\n",
       "      <td>0</td>\n",
       "    </tr>\n",
       "    <tr>\n",
       "      <th>404</th>\n",
       "      <td>5.320000e-04</td>\n",
       "      <td>0.001066</td>\n",
       "      <td>404Coin</td>\n",
       "      <td>0</td>\n",
       "    </tr>\n",
       "    <tr>\n",
       "      <th>1337</th>\n",
       "      <td>3.141593e-01</td>\n",
       "      <td>0.029576</td>\n",
       "      <td>EliteCoin</td>\n",
       "      <td>2</td>\n",
       "    </tr>\n",
       "    <tr>\n",
       "      <th>BTC</th>\n",
       "      <td>2.100000e-05</td>\n",
       "      <td>0.000018</td>\n",
       "      <td>Bitcoin</td>\n",
       "      <td>0</td>\n",
       "    </tr>\n",
       "    <tr>\n",
       "      <th>ETH</th>\n",
       "      <td>0.000000e+00</td>\n",
       "      <td>0.000109</td>\n",
       "      <td>Ethereum</td>\n",
       "      <td>0</td>\n",
       "    </tr>\n",
       "    <tr>\n",
       "      <th>LTC</th>\n",
       "      <td>8.400000e-05</td>\n",
       "      <td>0.000064</td>\n",
       "      <td>Litecoin</td>\n",
       "      <td>0</td>\n",
       "    </tr>\n",
       "    <tr>\n",
       "      <th>DASH</th>\n",
       "      <td>2.200000e-05</td>\n",
       "      <td>0.000009</td>\n",
       "      <td>Dash</td>\n",
       "      <td>0</td>\n",
       "    </tr>\n",
       "    <tr>\n",
       "      <th>XMR</th>\n",
       "      <td>0.000000e+00</td>\n",
       "      <td>0.000017</td>\n",
       "      <td>Monero</td>\n",
       "      <td>0</td>\n",
       "    </tr>\n",
       "    <tr>\n",
       "      <th>ETC</th>\n",
       "      <td>2.100000e-04</td>\n",
       "      <td>0.000115</td>\n",
       "      <td>Ethereum Classic</td>\n",
       "      <td>0</td>\n",
       "    </tr>\n",
       "    <tr>\n",
       "      <th>ZEC</th>\n",
       "      <td>2.100000e-05</td>\n",
       "      <td>0.000007</td>\n",
       "      <td>ZCash</td>\n",
       "      <td>0</td>\n",
       "    </tr>\n",
       "  </tbody>\n",
       "</table>\n",
       "</div>"
      ],
      "text/plain": [
       "      TotalCoinSupply  TotalCoinsMined          CoinName  Class\n",
       "42       4.200000e-11         0.000000           42 Coin      0\n",
       "404      5.320000e-04         0.001066           404Coin      0\n",
       "1337     3.141593e-01         0.029576         EliteCoin      2\n",
       "BTC      2.100000e-05         0.000018           Bitcoin      0\n",
       "ETH      0.000000e+00         0.000109          Ethereum      0\n",
       "LTC      8.400000e-05         0.000064          Litecoin      0\n",
       "DASH     2.200000e-05         0.000009              Dash      0\n",
       "XMR      0.000000e+00         0.000017            Monero      0\n",
       "ETC      2.100000e-04         0.000115  Ethereum Classic      0\n",
       "ZEC      2.100000e-05         0.000007             ZCash      0"
      ]
     },
     "execution_count": 178,
     "metadata": {},
     "output_type": "execute_result"
    }
   ],
   "source": [
    "# Create a new DataFrame that has the scaled data with the clustered_df DataFrame index.\n",
    "new_df = pd.DataFrame(scaled_df, columns = [\"TotalCoinSupply\",\"TotalCoinsMined\"], index = clustered_df.index)\n",
    "\n",
    "# Add the \"CoinName\" column from the clustered_df DataFrame to the new DataFrame.\n",
    "new_df = pd.concat([new_df,clustered_df['CoinName']],axis =1)\n",
    "\n",
    "# Add the \"Class\" column from the clustered_df DataFrame to the new DataFrame. \n",
    "new_df = pd.concat([new_df,clustered_df[\"Class\"]],axis =1)\n",
    "\n",
    "new_df.head(10)"
   ]
  },
  {
   "cell_type": "code",
   "execution_count": 182,
   "metadata": {},
   "outputs": [
    {
     "data": {},
     "metadata": {},
     "output_type": "display_data"
    },
    {
     "data": {
      "application/vnd.holoviews_exec.v0+json": "",
      "text/html": [
       "<div id='1811'>\n",
       "\n",
       "\n",
       "\n",
       "\n",
       "\n",
       "  <div class=\"bk-root\" id=\"9baa4f9a-37c5-422a-9ec2-5053c7671e43\" data-root-id=\"1811\"></div>\n",
       "</div>\n",
       "<script type=\"application/javascript\">(function(root) {\n",
       "  function embed_document(root) {\n",
       "  var docs_json = {\"4cb091d7-145e-4efa-a8f8-3b73b6e4fffb\":{\"roots\":{\"references\":[{\"attributes\":{\"axis\":{\"id\":\"1832\"},\"dimension\":1,\"grid_line_color\":null,\"ticker\":null},\"id\":\"1835\",\"type\":\"Grid\"},{\"attributes\":{\"label\":{\"value\":\"1\"},\"renderers\":[{\"id\":\"1877\"}]},\"id\":\"1889\",\"type\":\"LegendItem\"},{\"attributes\":{\"label\":{\"value\":\"3\"},\"renderers\":[{\"id\":\"1917\"}]},\"id\":\"1933\",\"type\":\"LegendItem\"},{\"attributes\":{},\"id\":\"1891\",\"type\":\"Selection\"},{\"attributes\":{\"end\":1.1,\"reset_end\":1.1,\"reset_start\":-0.1,\"start\":-0.1,\"tags\":[[[\"TotalCoinSupply\",\"TotalCoinSupply\",null]]]},\"id\":\"1814\",\"type\":\"Range1d\"},{\"attributes\":{\"fill_alpha\":{\"value\":0.1},\"fill_color\":{\"value\":\"#d62628\"},\"line_alpha\":{\"value\":0.1},\"line_color\":{\"value\":\"#d62628\"},\"size\":{\"units\":\"screen\",\"value\":5.477225575051661},\"x\":{\"field\":\"TotalCoinsMined\"},\"y\":{\"field\":\"TotalCoinSupply\"}},\"id\":\"1915\",\"type\":\"Scatter\"},{\"attributes\":{\"fill_alpha\":{\"value\":0.1},\"fill_color\":{\"value\":\"#ff7e0e\"},\"line_alpha\":{\"value\":0.1},\"line_color\":{\"value\":\"#ff7e0e\"},\"size\":{\"units\":\"screen\",\"value\":5.477225575051661},\"x\":{\"field\":\"TotalCoinsMined\"},\"y\":{\"field\":\"TotalCoinSupply\"}},\"id\":\"1875\",\"type\":\"Scatter\"},{\"attributes\":{\"fill_color\":{\"value\":\"#2ba02b\"},\"line_color\":{\"value\":\"#2ba02b\"},\"size\":{\"units\":\"screen\",\"value\":5.477225575051661},\"x\":{\"field\":\"TotalCoinsMined\"},\"y\":{\"field\":\"TotalCoinSupply\"}},\"id\":\"1893\",\"type\":\"Scatter\"},{\"attributes\":{},\"id\":\"1850\",\"type\":\"BasicTickFormatter\"},{\"attributes\":{\"data_source\":{\"id\":\"1871\"},\"glyph\":{\"id\":\"1874\"},\"hover_glyph\":null,\"muted_glyph\":{\"id\":\"1876\"},\"nonselection_glyph\":{\"id\":\"1875\"},\"selection_glyph\":null,\"view\":{\"id\":\"1878\"}},\"id\":\"1877\",\"type\":\"GlyphRenderer\"},{\"attributes\":{},\"id\":\"1829\",\"type\":\"BasicTicker\"},{\"attributes\":{\"source\":{\"id\":\"1871\"}},\"id\":\"1878\",\"type\":\"CDSView\"},{\"attributes\":{\"axis\":{\"id\":\"1828\"},\"grid_line_color\":null,\"ticker\":null},\"id\":\"1831\",\"type\":\"Grid\"},{\"attributes\":{\"data\":{\"Class\":[0,0,0,0,0,0,0,0,0,0,0,0,0,0,0,0,0,0,0,0,0,0,0,0,0,0,0,0,0,0,0,0,0,0,0,0,0,0,0,0,0,0,0,0,0,0,0,0,0,0,0,0,0,0,0,0,0,0,0,0,0,0,0,0,0,0,0,0,0,0,0,0,0,0,0,0,0,0,0,0,0,0,0,0,0,0,0,0,0,0,0,0,0,0,0,0,0,0,0,0,0,0,0,0,0,0,0,0,0,0,0,0,0,0,0,0,0,0,0,0,0,0,0,0,0,0,0,0,0,0,0,0,0,0,0,0,0,0,0,0,0,0,0,0,0,0,0,0,0,0,0,0,0,0,0,0,0,0,0,0,0,0,0,0,0,0,0,0,0,0,0,0,0,0,0,0,0,0,0,0,0,0,0,0,0,0,0,0,0,0,0,0,0,0,0,0,0,0,0,0,0,0,0,0,0,0,0,0,0,0,0,0,0,0,0,0,0,0,0,0,0,0,0,0,0,0,0,0,0,0,0,0,0,0,0,0,0,0,0,0,0,0,0,0,0,0,0,0,0,0,0,0,0,0,0,0,0,0,0,0,0,0,0,0,0,0,0,0,0,0,0,0,0,0,0,0,0,0,0,0,0,0,0,0,0,0,0,0,0,0,0,0,0,0,0,0,0,0,0,0,0,0,0,0,0,0,0,0,0,0,0,0,0,0,0,0,0,0,0,0,0,0,0,0,0,0,0,0,0,0,0,0,0,0,0,0,0,0,0,0,0,0,0,0,0,0,0,0,0,0,0,0,0,0,0,0,0,0,0,0,0,0,0,0,0,0,0,0,0,0,0,0,0,0,0,0,0,0,0,0,0,0,0,0,0,0,0,0,0,0,0,0,0,0,0,0,0,0,0,0,0,0,0,0,0,0,0,0,0,0,0,0,0,0,0,0,0,0,0,0,0,0,0,0,0,0,0,0,0,0,0,0,0,0,0,0,0,0,0,0,0,0,0,0,0,0,0,0,0,0,0,0,0,0,0,0,0,0,0,0,0,0,0,0,0,0,0,0,0,0,0,0,0,0,0,0,0,0,0,0,0,0,0,0,0,0,0,0,0,0,0,0,0,0,0,0,0,0,0,0,0,0,0,0,0,0,0,0,0,0,0,0,0,0,0,0,0,0,0,0,0,0,0,0],\"CoinName\":[\"42 Coin\",\"404Coin\",\"Bitcoin\",\"Ethereum\",\"Litecoin\",\"Dash\",\"Monero\",\"Ethereum Classic\",\"ZCash\",\"Bitshares\",\"DigiByte\",\"BitcoinDark\",\"PayCoin\",\"ProsperCoin\",\"KoboCoin\",\"Spreadcoin\",\"Argentum\",\"Aurora Coin\",\"BlueCoin\",\"MyriadCoin\",\"ZetaCoin\",\"SexCoin\",\"Quatloo\",\"EnergyCoin\",\"QuarkCoin\",\"Riecoin\",\"Digitalcoin \",\"BitBar\",\"Catcoin\",\"CryptoBullion\",\"CannaCoin\",\"CryptCoin\",\"CasinoCoin\",\"Diamond\",\"Verge\",\"DevCoin\",\"EarthCoin\",\"E-Gulden\",\"Einsteinium\",\"Emerald\",\"Exclusive Coin\",\"FlutterCoin\",\"Franko\",\"FeatherCoin\",\"GrandCoin\",\"GlobalCoin\",\"GoldCoin\",\"HoboNickels\",\"HyperStake\",\"Infinite Coin\",\"IOCoin\",\"IXcoin\",\"KrugerCoin\",\"LuckyCoin\",\"Litebar \",\"MaxCoin\",\"MegaCoin\",\"MediterraneanCoin\",\"MintCoin\",\"MinCoin\",\"MazaCoin\",\"Nautilus Coin\",\"NavCoin\",\"NobleCoin\",\"Namecoin\",\"NyanCoin\",\"OpalCoin\",\"Orbitcoin\",\"PotCoin\",\"PhoenixCoin\",\"Reddcoin\",\"RonPaulCoin\",\"StableCoin\",\"SmartCoin\",\"SuperCoin\",\"SyncCoin\",\"SysCoin\",\"TeslaCoin\",\"TigerCoin\",\"TittieCoin\",\"TorCoin\",\"TerraCoin\",\"UnbreakableCoin\",\"Unobtanium\",\"UroCoin\",\"UnitaryStatus Dollar\",\"UltraCoin\",\"ViaCoin\",\"VeriCoin\",\"Vertcoin\",\"WorldCoin\",\"X11 Coin\",\"Crypti\",\"JouleCoin\",\"StealthCoin\",\"ZCC Coin\",\"DigitalNote \",\"BurstCoin\",\"StorjCoin\",\"MonaCoin\",\"Neutron\",\"FairCoin\",\"Gulden\",\"RubyCoin\",\"PesetaCoin\",\"Kore\",\"Wild Beast Coin\",\"Dnotes\",\"Flo\",\"8BIT Coin\",\"Sativa Coin\",\"ArtByte\",\"Folding Coin\",\"Ucoin\",\"Unitus\",\"CypherPunkCoin\",\"OmniCron\",\"Vtorrent\",\"GreenCoin\",\"Cryptonite\",\"MasterCoin\",\"SoonCoin\",\"1Credit\",\"IslaCoin\",\"Nexus\",\"MarsCoin \",\"Crypto\",\"Anarchists Prime\",\"Droidz\",\"BowsCoin\",\"Squall Coin\",\"Song Coin\",\"BitZeny\",\"Diggits\",\"Expanse\",\"Paycon\",\"Siacoin\",\"Emercoin\",\"EverGreenCoin\",\"MindCoin\",\"I0coin\",\"Decred\",\"Revolution VR\",\"HOdlcoin\",\"EDRCoin\",\"Hitcoin\",\"Gamecredits\",\"DubaiCoin\",\"CarpeDiemCoin\",\"PWR Coin\",\"BillaryCoin\",\"GPU Coin\",\"Adzcoin\",\"SoilCoin\",\"YoCoin\",\"SibCoin\",\"EuropeCoin\",\"ZeitCoin\",\"SwingCoin\",\"SafeExchangeCoin\",\"Nebuchadnezzar\",\"Francs\",\"BolivarCoin\",\"Ratecoin\",\"Revenu\",\"Clockcoin\",\"VIP Tokens\",\"BitSend\",\"Omni\",\"Let it Ride\",\"PutinCoin\",\"iBankCoin\",\"Frankywillcoin\",\"MudraCoin\",\"PizzaCoin\",\"Lutetium Coin\",\"Komodo\",\"GoldBlocks\",\"CarterCoin\",\"Karbo\",\"BitTokens\",\"ZayedCoin\",\"MustangCoin\",\"ZoneCoin\",\"Circuits of Value\",\"RootCoin\",\"DopeCoin\",\"BitCurrency\",\"DollarCoin\",\"Swiscoin\",\"Shilling\",\"BuzzCoin\",\"Opair\",\"PesoBit\",\"Halloween Coin\",\"ZCoin\",\"CoffeeCoin\",\"RoyalCoin\",\"GanjaCoin V2\",\"TeamUP\",\"LanaCoin\",\"Elementrem\",\"ZClassic\",\"ARK\",\"InsaneCoin\",\"KiloCoin\",\"ArtexCoin\",\"EmberCoin\",\"XenixCoin\",\"FreeCoin\",\"PLNCoin\",\"AquariusCoin\",\"Kurrent\",\"Creatio\",\"Eternity\",\"Eurocoin\",\"BitcoinFast\",\"Stakenet\",\"BitConnect Coin\",\"MoneyCoin\",\"Enigma\",\"Cannabis Industry Coin\",\"Russiacoin\",\"PandaCoin\",\"GameUnits\",\"GAKHcoin\",\"Allsafe\",\"LiteCreed\",\"OsmiumCoin\",\"Bikercoins\",\"HexxCoin\",\"Klingon Empire Darsek\",\"Internet of People\",\"KushCoin\",\"Printerium\",\"PacCoin\",\"Impeach\",\"Citadel\",\"Zilbercoin\",\"FirstCoin\",\"BeaverCoin\",\"FindCoin\",\"VaultCoin\",\"Zero\",\"OpenChat\",\"Canada eCoin\",\"Zoin\",\"RenosCoin\",\"DubaiCoin\",\"VirtacoinPlus\",\"TajCoin\",\"Impact\",\"EB3coin\",\"Atmos\",\"HappyCoin\",\"Coinonat\",\"MacronCoin\",\"Condensate\",\"Independent Money System\",\"ArgusCoin\",\"LomoCoin\",\"ProCurrency\",\"GoldReserve\",\"BenjiRolls\",\"GrowthCoin\",\"ILCoin\",\"Phreak\",\"Degas Coin\",\"HTML5 Coin\",\"Ultimate Secure Cash\",\"EquiTrader\",\"QTUM\",\"Quantum Resistant Ledger\",\"Espers\",\"Dynamic\",\"Nano\",\"ChanCoin\",\"Dinastycoin\",\"Denarius\",\"DigitalPrice\",\"Virta Unique Coin\",\"Bitcoin Planet\",\"Unify\",\"BritCoin\",\"SocialCoin\",\"ArcticCoin\",\"DAS\",\"Linda\",\"LeviarCoin\",\"DeepOnion\",\"Bitcore\",\"SmartCash\",\"Signatum\",\"Onix\",\"Cream\",\"Bitcoin Cash\",\"Monoeci\",\"Draftcoin\",\"Vechain\",\"Sojourn Coin\",\"Stakecoin\",\"NewYorkCoin\",\"FrazCoin\",\"Kronecoin\",\"AdCoin\",\"Linx\",\"CoinonatX\",\"Ethereum Dark\",\"Sumokoin\",\"Obsidian\",\"Cardano\",\"Regalcoin\",\"BitcoinZ\",\"TrezarCoin\",\"Elements\",\"TerraNovaCoin\",\"VIVO Coin\",\"Rupee\",\"Bitcoin Gold\",\"WomenCoin\",\"Theresa May Coin\",\"NamoCoin\",\"LUXCoin\",\"Pirl\",\"Xios\",\"Bitcloud 2.0\",\"eBoost\",\"KekCoin\",\"BlackholeCoin\",\"Infinity Economics\",\"Pura\",\"Innova\",\"Ellaism\",\"GoByte\",\"Magnet\",\"Lamden Tau\",\"Electra\",\"Bitcoin Diamond\",\"SHIELD\",\"Cash & Back Coin\",\"UltraNote\",\"BitCoal\",\"DaxxCoin\",\"Bulwark\",\"Kalkulus\",\"AC3\",\"Lethean\",\"GermanCoin\",\"LiteCoin Ultra\",\"PopularCoin\",\"PhantomX\",\"Photon\",\"Sucre\",\"SparksPay\",\"Digiwage\",\"GunCoin\",\"IrishCoin\",\"Trollcoin\",\"Litecoin Plus\",\"Monkey Project\",\"Pioneer Coin\",\"UnitedBitcoin\",\"Interzone\",\"TokenPay\",\"1717 Masonic Commemorative Token\",\"My Big Coin\",\"MUNcoin\",\"Unified Society USDEX\",\"Niobio Cash\",\"ShareChain\",\"Travelflex\",\"KREDS\",\"Tokyo Coin\",\"BiblePay\",\"LitecoinCash\",\"BitFlip\",\"LottoCoin\",\"Crypto Improvement Fund\",\"Stipend\",\"Poa Network\",\"Pushi\",\"Ellerium\",\"Velox\",\"Ontology\",\"Callisto Network\",\"BitTube\",\"Poseidon\",\"Aidos Kuneen\",\"Bitspace\",\"Briacoin\",\"Ignition\",\"Bitrolium\",\"MedicCoin\",\"Alpenschillling\",\"Bitcoin Green\",\"Deviant Coin\",\"Abjcoin\",\"Semux\",\"FuturoCoin\",\"Carebit\",\"Zealium\",\"Monero Classic\",\"Proton\",\"iDealCash\",\"Jumpcoin\",\"Infinex\",\"Bitcoin Incognito\",\"KEYCO\",\"HollyWoodCoin\",\"GINcoin\",\"PlatinCoin\",\"Loki\",\"Swisscoin\",\"Xt3ch\",\"MassGrid\",\"TheVig\",\"PluraCoin\",\"EmaratCoin\",\"Dekado\",\"Lynx\",\"Poseidon Quark\",\"BitcoinWSpectrum\",\"Muse\",\"Motion\",\"PlusOneCoin\",\"Axe\",\"Trivechain\",\"Dystem\",\"Giant\",\"Peony Coin\",\"Absolute Coin\",\"Vitae\",\"HexCoin\",\"TPCash\",\"Webchain\",\"Ryo\",\"Urals Coin\",\"ARENON\",\"EUNO\",\"MMOCoin\",\"Ketan\",\"Project Pai\",\"XDNA\",\"PAXEX\",\"Azart\",\"ThunderStake\",\"Kcash\",\"Xchange\",\"Acute Angle Cloud\",\"CrypticCoin\",\"Bettex coin\",\"Actinium\",\"Bitcoin SV\",\"BitMoney\",\"Junson Ming Chan Coin\",\"FREDEnergy\",\"HerbCoin\",\"Universal Molecule\",\"Lithium\",\"PirateCash\",\"Exosis\",\"Block-Logic\",\"Oduwa\",\"Beam\",\"Galilel\",\"Bithereum\",\"Crypto Sports\",\"Credit\",\"SLICE\",\"Dash Platinum\",\"Nasdacoin\",\"Beetle Coin\",\"Titan Coin\",\"Award\",\"BLAST\",\"Bitcoin Rhodium\",\"GlobalToken\",\"Insane Coin\",\"ALAX\",\"LiteDoge\",\"SolarCoin\",\"TruckCoin\",\"UFO Coin\",\"OrangeCoin\",\"BlakeCoin\",\"BitstarCoin\",\"NeosCoin\",\"HyperCoin\",\"PinkCoin\",\"Crypto Escudo\",\"AudioCoin\",\"IncaKoin\",\"Piggy Coin\",\"Crown Coin\",\"Genstake\",\"SmileyCoin\",\"XiaoMiCoin\",\"Groestlcoin\",\"CapriCoin\",\" ClubCoin\",\"Radium\",\"Bata\",\"Pakcoin\",\"Creditbit \",\"OKCash\",\"Lisk\",\"HiCoin\",\"WhiteCoin\",\"FriendshipCoin\",\"JoinCoin\",\"Triangles Coin\",\"Vollar\",\"EOS\",\"Reality Clash\",\"Oxycoin\",\"TigerCash\",\"Waves\",\"Particl\",\"Nxt\",\"ZEPHYR\",\"Gapcoin\",\"Beldex\",\"Horizen\",\"BitcoinPlus\"],\"TotalCoinSupply\":{\"__ndarray__\":\"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\",\"dtype\":\"float64\",\"order\":\"little\",\"shape\":[524]},\"TotalCoinsMined\":{\"__ndarray__\":\"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\",\"dtype\":\"float64\",\"order\":\"little\",\"shape\":[524]}},\"selected\":{\"id\":\"1854\"},\"selection_policy\":{\"id\":\"1867\"}},\"id\":\"1853\",\"type\":\"ColumnDataSource\"},{\"attributes\":{\"data\":{\"Class\":[1],\"CoinName\":[\"TurtleCoin\"],\"TotalCoinSupply\":{\"__ndarray__\":\"AAAAAAAA8D8=\",\"dtype\":\"float64\",\"order\":\"little\",\"shape\":[1]},\"TotalCoinsMined\":{\"__ndarray__\":\"rV/sZZR7qz8=\",\"dtype\":\"float64\",\"order\":\"little\",\"shape\":[1]}},\"selected\":{\"id\":\"1872\"},\"selection_policy\":{\"id\":\"1887\"}},\"id\":\"1871\",\"type\":\"ColumnDataSource\"},{\"attributes\":{\"data\":{\"Class\":[3],\"CoinName\":[\"BitTorrent\"],\"TotalCoinSupply\":{\"__ndarray__\":\"rkfhehSu7z8=\",\"dtype\":\"float64\",\"order\":\"little\",\"shape\":[1]},\"TotalCoinsMined\":{\"__ndarray__\":\"AAAAAAAA8D8=\",\"dtype\":\"float64\",\"order\":\"little\",\"shape\":[1]}},\"selected\":{\"id\":\"1912\"},\"selection_policy\":{\"id\":\"1931\"}},\"id\":\"1911\",\"type\":\"ColumnDataSource\"},{\"attributes\":{},\"id\":\"1912\",\"type\":\"Selection\"},{\"attributes\":{},\"id\":\"1833\",\"type\":\"BasicTicker\"},{\"attributes\":{\"axis_label\":\"TotalCoinSupply\",\"bounds\":\"auto\",\"formatter\":{\"id\":\"1852\"},\"major_label_orientation\":\"horizontal\",\"ticker\":{\"id\":\"1833\"}},\"id\":\"1832\",\"type\":\"LinearAxis\"},{\"attributes\":{\"label\":{\"value\":\"2\"},\"renderers\":[{\"id\":\"1896\"}]},\"id\":\"1910\",\"type\":\"LegendItem\"},{\"attributes\":{\"margin\":[5,5,5,5],\"name\":\"HSpacer03486\",\"sizing_mode\":\"stretch_width\"},\"id\":\"1812\",\"type\":\"Spacer\"},{\"attributes\":{},\"id\":\"1887\",\"type\":\"UnionRenderers\"},{\"attributes\":{\"margin\":[5,5,5,5],\"name\":\"HSpacer03487\",\"sizing_mode\":\"stretch_width\"},\"id\":\"2060\",\"type\":\"Spacer\"},{\"attributes\":{\"fill_alpha\":{\"value\":0.2},\"fill_color\":{\"value\":\"#d62628\"},\"line_alpha\":{\"value\":0.2},\"line_color\":{\"value\":\"#d62628\"},\"size\":{\"units\":\"screen\",\"value\":5.477225575051661},\"x\":{\"field\":\"TotalCoinsMined\"},\"y\":{\"field\":\"TotalCoinSupply\"}},\"id\":\"1916\",\"type\":\"Scatter\"},{\"attributes\":{},\"id\":\"1854\",\"type\":\"Selection\"},{\"attributes\":{},\"id\":\"1931\",\"type\":\"UnionRenderers\"},{\"attributes\":{\"bottom_units\":\"screen\",\"fill_alpha\":0.5,\"fill_color\":\"lightgrey\",\"left_units\":\"screen\",\"level\":\"overlay\",\"line_alpha\":1.0,\"line_color\":\"black\",\"line_dash\":[4,4],\"line_width\":2,\"right_units\":\"screen\",\"top_units\":\"screen\"},\"id\":\"1841\",\"type\":\"BoxAnnotation\"},{\"attributes\":{\"fill_alpha\":{\"value\":0.1},\"fill_color\":{\"value\":\"#2ba02b\"},\"line_alpha\":{\"value\":0.1},\"line_color\":{\"value\":\"#2ba02b\"},\"size\":{\"units\":\"screen\",\"value\":5.477225575051661},\"x\":{\"field\":\"TotalCoinsMined\"},\"y\":{\"field\":\"TotalCoinSupply\"}},\"id\":\"1894\",\"type\":\"Scatter\"},{\"attributes\":{\"data\":{\"Class\":[2,2,2,2,2,2],\"CoinName\":[\"EliteCoin\",\"MoonCoin\",\"ByteCoin\",\"gCn Coin\",\"Newton Coin\",\"Qwertycoin\"],\"TotalCoinSupply\":{\"__ndarray__\":\"VfKcdi8b1D/6fmq8dJPYPzgbkQyhnMc/mZmZmZmZyT9aZDvfT43HP1vri4S2nMc/\",\"dtype\":\"float64\",\"order\":\"little\",\"shape\":[6]},\"TotalCoinsMined\":{\"__ndarray__\":\"SAVfHQtJnj+KZPYUZovJPVhQT91+zMc/GB33QgUVxT+DWcI4SlulP7iw3DhKvrk/\",\"dtype\":\"float64\",\"order\":\"little\",\"shape\":[6]}},\"selected\":{\"id\":\"1891\"},\"selection_policy\":{\"id\":\"1908\"}},\"id\":\"1890\",\"type\":\"ColumnDataSource\"},{\"attributes\":{\"source\":{\"id\":\"1911\"}},\"id\":\"1918\",\"type\":\"CDSView\"},{\"attributes\":{\"fill_color\":{\"value\":\"#1f77b3\"},\"line_color\":{\"value\":\"#1f77b3\"},\"size\":{\"units\":\"screen\",\"value\":5.477225575051661},\"x\":{\"field\":\"TotalCoinsMined\"},\"y\":{\"field\":\"TotalCoinSupply\"}},\"id\":\"1856\",\"type\":\"Scatter\"},{\"attributes\":{\"data_source\":{\"id\":\"1890\"},\"glyph\":{\"id\":\"1893\"},\"hover_glyph\":null,\"muted_glyph\":{\"id\":\"1895\"},\"nonselection_glyph\":{\"id\":\"1894\"},\"selection_glyph\":null,\"view\":{\"id\":\"1897\"}},\"id\":\"1896\",\"type\":\"GlyphRenderer\"},{\"attributes\":{\"active_drag\":\"auto\",\"active_inspect\":\"auto\",\"active_multi\":null,\"active_scroll\":\"auto\",\"active_tap\":\"auto\",\"tools\":[{\"id\":\"1815\"},{\"id\":\"1836\"},{\"id\":\"1837\"},{\"id\":\"1838\"},{\"id\":\"1839\"},{\"id\":\"1840\"}]},\"id\":\"1842\",\"type\":\"Toolbar\"},{\"attributes\":{\"data_source\":{\"id\":\"1911\"},\"glyph\":{\"id\":\"1914\"},\"hover_glyph\":null,\"muted_glyph\":{\"id\":\"1916\"},\"nonselection_glyph\":{\"id\":\"1915\"},\"selection_glyph\":null,\"view\":{\"id\":\"1918\"}},\"id\":\"1917\",\"type\":\"GlyphRenderer\"},{\"attributes\":{},\"id\":\"1836\",\"type\":\"SaveTool\"},{\"attributes\":{\"source\":{\"id\":\"1890\"}},\"id\":\"1897\",\"type\":\"CDSView\"},{\"attributes\":{\"callback\":null,\"renderers\":[{\"id\":\"1859\"},{\"id\":\"1877\"},{\"id\":\"1896\"},{\"id\":\"1917\"}],\"tags\":[\"hv_created\"],\"tooltips\":[[\"Class\",\"@{Class}\"],[\"TotalCoinsMined\",\"@{TotalCoinsMined}\"],[\"TotalCoinSupply\",\"@{TotalCoinSupply}\"],[\"CoinName\",\"@{CoinName}\"]]},\"id\":\"1815\",\"type\":\"HoverTool\"},{\"attributes\":{\"fill_alpha\":{\"value\":0.1},\"fill_color\":{\"value\":\"#1f77b3\"},\"line_alpha\":{\"value\":0.1},\"line_color\":{\"value\":\"#1f77b3\"},\"size\":{\"units\":\"screen\",\"value\":5.477225575051661},\"x\":{\"field\":\"TotalCoinsMined\"},\"y\":{\"field\":\"TotalCoinSupply\"}},\"id\":\"1857\",\"type\":\"Scatter\"},{\"attributes\":{},\"id\":\"1837\",\"type\":\"PanTool\"},{\"attributes\":{},\"id\":\"1852\",\"type\":\"BasicTickFormatter\"},{\"attributes\":{\"data_source\":{\"id\":\"1853\"},\"glyph\":{\"id\":\"1856\"},\"hover_glyph\":null,\"muted_glyph\":{\"id\":\"1858\"},\"nonselection_glyph\":{\"id\":\"1857\"},\"selection_glyph\":null,\"view\":{\"id\":\"1860\"}},\"id\":\"1859\",\"type\":\"GlyphRenderer\"},{\"attributes\":{},\"id\":\"1824\",\"type\":\"LinearScale\"},{\"attributes\":{\"fill_alpha\":{\"value\":0.2},\"fill_color\":{\"value\":\"#2ba02b\"},\"line_alpha\":{\"value\":0.2},\"line_color\":{\"value\":\"#2ba02b\"},\"size\":{\"units\":\"screen\",\"value\":5.477225575051661},\"x\":{\"field\":\"TotalCoinsMined\"},\"y\":{\"field\":\"TotalCoinSupply\"}},\"id\":\"1895\",\"type\":\"Scatter\"},{\"attributes\":{},\"id\":\"1838\",\"type\":\"WheelZoomTool\"},{\"attributes\":{\"source\":{\"id\":\"1853\"}},\"id\":\"1860\",\"type\":\"CDSView\"},{\"attributes\":{},\"id\":\"1872\",\"type\":\"Selection\"},{\"attributes\":{\"fill_alpha\":{\"value\":0.2},\"fill_color\":{\"value\":\"#1f77b3\"},\"line_alpha\":{\"value\":0.2},\"line_color\":{\"value\":\"#1f77b3\"},\"size\":{\"units\":\"screen\",\"value\":5.477225575051661},\"x\":{\"field\":\"TotalCoinsMined\"},\"y\":{\"field\":\"TotalCoinSupply\"}},\"id\":\"1858\",\"type\":\"Scatter\"},{\"attributes\":{\"overlay\":{\"id\":\"1841\"}},\"id\":\"1839\",\"type\":\"BoxZoomTool\"},{\"attributes\":{\"click_policy\":\"mute\",\"items\":[{\"id\":\"1870\"},{\"id\":\"1889\"},{\"id\":\"1910\"},{\"id\":\"1933\"}],\"location\":[0,0],\"title\":\"Class\"},\"id\":\"1869\",\"type\":\"Legend\"},{\"attributes\":{},\"id\":\"1908\",\"type\":\"UnionRenderers\"},{\"attributes\":{\"fill_color\":{\"value\":\"#ff7e0e\"},\"line_color\":{\"value\":\"#ff7e0e\"},\"size\":{\"units\":\"screen\",\"value\":5.477225575051661},\"x\":{\"field\":\"TotalCoinsMined\"},\"y\":{\"field\":\"TotalCoinSupply\"}},\"id\":\"1874\",\"type\":\"Scatter\"},{\"attributes\":{},\"id\":\"1867\",\"type\":\"UnionRenderers\"},{\"attributes\":{\"below\":[{\"id\":\"1828\"}],\"center\":[{\"id\":\"1831\"},{\"id\":\"1835\"}],\"left\":[{\"id\":\"1832\"}],\"margin\":null,\"min_border_bottom\":10,\"min_border_left\":10,\"min_border_right\":10,\"min_border_top\":10,\"plot_height\":300,\"plot_width\":700,\"renderers\":[{\"id\":\"1859\"},{\"id\":\"1877\"},{\"id\":\"1896\"},{\"id\":\"1917\"}],\"right\":[{\"id\":\"1869\"}],\"sizing_mode\":\"fixed\",\"title\":{\"id\":\"1820\"},\"toolbar\":{\"id\":\"1842\"},\"x_range\":{\"id\":\"1813\"},\"x_scale\":{\"id\":\"1824\"},\"y_range\":{\"id\":\"1814\"},\"y_scale\":{\"id\":\"1826\"}},\"id\":\"1819\",\"subtype\":\"Figure\",\"type\":\"Plot\"},{\"attributes\":{\"end\":1.042857142857143,\"reset_end\":1.042857142857143,\"reset_start\":-0.04285714285714286,\"start\":-0.04285714285714286,\"tags\":[[[\"TotalCoinsMined\",\"TotalCoinsMined\",null]]]},\"id\":\"1813\",\"type\":\"Range1d\"},{\"attributes\":{\"children\":[{\"id\":\"1812\"},{\"id\":\"1819\"},{\"id\":\"2060\"}],\"margin\":[0,0,0,0],\"name\":\"Row03482\",\"tags\":[\"embedded\"]},\"id\":\"1811\",\"type\":\"Row\"},{\"attributes\":{\"text\":\"\",\"text_color\":{\"value\":\"black\"},\"text_font_size\":{\"value\":\"12pt\"}},\"id\":\"1820\",\"type\":\"Title\"},{\"attributes\":{\"label\":{\"value\":\"0\"},\"renderers\":[{\"id\":\"1859\"}]},\"id\":\"1870\",\"type\":\"LegendItem\"},{\"attributes\":{\"fill_color\":{\"value\":\"#d62628\"},\"line_color\":{\"value\":\"#d62628\"},\"size\":{\"units\":\"screen\",\"value\":5.477225575051661},\"x\":{\"field\":\"TotalCoinsMined\"},\"y\":{\"field\":\"TotalCoinSupply\"}},\"id\":\"1914\",\"type\":\"Scatter\"},{\"attributes\":{\"axis_label\":\"TotalCoinsMined\",\"bounds\":\"auto\",\"formatter\":{\"id\":\"1850\"},\"major_label_orientation\":\"horizontal\",\"ticker\":{\"id\":\"1829\"}},\"id\":\"1828\",\"type\":\"LinearAxis\"},{\"attributes\":{},\"id\":\"1840\",\"type\":\"ResetTool\"},{\"attributes\":{\"fill_alpha\":{\"value\":0.2},\"fill_color\":{\"value\":\"#ff7e0e\"},\"line_alpha\":{\"value\":0.2},\"line_color\":{\"value\":\"#ff7e0e\"},\"size\":{\"units\":\"screen\",\"value\":5.477225575051661},\"x\":{\"field\":\"TotalCoinsMined\"},\"y\":{\"field\":\"TotalCoinSupply\"}},\"id\":\"1876\",\"type\":\"Scatter\"},{\"attributes\":{},\"id\":\"1826\",\"type\":\"LinearScale\"}],\"root_ids\":[\"1811\"]},\"title\":\"Bokeh Application\",\"version\":\"2.1.1\"}};\n",
       "  var render_items = [{\"docid\":\"4cb091d7-145e-4efa-a8f8-3b73b6e4fffb\",\"root_ids\":[\"1811\"],\"roots\":{\"1811\":\"9baa4f9a-37c5-422a-9ec2-5053c7671e43\"}}];\n",
       "  root.Bokeh.embed.embed_items_notebook(docs_json, render_items);\n",
       "  }\n",
       "if (root.Bokeh !== undefined) {\n",
       "    embed_document(root);\n",
       "  } else {\n",
       "    var attempts = 0;\n",
       "    var timer = setInterval(function(root) {\n",
       "      if (root.Bokeh !== undefined) {\n",
       "        clearInterval(timer);\n",
       "        embed_document(root);\n",
       "      } else if (document.readyState == \"complete\") {\n",
       "        attempts++;\n",
       "        if (attempts > 100) {\n",
       "          clearInterval(timer);\n",
       "          console.log(\"Bokeh: ERROR: Unable to run BokehJS code because BokehJS library is missing\");\n",
       "        }\n",
       "      }\n",
       "    }, 10, root)\n",
       "  }\n",
       "})(window);</script>"
      ],
      "text/plain": [
       ":NdOverlay   [Class]\n",
       "   :Scatter   [TotalCoinsMined]   (TotalCoinSupply,CoinName)"
      ]
     },
     "execution_count": 182,
     "metadata": {
      "application/vnd.holoviews_exec.v0+json": {
       "id": "1811"
      }
     },
     "output_type": "execute_result"
    }
   ],
   "source": [
    "# Create a hvplot.scatter plot using x=\"TotalCoinsMined\" and y=\"TotalCoinSupply\".\n",
    "new_df.hvplot.scatter(x=\"TotalCoinsMined\", y=\"TotalCoinSupply\", by=\"Class\",hover_cols = [\"CoinName\"])"
   ]
  }
 ],
 "metadata": {
  "file_extension": ".py",
  "kernelspec": {
   "display_name": "PythonData",
   "language": "python",
   "name": "pythondata"
  },
  "language_info": {
   "codemirror_mode": {
    "name": "ipython",
    "version": 3
   },
   "file_extension": ".py",
   "mimetype": "text/x-python",
   "name": "python",
   "nbconvert_exporter": "python",
   "pygments_lexer": "ipython3",
   "version": "3.7.7"
  },
  "latex_envs": {
   "LaTeX_envs_menu_present": true,
   "autoclose": false,
   "autocomplete": true,
   "bibliofile": "biblio.bib",
   "cite_by": "apalike",
   "current_citInitial": 1,
   "eqLabelWithNumbers": true,
   "eqNumInitial": 1,
   "hotkeys": {
    "equation": "Ctrl-E",
    "itemize": "Ctrl-I"
   },
   "labels_anchors": false,
   "latex_user_defs": false,
   "report_style_numbering": false,
   "user_envs_cfg": false
  },
  "mimetype": "text/x-python",
  "name": "python",
  "npconvert_exporter": "python",
  "pygments_lexer": "ipython3",
  "version": 3
 },
 "nbformat": 4,
 "nbformat_minor": 2
}
